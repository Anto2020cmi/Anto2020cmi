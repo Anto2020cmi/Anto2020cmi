{
  "nbformat": 4,
  "nbformat_minor": 0,
  "metadata": {
    "accelerator": "GPU",
    "colab": {
      "name": "W1D4_Tutorial1",
      "provenance": [],
      "collapsed_sections": [],
      "include_colab_link": true
    },
    "kernel": {
      "display_name": "Python 3",
      "language": "python",
      "name": "python3"
    },
    "kernelspec": {
      "display_name": "Python 3",
      "language": "python",
      "name": "python3"
    },
    "language_info": {
      "codemirror_mode": {
        "name": "ipython",
        "version": 3
      },
      "file_extension": ".py",
      "mimetype": "text/x-python",
      "name": "python",
      "nbconvert_exporter": "python",
      "pygments_lexer": "ipython3",
      "version": "3.7.11"
    },
    "toc-autonumbering": true,
    "varInspector": {
      "cols": {
        "lenName": 16,
        "lenType": 16,
        "lenVar": 40
      },
      "kernels_config": {
        "python": {
          "delete_cmd_postfix": "",
          "delete_cmd_prefix": "del ",
          "library": "var_list.py",
          "varRefreshCmd": "print(var_dic_list())"
        },
        "r": {
          "delete_cmd_postfix": ") ",
          "delete_cmd_prefix": "rm(",
          "library": "var_list.r",
          "varRefreshCmd": "cat(var_dic_list()) "
        }
      },
      "types_to_exclude": [
        "module",
        "function",
        "builtin_function_or_method",
        "instance",
        "_Feature"
      ],
      "window_display": false
    },
    "widgets": {
      "application/vnd.jupyter.widget-state+json": {
        "38b2c4d58c8c4ab0a909991667000ca0": {
          "model_module": "@jupyter-widgets/controls",
          "model_name": "TabModel",
          "state": {
            "_view_name": "TabView",
            "_dom_classes": [],
            "_titles": {
              "0": "Youtube",
              "1": "Bilibili"
            },
            "_model_name": "TabModel",
            "_view_module": "@jupyter-widgets/controls",
            "selected_index": 0,
            "_model_module_version": "1.5.0",
            "_view_count": null,
            "_view_module_version": "1.5.0",
            "box_style": "",
            "layout": "IPY_MODEL_97aaed1e452a4cc19ea975ea5183b154",
            "_model_module": "@jupyter-widgets/controls",
            "children": [
              "IPY_MODEL_8779f3abefbb477085f9c5b80107b213",
              "IPY_MODEL_be6887bed80e4eababe4894bf69c0cd7"
            ]
          }
        },
        "97aaed1e452a4cc19ea975ea5183b154": {
          "model_module": "@jupyter-widgets/base",
          "model_name": "LayoutModel",
          "state": {
            "_view_name": "LayoutView",
            "grid_template_rows": null,
            "right": null,
            "justify_content": null,
            "_view_module": "@jupyter-widgets/base",
            "overflow": null,
            "_model_module_version": "1.2.0",
            "_view_count": null,
            "flex_flow": null,
            "width": null,
            "min_width": null,
            "border": null,
            "align_items": null,
            "bottom": null,
            "_model_module": "@jupyter-widgets/base",
            "top": null,
            "grid_column": null,
            "overflow_y": null,
            "overflow_x": null,
            "grid_auto_flow": null,
            "grid_area": null,
            "grid_template_columns": null,
            "flex": null,
            "_model_name": "LayoutModel",
            "justify_items": null,
            "grid_row": null,
            "max_height": null,
            "align_content": null,
            "visibility": null,
            "align_self": null,
            "height": null,
            "min_height": null,
            "padding": null,
            "grid_auto_rows": null,
            "grid_gap": null,
            "max_width": null,
            "order": null,
            "_view_module_version": "1.2.0",
            "grid_template_areas": null,
            "object_position": null,
            "object_fit": null,
            "grid_auto_columns": null,
            "margin": null,
            "display": null,
            "left": null
          }
        },
        "8779f3abefbb477085f9c5b80107b213": {
          "model_module": "@jupyter-widgets/output",
          "model_name": "OutputModel",
          "state": {
            "_view_name": "OutputView",
            "msg_id": "",
            "_dom_classes": [],
            "_model_name": "OutputModel",
            "outputs": [
              {
                "output_type": "stream",
                "metadata": {
                  "tags": []
                },
                "text": "Video available at https://youtube.com/watch?v=zm9oekdkJbQ\n",
                "stream": "stdout"
              },
              {
                "output_type": "display_data",
                "metadata": {
                  "tags": []
                },
                "text/html": "\n        <iframe\n            width=\"854\"\n            height=\"480\"\n            src=\"https://www.youtube.com/embed/zm9oekdkJbQ?fs=1&rel=0\"\n            frameborder=\"0\"\n            allowfullscreen\n        ></iframe>\n        ",
                "text/plain": "<IPython.lib.display.YouTubeVideo at 0x7fe2be93c090>",
                "image/jpeg": "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\n"
              }
            ],
            "_view_module": "@jupyter-widgets/output",
            "_model_module_version": "1.0.0",
            "_view_count": null,
            "_view_module_version": "1.0.0",
            "layout": "IPY_MODEL_784c972c80164625854710e27366b72c",
            "_model_module": "@jupyter-widgets/output"
          }
        },
        "be6887bed80e4eababe4894bf69c0cd7": {
          "model_module": "@jupyter-widgets/output",
          "model_name": "OutputModel",
          "state": {
            "_view_name": "OutputView",
            "msg_id": "",
            "_dom_classes": [],
            "_model_name": "OutputModel",
            "outputs": [
              {
                "output_type": "stream",
                "metadata": {
                  "tags": []
                },
                "text": "Video available at https://www.bilibili.com/video/BV1VB4y1K7Vr\n",
                "stream": "stdout"
              },
              {
                "output_type": "display_data",
                "metadata": {
                  "tags": []
                },
                "text/html": "\n        <iframe\n            width=\"854\"\n            height=\"480\"\n            src=\"https://player.bilibili.com/player.html?bvid=BV1VB4y1K7Vr&page=1?fs=1\"\n            frameborder=\"0\"\n            allowfullscreen\n        ></iframe>\n        ",
                "text/plain": "<__main__.BiliVideo at 0x7fe34009b450>"
              }
            ],
            "_view_module": "@jupyter-widgets/output",
            "_model_module_version": "1.0.0",
            "_view_count": null,
            "_view_module_version": "1.0.0",
            "layout": "IPY_MODEL_b0d6165943b641f7be0bf90110bec4c1",
            "_model_module": "@jupyter-widgets/output"
          }
        },
        "784c972c80164625854710e27366b72c": {
          "model_module": "@jupyter-widgets/base",
          "model_name": "LayoutModel",
          "state": {
            "_view_name": "LayoutView",
            "grid_template_rows": null,
            "right": null,
            "justify_content": null,
            "_view_module": "@jupyter-widgets/base",
            "overflow": null,
            "_model_module_version": "1.2.0",
            "_view_count": null,
            "flex_flow": null,
            "width": null,
            "min_width": null,
            "border": null,
            "align_items": null,
            "bottom": null,
            "_model_module": "@jupyter-widgets/base",
            "top": null,
            "grid_column": null,
            "overflow_y": null,
            "overflow_x": null,
            "grid_auto_flow": null,
            "grid_area": null,
            "grid_template_columns": null,
            "flex": null,
            "_model_name": "LayoutModel",
            "justify_items": null,
            "grid_row": null,
            "max_height": null,
            "align_content": null,
            "visibility": null,
            "align_self": null,
            "height": null,
            "min_height": null,
            "padding": null,
            "grid_auto_rows": null,
            "grid_gap": null,
            "max_width": null,
            "order": null,
            "_view_module_version": "1.2.0",
            "grid_template_areas": null,
            "object_position": null,
            "object_fit": null,
            "grid_auto_columns": null,
            "margin": null,
            "display": null,
            "left": null
          }
        },
        "b0d6165943b641f7be0bf90110bec4c1": {
          "model_module": "@jupyter-widgets/base",
          "model_name": "LayoutModel",
          "state": {
            "_view_name": "LayoutView",
            "grid_template_rows": null,
            "right": null,
            "justify_content": null,
            "_view_module": "@jupyter-widgets/base",
            "overflow": null,
            "_model_module_version": "1.2.0",
            "_view_count": null,
            "flex_flow": null,
            "width": null,
            "min_width": null,
            "border": null,
            "align_items": null,
            "bottom": null,
            "_model_module": "@jupyter-widgets/base",
            "top": null,
            "grid_column": null,
            "overflow_y": null,
            "overflow_x": null,
            "grid_auto_flow": null,
            "grid_area": null,
            "grid_template_columns": null,
            "flex": null,
            "_model_name": "LayoutModel",
            "justify_items": null,
            "grid_row": null,
            "max_height": null,
            "align_content": null,
            "visibility": null,
            "align_self": null,
            "height": null,
            "min_height": null,
            "padding": null,
            "grid_auto_rows": null,
            "grid_gap": null,
            "max_width": null,
            "order": null,
            "_view_module_version": "1.2.0",
            "grid_template_areas": null,
            "object_position": null,
            "object_fit": null,
            "grid_auto_columns": null,
            "margin": null,
            "display": null,
            "left": null
          }
        },
        "51ac715353c54eacacb5b9b18d6c05f5": {
          "model_module": "@jupyter-widgets/controls",
          "model_name": "TabModel",
          "state": {
            "_view_name": "TabView",
            "_dom_classes": [],
            "_titles": {
              "0": "Youtube",
              "1": "Bilibili"
            },
            "_model_name": "TabModel",
            "_view_module": "@jupyter-widgets/controls",
            "selected_index": 0,
            "_model_module_version": "1.5.0",
            "_view_count": null,
            "_view_module_version": "1.5.0",
            "box_style": "",
            "layout": "IPY_MODEL_ee267813b22a427bbd2890f4dad72471",
            "_model_module": "@jupyter-widgets/controls",
            "children": [
              "IPY_MODEL_65c7572ed45a4a0c8a3361ceffd4a9f6",
              "IPY_MODEL_0366a13cfdf94748a5fb0c7efe368729"
            ]
          }
        },
        "ee267813b22a427bbd2890f4dad72471": {
          "model_module": "@jupyter-widgets/base",
          "model_name": "LayoutModel",
          "state": {
            "_view_name": "LayoutView",
            "grid_template_rows": null,
            "right": null,
            "justify_content": null,
            "_view_module": "@jupyter-widgets/base",
            "overflow": null,
            "_model_module_version": "1.2.0",
            "_view_count": null,
            "flex_flow": null,
            "width": null,
            "min_width": null,
            "border": null,
            "align_items": null,
            "bottom": null,
            "_model_module": "@jupyter-widgets/base",
            "top": null,
            "grid_column": null,
            "overflow_y": null,
            "overflow_x": null,
            "grid_auto_flow": null,
            "grid_area": null,
            "grid_template_columns": null,
            "flex": null,
            "_model_name": "LayoutModel",
            "justify_items": null,
            "grid_row": null,
            "max_height": null,
            "align_content": null,
            "visibility": null,
            "align_self": null,
            "height": null,
            "min_height": null,
            "padding": null,
            "grid_auto_rows": null,
            "grid_gap": null,
            "max_width": null,
            "order": null,
            "_view_module_version": "1.2.0",
            "grid_template_areas": null,
            "object_position": null,
            "object_fit": null,
            "grid_auto_columns": null,
            "margin": null,
            "display": null,
            "left": null
          }
        },
        "65c7572ed45a4a0c8a3361ceffd4a9f6": {
          "model_module": "@jupyter-widgets/output",
          "model_name": "OutputModel",
          "state": {
            "_view_name": "OutputView",
            "msg_id": "",
            "_dom_classes": [],
            "_model_name": "OutputModel",
            "outputs": [
              {
                "output_type": "stream",
                "metadata": {
                  "tags": []
                },
                "text": "Video available at https://youtube.com/watch?v=pJc2ENhYbqA\n",
                "stream": "stdout"
              },
              {
                "output_type": "display_data",
                "metadata": {
                  "tags": []
                },
                "text/html": "\n        <iframe\n            width=\"854\"\n            height=\"480\"\n            src=\"https://www.youtube.com/embed/pJc2ENhYbqA?fs=1&rel=0\"\n            frameborder=\"0\"\n            allowfullscreen\n        ></iframe>\n        ",
                "text/plain": "<IPython.lib.display.YouTubeVideo at 0x7fe2be932d10>",
                "image/jpeg": "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\n"
              }
            ],
            "_view_module": "@jupyter-widgets/output",
            "_model_module_version": "1.0.0",
            "_view_count": null,
            "_view_module_version": "1.0.0",
            "layout": "IPY_MODEL_5d907c781cb542eb9841492f61730d85",
            "_model_module": "@jupyter-widgets/output"
          }
        },
        "0366a13cfdf94748a5fb0c7efe368729": {
          "model_module": "@jupyter-widgets/output",
          "model_name": "OutputModel",
          "state": {
            "_view_name": "OutputView",
            "msg_id": "",
            "_dom_classes": [],
            "_model_name": "OutputModel",
            "outputs": [
              {
                "output_type": "stream",
                "metadata": {
                  "tags": []
                },
                "text": "Video available at https://www.bilibili.com/video/BV1GB4y1K7Ha\n",
                "stream": "stdout"
              },
              {
                "output_type": "display_data",
                "metadata": {
                  "tags": []
                },
                "text/html": "\n        <iframe\n            width=\"854\"\n            height=\"480\"\n            src=\"https://player.bilibili.com/player.html?bvid=BV1GB4y1K7Ha&page=1?fs=1\"\n            frameborder=\"0\"\n            allowfullscreen\n        ></iframe>\n        ",
                "text/plain": "<__main__.BiliVideo at 0x7fe2be94ead0>"
              }
            ],
            "_view_module": "@jupyter-widgets/output",
            "_model_module_version": "1.0.0",
            "_view_count": null,
            "_view_module_version": "1.0.0",
            "layout": "IPY_MODEL_d9c130b836344540a56475a4aa65b5b6",
            "_model_module": "@jupyter-widgets/output"
          }
        },
        "5d907c781cb542eb9841492f61730d85": {
          "model_module": "@jupyter-widgets/base",
          "model_name": "LayoutModel",
          "state": {
            "_view_name": "LayoutView",
            "grid_template_rows": null,
            "right": null,
            "justify_content": null,
            "_view_module": "@jupyter-widgets/base",
            "overflow": null,
            "_model_module_version": "1.2.0",
            "_view_count": null,
            "flex_flow": null,
            "width": null,
            "min_width": null,
            "border": null,
            "align_items": null,
            "bottom": null,
            "_model_module": "@jupyter-widgets/base",
            "top": null,
            "grid_column": null,
            "overflow_y": null,
            "overflow_x": null,
            "grid_auto_flow": null,
            "grid_area": null,
            "grid_template_columns": null,
            "flex": null,
            "_model_name": "LayoutModel",
            "justify_items": null,
            "grid_row": null,
            "max_height": null,
            "align_content": null,
            "visibility": null,
            "align_self": null,
            "height": null,
            "min_height": null,
            "padding": null,
            "grid_auto_rows": null,
            "grid_gap": null,
            "max_width": null,
            "order": null,
            "_view_module_version": "1.2.0",
            "grid_template_areas": null,
            "object_position": null,
            "object_fit": null,
            "grid_auto_columns": null,
            "margin": null,
            "display": null,
            "left": null
          }
        },
        "d9c130b836344540a56475a4aa65b5b6": {
          "model_module": "@jupyter-widgets/base",
          "model_name": "LayoutModel",
          "state": {
            "_view_name": "LayoutView",
            "grid_template_rows": null,
            "right": null,
            "justify_content": null,
            "_view_module": "@jupyter-widgets/base",
            "overflow": null,
            "_model_module_version": "1.2.0",
            "_view_count": null,
            "flex_flow": null,
            "width": null,
            "min_width": null,
            "border": null,
            "align_items": null,
            "bottom": null,
            "_model_module": "@jupyter-widgets/base",
            "top": null,
            "grid_column": null,
            "overflow_y": null,
            "overflow_x": null,
            "grid_auto_flow": null,
            "grid_area": null,
            "grid_template_columns": null,
            "flex": null,
            "_model_name": "LayoutModel",
            "justify_items": null,
            "grid_row": null,
            "max_height": null,
            "align_content": null,
            "visibility": null,
            "align_self": null,
            "height": null,
            "min_height": null,
            "padding": null,
            "grid_auto_rows": null,
            "grid_gap": null,
            "max_width": null,
            "order": null,
            "_view_module_version": "1.2.0",
            "grid_template_areas": null,
            "object_position": null,
            "object_fit": null,
            "grid_auto_columns": null,
            "margin": null,
            "display": null,
            "left": null
          }
        },
        "7090f18d36c54545a67349aaad0b6fbf": {
          "model_module": "@jupyter-widgets/controls",
          "model_name": "TabModel",
          "state": {
            "_view_name": "TabView",
            "_dom_classes": [],
            "_titles": {
              "0": "Youtube",
              "1": "Bilibili"
            },
            "_model_name": "TabModel",
            "_view_module": "@jupyter-widgets/controls",
            "selected_index": 0,
            "_model_module_version": "1.5.0",
            "_view_count": null,
            "_view_module_version": "1.5.0",
            "box_style": "",
            "layout": "IPY_MODEL_81bbccb082c3468b92d26ffbd5efda4a",
            "_model_module": "@jupyter-widgets/controls",
            "children": [
              "IPY_MODEL_a77356bfbdb149e988df9bbb27a5df47",
              "IPY_MODEL_3d3dc009ea124c3292a494d505f19791"
            ]
          }
        },
        "81bbccb082c3468b92d26ffbd5efda4a": {
          "model_module": "@jupyter-widgets/base",
          "model_name": "LayoutModel",
          "state": {
            "_view_name": "LayoutView",
            "grid_template_rows": null,
            "right": null,
            "justify_content": null,
            "_view_module": "@jupyter-widgets/base",
            "overflow": null,
            "_model_module_version": "1.2.0",
            "_view_count": null,
            "flex_flow": null,
            "width": null,
            "min_width": null,
            "border": null,
            "align_items": null,
            "bottom": null,
            "_model_module": "@jupyter-widgets/base",
            "top": null,
            "grid_column": null,
            "overflow_y": null,
            "overflow_x": null,
            "grid_auto_flow": null,
            "grid_area": null,
            "grid_template_columns": null,
            "flex": null,
            "_model_name": "LayoutModel",
            "justify_items": null,
            "grid_row": null,
            "max_height": null,
            "align_content": null,
            "visibility": null,
            "align_self": null,
            "height": null,
            "min_height": null,
            "padding": null,
            "grid_auto_rows": null,
            "grid_gap": null,
            "max_width": null,
            "order": null,
            "_view_module_version": "1.2.0",
            "grid_template_areas": null,
            "object_position": null,
            "object_fit": null,
            "grid_auto_columns": null,
            "margin": null,
            "display": null,
            "left": null
          }
        },
        "a77356bfbdb149e988df9bbb27a5df47": {
          "model_module": "@jupyter-widgets/output",
          "model_name": "OutputModel",
          "state": {
            "_view_name": "OutputView",
            "msg_id": "",
            "_dom_classes": [],
            "_model_name": "OutputModel",
            "outputs": [
              {
                "output_type": "stream",
                "metadata": {
                  "tags": []
                },
                "text": "Video available at https://youtube.com/watch?v=aSJTRdjRvvw\n",
                "stream": "stdout"
              },
              {
                "output_type": "display_data",
                "metadata": {
                  "tags": []
                },
                "text/html": "\n        <iframe\n            width=\"854\"\n            height=\"480\"\n            src=\"https://www.youtube.com/embed/aSJTRdjRvvw?fs=1&rel=0\"\n            frameborder=\"0\"\n            allowfullscreen\n        ></iframe>\n        ",
                "text/plain": "<IPython.lib.display.YouTubeVideo at 0x7fe2b0f37350>",
                "image/jpeg": "/9j/4AAQSkZJRgABAQAAAQABAAD/2wCEABALDBoYFhsaGRodHRsfIyolIiEiICovKicoMicxNzIqLS41PVBCNzhLOi0tRWFHS1NWW1xbMkFlbWRYbFBZW1cBERISGRYZLRobL1c9Nz1XV1dXV1dXV1dXV1dXV1dXV11dXVdfV1ddV1dXV11XXVdXV1dXV1dXV1ddV11XV1dXV//AABEIAWgB4AMBIgACEQEDEQH/xAAbAAEAAgMBAQAAAAAAAAAAAAAAAQQCAwUGB//EAEUQAAIBAgQCBwYDBQYFBAMAAAECAAMRBBIhMRNRBRciQVOS0jJSYXGBkRRCoQYVI7HRM2Jyc7LBByQ0gqIWQ+HwNcLx/8QAFwEBAQEBAAAAAAAAAAAAAAAAAAECA//EAB0RAQADAQEBAAMAAAAAAAAAAAABESECIkEDMVH/2gAMAwEAAhEDEQA/APn8REBERAREQEREBERAREQEREBERAREQEREBERAREQEREBERAREQEREBERAREQEREBERAREQEREBERAREQEREBERAREQEREBERAREQEREBERAREQEREBERAREQEREBERAREQEREBERAREQEREBERAREQEREBERAREQEREBERAREQEREBERAREQEREBERAREQEREBERAREQET1/VxjfFw3nf0R1cY3xcN539EDyET1/VxjfFw3nf0R1cY3xcN539EDyET1/VxjfFw3nf0R1cY3xcN539EDyET1/VxjfFw3nf0R1cY3xcN539EDyET1/VxjfFw3nf0R1cY3xcN539EDyET1/VxjfFw3nf0R1cY3xcN539EDyET1/VxjfFw3nf0R1cY3xcN539EDyET1/VxjfFw3nf0R1cY3xcN539EDyET1/VxjfFw3nf0R1cY3xcN539EDyET1/VxjfFw3nf0R1cY3xcN539EDyET1/VxjfFw3nf0R1cY3xcN539EDyET1/VxjfFw3nf0R1cY3xcN539EDyET1/VxjfFw3nf0R1cY3xcN539EDyET1/VxjfFw3nf0R1cY3xcN539EDyET1/VxjfFw3nf0R1cY3xcN539EDyET1/VxjfFw3nf0R1cY3xcN539EDyET1/VxjfFw3nf0R1cY3xcN539EDyET1/VxjfFw3nf0R1cY3xcN539EDyET1/VxjfFw3nf0R1cY3xcN539EDyET1/VxjfFw3nf0R1cY3xcN539EDyET1/VxjfFw3nf0R1cY3xcN539EDyET1/VxjfFw3nf0R1cY3xcN539EDyET1/VxjfFw3nf0R1cY3xcN539EDyET1/VxjfFw3nf0Sp0n+xWKwqB6j0SC2Xss172J71HKB5uJ0h0JV95Puf6TIdA1j+an9z/AEkuFqXLidcfs5WP5qf3b+kyH7M1/epfdv6RcFS40Tt/+mK/v0vu39I/9L1/fpfdvTFwVLiROpW6EamLtWoAXt7Tb+WZ0/2dqsLrUosPgx/pFlORE7J/Zqv71P7t/SYn9nK3vU/u39IuCpciJ1j+z9b3qf3P9JiegqvvU/uf6RcFS+1xESoREQEREBERAREQEREBERAREQEREBERAREQEREBERAREQEREBERAREQEREBERAREQEREBERAREQE4H7Yj/lk/zR/pad+ef/AGyNsMn+aP8AS0krDyarNyCVBUM30nnNtcRZuUSvTqDmJYV15iFZgTz37T40grRUkfma36D/AHnog68xPMVaBr42q26q38hb/aIn6VeOMMPUOuVrfKZYfE1KL5lup5HY/MT0uGKOSoZT3aETDpXCKycmA3Mkfk/rU/izJXMBixXpBwLdxHIzawnM/Z2iUolmcZX1C8vj9Z1CQdjLLDSwmpxpN7CanED6PEROrmRNdastNC7sFRRcsTYAfGVcN0xhaz5KWIpO/uq4J+0C9ERAREwNVQ4QsM5BIW+pAtc2+o+8DOIiAiIgIiICIiAiJrFVS5QMMygErfUA3sSPjY/aBsiJECYmmliabs6o6syGzgEEqeR5TdAREQEREBERAREr4jG0qTKtSoqs/sgmxPy+4+8CxEiYNXQEgsoIXMQTsvM/DSBsiYqwIBBBBFwR3iZQEREBESCQBc6AQJiY03DKGUgqRcEG4I5iZQEREBE0tiqYz3dRw7Z7kdm+1+U237oExEQE89+2n/Sp/mj/AEtPQzz37af9Kn+aP9LSSsPGCbaZmkTYhmG26lqTLdNZUob/AFl2kQRcTMtQkiVadEjjEWBJH2t/SW22mrH1uGt7brv8Zmf03zOuWuGUVL6XGvx5TTVw7lmbM2uwvpNNakSblifrtLGCc5spIIXW/wDIRFrMwvpRCqFGwAH2m3Dd8w4g5zPCsDe024trTU+xm1pqfYwPosRE6ublftT/APjsV/ltOdiq7YupSwwwzUKislbPUKXCK4uUyk3Olv8Au1nd6Qwa4ihUouSFqKVJXex5XmOLwC1WpNdlek2ZWW1+RU/AjcQOR0l0hUUYirSr1LUc2i0QaV1FyrMQSeRIIA+ksvXrVcUKSVTSQ4dahsqlrlraEj+s21uhQy1qYrVUpVsxZFyWBa+YglSRe995ZpYBUqiqC2YUhStpawN7/OByU6Sr8JaeccZsU+HFUqNlzHNl2vlUjlebSr0cbTNSqaoFCsQSoDaNTuOyAD9paboamabpmcFqprBwQGRyb3U27vjeZYfozLVWq9arVcKyXfKBZip9lVA/L+vygc5sTilwf401hcJxTQyLkyWvkDWzXt3337pYepXrYisiVzSppTputkUtds/ewOmg/wDiZDoFMvC41b8OD/YXXJa98t8ubL8L27tpfTCKKtSrc3qKqkaWAXNa3mMDjYPF4l6ODxLVhasUD0gi5bMNwfavex3t8J1+k3qrQqGgM1UDsjTnrYHQm17CaqPRaJQoUQzZaBUqTa5y7X0lrE0eIhXMyX/MhswPMQONR6VFOliKhrVKppUy5pVaQpuLA6+yLg/I/OYU8fWXhvxK1VmZRUp/hXVLMQCUbKCLXvqToD850aPRYzM1aq9dmQ0/4gQAIdxZVA10kYboxqZX/ma7U09mmxS1u4FsuYj5mBR6RxtS9dqVeoBRvotAGmGC3yuSCT8bWtebDiq9bEUUSpwkfDiq1lBN8w2J+fxlmp0QDxQtaqiVrl0XLa7CxIJBIv8AObaHRyJUSoC10pCkAbWygg3Om+kCnReviWqulc0USo1NFCKbldCz3Heb6C2nfMODUfH4gLWNP+DQzMqgknNV2zXAG/dLVXom7u1KvWoiob1FTLZja1+0pKmwG1pZo4NUrPVBYs6IhBOlkLW+N+0YFLourXr0abGqAyVai1OwP4gR2T/tvYHSXOk8auHw9Ws21NS1uZ7h9TYTXQ6NFNUVKlRQtV6hAI7RdmJVtNrt+gmePwK4gIrk5VdXKi1mKm4DfC9j9IHnOja9HD1sKy16TvXBp4jK4JNRiXVt/eLL/wBwnoulcZ+Hw1WsBmKKSBzPdf6xjujaVek1Nly3tZlADKQbgg23BE31qC1KbU6gzKylWB7wRrAq4XDYhCGqYk1NO0vDULe35LajXmTKjdIVf3dSrZv4jGjc2H5qqKdNtiZbwnRzU2BOJr1FUWVHK2HdqQoLfUmVh0AMgpHEVzSVlZKd0suVwwF8tyNLak/7wNlKpWfF114lqVIpZQou10vYnlf6yr0bjqhqU1xFapTrNfNRqUQEJsdKbga2/wAR07p1qWEC1Krgm9XLf4WW2kqp0Sc6GpiK1VabZkR8lg3cSQoY2v3mBzV6Uq1VeotWqhDOKdNcMzoQrEDMwUkk27iLXncoYnNQWqyMhKByhGq9m5UjmJUPRFmbhYitRR2LNTTJluTckFlJW/wInSA0tA8+cTihgzjuMPY43ByLkyWzZb2zZsvfffum6hTZukmcVWynD02y5V9ks/Z2va4vzmz9wpl4fGrfh734F1yWvfLfLmy37r/DbSX1wiiu1a5zMi07aWsrMQfn2jAq9J4ipxKFCk2RqpYl7AlVQXOUHS5JG/xlJ0qU6+Iz1OKRhLhmVb+03tAaH7TqY/ALXCdpkdGzI6EZlNrd4IIIJ0Immn0SAajPVq1HqU+GzMV2udgAAN+4QKiVa1Sph6SVeErYYO2VFve6js3Fhvylani8UcKa5r60qrIVFNbOFrZCW77kcrTtUcAqVEcFrpS4QGlrXBufjpNadFIKD0MzZXdnJ0vdqmc9214FLFdIM2Iq0xVq0kpZR/DoFyzFbkk5WAABGnzmP4/EOmFF+G713psxpkZlWnUIYK1iL5Qf6y/iejc1Q1adapQdgA5TIQwG1w6kXF9xMzgAeBmd2NFi4ZiLsSjL2tP7x2t3QKHGxVNsVSV+O6UlqUiyqDmbOMptYH2dNpOAxmY1FNeo7BCTTrUQjD4jsi4+/wA5fqYANUqPndWqIqEqbWCliCPj2jNNHou1TiVK1Ws4QopcIMoa17BFGpsNTfaBSwuIq1VwtGm4pXw61ajqi37gFQEZRqT3aWmGK6Rr0aeLplw1WitN0qFRqrmwzDa4sdvhL79ELkohKlSm9FMiVFy5sthcEEFSDlHdH7mQ0atNnqM1Yg1KhIzG1rd1gBbYCBpNSvRxeHR6xqJXzgqUUBSqZgVI1toRY33lLEdJ1FU10rVHQVAoHAApMvECkBrZtr9q9iR9J3MRg1qVaNUkg0SxUC1jmUqb/eUm6DU0jR41UUcwKp2LLZgwAOW5Fx3mBz+k6xp/vR1tcJRIzKCPZ7wdDNww9U9J4jLXZT+HQjspYXaoANtgdefOX8X0OlUYkMzj8QFDWtplGmXT+c2VMAPxH4hXdWyBWUZSHUEkA3FxYsdiIFFOlKlWlhlQ5a9V8tTQHJwz/F0PxGUf4hO3ON0Tgv8AmcRimptT4hApq24Fhma35cxA0/uidmAnnv21/wClT/NH+lp6Ged/bY2wtP8AzR/paSVh4oGbU3mi8202mG2+kbAmZ4WulOnd2Ci/eZyjjgtNrHtXNpxXcsbnWI5snqnqMV09SXSndzz2EUMeMRQ7RHEBN15C+lvpPLXkq5BuCQeYlni4I7qbdR8E5bRrCT+JWj/DvfvJHP4znPi6jCxdrfb+U0xHM/UnqPjr/ib7GdToZ7q3znllYjad39nsULtTOjHUfGWYxIl22mp9jM2M1OdJhp9IiInVzRERAmRJkQJkSZECYiIESZEmAkSYgJEmRAmJEmAkSYgJEmRASZEmAiIgIiICIiAiIgIiIESZEmBEREBJkSYESZEmAkSZEBJmDVFG5A+Zks4AuSAOZOkDKeb/AG6/6Sn/AJo/0tO9hMQKtMOoIBva9u4kX07tJz/2j6KfF0VpoyqQ4a7XtaxHd84kh85Bk5rT0Q/YnEeNS/8AL+kN+xFcgg1aRB/xf0mKbt4Rm0Jmme1rf8O65JyV6QTuuGv9dJh1dYm39vR+zf0m2HjInsurnE+PR+zf0jq5xPj0fs39IHjYnsurnE+PR+zf0jq5xPj0fs39IHjZnRqlGDLoVNxPZN/w3rW0xNO/+Bph1cYnx6P2b+kCKGIFRFcbEf8A0Q5nR6O/YrE0QymtSKnUWzaH7S0/7KVrH+JT/X+kxTcS9fERNsK2Pdkp51NsrKzfFbjN+l5RGMqFiob+0qKaZ5JmIa30Qn/unVdAwKkXBFiOYM1LhaYKEKL0wVT4A20/SBUoY5wqmoFykVCGza9kncW0FpgekajaKihg1O9ywGViR3qDfTlLxwlMgKVBAzC2v5t5h+Ap2IsxvluS7E9k3Gt76XgaeksS9O+TfhVG12uoX4fGbOK1OnTHt1GIUXbS9iTc22sD3TdVwyP7Qv2WXc7NuP0mVWirrlYad2pBBGxBGoMCvQxpaoKZWzdsNY3AK5dtNQQ4kYPGNVK9gAGmjk5tRmvoBbXabDgadlGU9kkghmB13ub3N++82UMOlMWRbWUL37Lew/UwK9XHMpY5Bw1dUJzdq5IFwLbAsO/n9cfxtTQ8NbMzqpzm+Zc1ri2xynnLDYOmXzldbg7mxI2JW9iRpr8BNdDAohzHVrsRqbDMSdBewOtrwK1HHVLKWALGnSNs1lu7sL7X5TL8e+zIFuXS6vc5lBN9Rt2ZaTBU1tZdsoF2J0Ukrue4kyThUNrrsWbc7sCCf1MCumLfPTXKpDKGZs5uq23Iy2303/lNFTpNyjZVUNZWU3axBYDvUfppLq4GmGzAMDoD22sQBYXF7HSQOj6ViMpsRl1djYXuANdPpA0ri3zsiqGfObZmsoAVCdQL7tIPSTFSVpjsoWYF7WsxBA0N/ZMstgqZ7jvmuGYNewF8wN9hJGEpgFQoAK5Lf3ddP1MBWxGQpcdljYt7ptcX+1vtKh6TNlOQWIBIu1wrNpfs2BtrqRLtagtRCjjMp3HymNTCU2bMQb6A2YgG21wDY/WBo/FsWFwFXiFL5t7Brki2g0HfNDdJMysAoDdhlILWILgW7Sj7i+86H4dNOzsxb6m9z+pmodH0gLZSQQBqzHQG4AudBeBoqY1g6qwClX7WU3BXhuw7h3r+k2YLHGqQClgVzAi55aG4Guvdfvm1MHTW1l1DZrliTexFySbnQkTH8CgUquZQdNHbQX2XXT6QGKxXDI7N7q1td2FrL9f9owmL4pNlsAFvr+Y3uv00+83VaKvlzC+Vgw+BGxmC4RFYFbr2i5AO7EWN4GnE4pkd7KWsqadwuWudAT3fGY4rFN+FNRCM2lspuPaA3t/tLNTDqxJINzYXDEHS9tQfiY/Cpw+Hl7O9rne9733vfWBWfGMDZxlyuQcrXBHDLd4+E04npCqEPYClqTVFIa5FiuhuN+1OgaCls1tb3v8AHLb+Up0OiwCS9iMpQKMwFiQTuTbYaCwEDfTxRBZagCkEAZSWBuNO75zQ2LqMaZChUZ2F81yQEfcW01W+8vLTAYsBqbXPymkYGmGzBdbk+01gSCCQL2F7n7wKlLpFyosgYAUgSXsSagFtltuRM26SYWXIue7gjM2XskDcLfvHdLKYOmBYLp2e8/ktl+1hJfCI24INybhmBud9Qb6wKjdJPZiKWiU1qNmYg2Ja4Atv2TMquOYcVSoTKrldTmNhuLrY/cyycKhzXX2lCNqdVF7D9TIbBUySSCb33Zra72F7C/wgaTjWuTkBpq6oTm7VyQLgWta7Dv5zGn0ixAZkVUOexz7ZCd9NBoZYODpl8+XW4O5tcbErexO2vwk/hKeULlBUZtD/AHr3+9zAprj2c5bZWDU9r6qxPvAH8p7puwa1OI93dkGl3tct3kWGgm1MFTU3AJPZ1LMT2b21J7rmbkQC9r6m51J1gSZyqHSdRnVSqdqpUW4JsERe030fs/rOrKzdH0S2Y01vrr89/v38++BrfFuuD4zKOIKYYqNs1vj3SMHnzdv8RtqX4YX7KZeIBFiLjlK9DApTa6ZxpYLxHKgfBSbD7QOf0yg4tNhSWowB7JA1sdr2M09E4HPhqeVlTK+YIoJRTky2sbc8w21sfiexVwdN3DsgLC1jytJo4anTLFECljdrd5gY4HD8GilO98ihb2tt8JvkxAiJMQIiTECJMiTASJMQIiTECJD+yfkZMh/ZPyMDKIiAiasRWFNcxBOqjT+8wH+8h8QFqBDpdS9+4AEA/wA4G6Jpp4mm9srq1zYWI1Nr2+0yWsptZgbgkWO4G9vvA2RK7Y2kCQaiAjcFhpMji6YKg1Eu1ivaGt9rQNsmaPxlK5XiJmF7jMLi2/2mziLcC4uRcC+45/qIGUmVcNjUqlgpFgSAbjUjfSZnGUha9RBmsR2hrfa0DfE0VcZSQkNUUMBcjML2tfaY08dTYZgwC5VbMSLWN/jptAsxNBxdIKG4iZTscwsbTYKq5c+YZbXzX0tzvygZyJrp4hGtldTe9rEa23/nMTi6dwOIlzoBmGpvb+ekDfE0UMUr37iGcWO/ZaxPyv8Azk/iqd1XiJdrFRmFzfa0DdEq0MdTqWyEEEsL3GhXfvma4ykVLCohUaEhhYX21gb4mg42llDcRMpNgcwtcbiMRi0p5M7AZyFHzgb4mpcQhcoHUuN1BFx9JFXFU0NndVNr2LAac4G6JqOIQNkLrm924vz2mNDFJUTiKwKa632tvA3xNVGulS+Rla29jea62NpqH7QZkBJUEX0+H1gWYmr8QmfJnXP7txf7TFcXTIYiohC+0cw0+cDdJmoV0KFwwKC5LA6abzWuOpFUbiKA4utyBeBZia6tZUF3ZVBNrk215TV+OpEEq6tZc1lYXtz3gWJM0jFU8+TOufbLmF78rTAY6lZczqpYAgFhfXbvgWImuniEexV1a9wLEHUbzFsZSFr1EF9rsNdbQN8SpUxwy5qY4qi+Yqy2Ft7kneWabhlDDYgEX+MDKIiAiIgIiICIiAiIgIiICIiAiIgRIf2T8jJkP7J+RgZREQK+Ow/Fp5NNWUm+1g4JH2Eq1uilLE01RAUKkZdzmUi4G40/WdGIHOq4Ko+epdEqnJlsSQMubW9hqQxG3KbcHguE7EEZALUx7oOrfcy5MajhRc8wPubQKyYQhlOnZqu/0YMB9dRKh6Nq8MJmUjIF9tgAQSSbAdq9xvynUWqpNgyk8gReaKuOpqSpa7KUBA7sxAH84GtMIRvl0rNUPyIb9dZj0VQKgsb29hLggimpOW4P/wB2lzjJlzZ1y+9cW+8zzC176c4FEYaopVlyEhqhsSRo7XGttxpNdPo5xSZCVuaK0767jN+naEviuhGbOuXncW+8wqYpFZVJBLECwIvrtccoGqnh3UuoyFGZmzEnMLja1tfnfaaEwFTQnJmVaQAuSCULbm3fmHyl8Vl17S9n2tRp8+Uyzi17i3O+kCnRwjCpxGy3LliBcgXQKLG2u3w3kfgT+GFLMAwINxe1w+Yfym6vjUQIb5s7ZVCkan5k27pliK2UooF2drC/cACSfsPuRAqHAvlLLZa2YMpLsw0FtSQO4kbcpjX6OfLkQjIFVRd2FrHUkAWa/wAZcoYjPUqIVtwyBvvcXvIp4tbFnKqucqlzvbT+YP0gV0wdRGzLkJJq7kjR3DA7bi236zAYCpZAWBC8L87ADIVuMtrG9jqeczxHSDIGGS7K+U2BItkLBtNdQMv+IyzgSxo085JbIMxPebawKlTo93BUlQp4wB1JtU12t3a98zbCVHbO+RT/AAxZSSLK+Ykmw+gl+IHPq4J8zsuW5csDnZSAVUbgG/s7bbTfXouy07FSyMrG+gNhY7XtvLMmBQoYN1NNTkyU2ZgwvmN76EW09rU3N5o6RVw1VUXNxUA9lr3sRoQLH6kWnViBQXAsKhJ7SGpn9tgQd7ZbWOvxmYwr/h3pHLchgDuLEmxIt8ZckwKlCg9rOSLEEWqMxPzJA0+E1fhKnCel2Mtmytc3NzfUW03PeZfkwKH4N75exk4nEza5t75bWt8L327ppHR1TIVBCqpQoodiLqb7kXUd1tbTqxArYXDlFa+jObntFu4DcgdwEqjB1QtgKZLUhSa5NgFvZhprfNtp850ogVqmGJ4AB0psCb7kBGH31Ert0e3Dy3W+Sqvfu7Aj+U6MQKa4QgnUf23E+lv5zT+7myFbrcpSXv8AyMSe74zpSYFFsM4qF0yE5y1iSNCgXcA63E1UujnFMqSpJphO+1wzH7aidKIFNsGS1QkKweoj2JOyqo1019m9vlLsiTAREQEREBERAREQEREBERAREQERECJD+yfkZMh/ZPyMDKIiAiIgJpxVMuoA3zIfoHBP8puiBz6OCKtSNlGVqha3969v5iY4rBM7vZVKs1Jrn+44LAj5CdGTA5lbAvnzpoBULZRl1BRRfUEXuD9zNrYM/huEN9DYm49q5U2G3dttLsmBzfwTNUzsiKC6kpe+iqwudN7kfYTH8E+ZRlUgVjU4l9SCT3W3F7fICdSRA446MqcJkOrCkyKbrYkj4Lf46n7zoYvD5qeVAuhU5ToCAb5ZYiBzhgnNRXKqo42crfYcJlv8ySDLGKpnPSqAXyMQQPdYW/Q2PyvLUiBRajUpmvUUhmqWygKdDawub7c4fo0ZqDK1uCpQA3IscuuhGvZ/Uy9ECthUPEq1CLZmAAPJRa/1N/paWYkwEREBERAREQEREBERAREQEREBERAREQEREBERAREQEREBERAREQEREBERAREQERECJD+yfkZMh/ZPyMDKIiBESr0kp4RYb0yHH/abkfUAj6znIxZwtzbEOKo/wqTf/wAVp/eB25M5FB6oVAjglxUsCo0IJI1/T6zJ6oxFNqhVWpgqEVzYZtmLc7E2tzUwOpJnOxtDLhkp+3Zqa9o+12xvvNaUqlJkVStNaj+yvaCgUydLgWJI5WgdSJy/xbkC7gly6mnbVAA2vPuF785ro41kRQKgcGiG0A7BuoHfscx390wOxE4jYlmqUg1QLlrFc3Z2NAnu077TNsQzrqQdGGYfmAqqAR84HZichXqGp2KmUnjhVNrFhUFry3gcUa2ZxomgA781u19ibfMGBbicj8XUZB/EF3RyygC9MgX/AEPZN+8zZXw9sLTQGwLUwbKNczre427/AKwOpInJoVahuquEH8Y6KD7NSw3mrGYtnpVMzhLKlksO1mAN+e5IHygdyRObTquWKq2XWsSbAnsuAN/nNJ6Rc0y/EVCKaMFsO0WW5OvdfTTlA7MSnjq5UoqkqWJ17OwHNtJTbHVTSaqGAy0UqWyjUnNcfLSB2JEqdIVSmUjcBz9kJlZsRWVm/iA5eEfYGudrEfLTSB1ZE5q4t8w/iKSajpw7C4ALWPO4sJjTxNQrSz1lTPTzlso3sOyL6WF784HUkzlU8dVbhqRleqEZNNhbt/a3f7wmCdIVSCwF9HJQ5NMoNgLHMTcAG47+6B14lDBvmrf2oqfwwbgDS5+E1JjHz+2G/jGnw7C+W9r87ga/IQOrInHONc07l1YvSdmUD+zIH330175YavUzE5xlFYU8uUbEDv53MDoxOVSrumBepnzOqubm2hF9DGKxdSm1g9yoUtcKAczH432Hd+sDqyJzjiagZWzXBqumSw2AcjXn2ZW/FtdKgqLUbgO1gNFJan3DWw+OukDtxOW2KcEotQP2qYz5RpmJuNNNgD9ZqbEVDTbM4IIrJbKB7Oaxvz0gdiJz0xL8QUdM1w17f+1b+d+zNfStdrV0zhAtK4Bt27hr78rDbnA6sictcZU4mUbKyLlOQAggXOpzX1NrDukPjH4T1BVXPY2p5R2bMB89O/8A2gdaJyq+LqrUZAblAtr5AHvzuQQO7Tl37Q2Ofi2DDKWdbNlAGVW1013Xv7uUDqxOP+PcLa5LZ1Vj2NAVJuDfKbkW1tv8pL46oEVmYADNexQsQDobXsRvcA3vA68Slj8S1LKRqGuoFvzkdj9dPrKv4qo5QEjs1Fpsbfns2Yj/AMYHWkzi0XcojCrdhRYk2BNwRoZcrYpuFRa4TiFczdy3W/f8dNecC7E4VXFNTWoysGKiuwa2l1C2lxqtVXN6gIV6YtlAuGIBH66f7wOlE46Y+qQzbaVLqcnZyg2tY5ibgA3Hf3TYcRVAP8RSSlNgSAtrtYgX022v3wOpE5BxrZc6nXLYlgNP4oUsbG1gLnTTSZnE1M4prUDDiBc+UbFGJHK4sPvA6cmV8FUZk7RuQzre1r5WIv8ApLEBMX9k/IyZD+yfkYGURECIsNNNtpMQMGTSw05Ebj5SKVFUQIBoOev1PxvNk53TzlcMxBK9pNQbfnEDoEQROZ0l0mVyiiyMxDHbMLKByYW3H9Jzn6UqK1Ssr01/gUqhRyddGJCa7/H5QPR5BcmwudzbeAgF9BrvpvNdO7qc1rN3C4IBA0Ou+/Kc+lS4bOad83F4Yzs7AKVU7EwOnw1tbKLfISco5CU6WLc1BSNs6s2fT8lrqR87qPo0YzFtTYrYXdQKXxe9rH4aqfkDAttTBHLkQBcHmJFGkEUKuw+55k/GUxi3uCShU1eHlsc29r3v9bW2mp+kn4dNhku1B6h/xLkt37dowOnkGpsNd9N5NpS6QLiknaGfiUxcAga1B3X2+swbF1AcgKmoHYXCbgKDexYW9od8C/lHIQaancD7Tlv0hV4ZqDIAtJKhBBNy17i99Npseu7MDmUKK2TKAc2h7zfv3tbaB0bDlK9bBq57Ra22UHQj/b6byvjsSyVDltfLTte9u1VC7X5Gb6FR2FVWK5kbKGC6ewrAkX/vc+6BYZQdwD8xGUch9pyEr1QmcOpK4cObqSCe0ef6zf8AjqhqMFXsqyqRbmASc19N+Xd8YHRIBkZRyErYqrUFQIhUdhmuyk7Fbd45ysekHKs4yAIEJUg3bMoOhvpvYabiBfpUVXYd5N+/Ukn9TMygIsQCB3WnMGLqqct8xaqyg5fZAF7WvrJWtVZwcyU24bE5hcGzb2DaffSB0yJAUXvYXO5trOZ+8XKNUGRQioxQglmzKDYG+m9hpuJtGMfMG7OU1TTyWObci97/AAva20C8qAbAD5CYUsOqXIGpJN+/U3M5VGu9SjlFxlWnvfM3aHaH93Qj46ztQMcg10Gu+m/zk5RykxAxyDUWGu+kFAdSAfpJiAyjlICAagAfSZRAxCAaAAD5RlHIfaZRA1JQAdn1LEAanYDuEzZAdwD8xMogYlBcGwuNjaMg1NhrvpvMogYlQSCQCRsbbRkF72F+dplEDAU1AtlFuVtI4a6dkababfKZxAgiMo5Dn9ZMQMQgHcPtBUEWIFuUyiBjkHIfaTlHKTEDHILk2FzubbwUB3A+0yiBiFHIctu6AgAsAABtpMogQBJiIESH9k/IyZD+yfkYGUREBERATCpTVxlZQw5EXEziBX/BUbW4VOwN7ZRa/OScJSNr000tbsjS232m+IGKoBewAubmw3PMyOGOQ3vt38/nM4gaadAK7vclmsNbaAbAfDU/eKlAM6uSexsulr2tfnexM3RA18FM2fKuf3rC/wB5iMLTF7U0F737I1vvN0QMWUHcA6315iYvQRvaRTrfUDfnNkQNfBSxGVbEWIsLWGwkcBM2fIub3rC/3m2IGDUlJuVBOm45G4/WSFAvYb6n46TKIGpaCAEBFAIsQANRy/WSaCFgxRcw2NhcfWbIgYlQTewva1/hymBw6Eqci3X2TYafKbYgamw6HNdFObVuyNbbXkNhaZABpoQNgVGnym6RAwaihIYqpYbEgXHyjgpmz5Vz+9YX+82SIGBoIbXVdBYaDQcv0H2myIgIiIESZEmAiIgIiICIiAiIgIiICIiAiIgIiICIiAiIgIiICIiBEh/ZPyMymL+yfkYGURECvjcQaSZgL9tFt/idV/3mml0mjLezg52ULkYscp1IFtpuxmH4qZb27SNe3uuGt+kp1OicxBzKSrOVzISLObsDrrr36bSa1FVq0vSFIkAEklc+isezrqdNNjNb9KUwBZahOZVIyMCM2xtbaQvRoCuobLmpin2RaxuxLDzTWnRZXMVZFYlCMtOyjIT+W/ffnGnluHSSAXa97uLIrNojFSTYX7v/AOyW6Tog2zE+zqFYqA3skkC1jNS9HMhzU6mVjnBJW4s1QvtfcFjJXosKjoGNmVFFxtk/neNMWcRikp2DXJa9lVSxNt9B3TW3SNIGxY/lucrWGbYMbWBOm/MRicKWqJVRgtRAyglbgq1iQRcd6iaX6OYlhxOxUKmoMupIABsb6A5RfQ/CNIpn+9qNyAXJuy6U3NyhswGmtpL9K0RqWNsquSEYgK2zE20HzkUOj8hU5r5Xqvt4jMbfTNKv7sqdumHy02pJTJygkgBgba6Gx777xq1ytJ0it3DA3FRkUKCxYAA3sB8Zn+8aWna3CkaHtBjYW56/bvlap0OC2YMM2ZmAZbrZgtwQCPdGt5keitabBrNSH8Oy2AJ9skd+bb4frGp5SvS6BrMCBZyWAYqAj5dTb78pdWspZkB1UAnkL3tr9JSHR+TW+dbVcyZdWFR81hrpymfReDNOjapcu2rk77WAJHJQo+kaTXxiOlaZZbE5CjuXZWAsttQSNRrNh6SpAEksLFRYowbtGw7Nr6mVj0QWQU6lXMgptTACgGzW1J7yLDutIfo11Xs5M+emcypawVrkm5N41a5Wx0jTIuC18xXLkbNmAuRltfbWYv0rRXXMx7Oc2RjZbkEmw0sQb35TRU6JLdtnBqZyxJTs6qFy5b3tYDvvcTNeiwA4DAZqRp6LYAksS1r82Manlli+lETRbswZFOjZQWYCxa1r2N7fLnN9DFpUJC5ja+uVgDY2NiRY6yrU6MYlgtSyO6VGGW5zLl2N9jkHdNmGwJSq1TMNQRlVcoNyDmbWxItuANzGk1TYcfTz5Lm+bLfKcub3c1rXihj6dRgqlrkEi6sAbGxsSNbXmo9HEtbP/C4nFyZdc2bNbNfbNrt9ZnSwOVqJzX4SsNt81v6QYjFdJIhKi7MrKpsrWBYjQsBYGxvb5c5ielqajtkg9s9lWbso2Uk6aSKvR7Fny1LI7q7Llubrl2N9AQo7pj+6va7ftJVTbxHzX+kaeW8dI0rE3bQgWyNck7WFrm/w5SG6SpDLqxLZrKEYt2bZri1xa4mrF9FiqcxbUFCtxcAqGGovqCGMzw/R4Rka6gqHBCrYEsV13O2URpjYmPpsVClmuFNwrEAMNLm2k1jpSmEUubErnbKGYKt9ybaDQ6m2x5TUvRRBpWcDhhBmCWche7Nf2T3gg7mB0UyqQlXLmpim5y30F7FddD2jvcbRp5WD0jSz5Lm4YITlbKGIBAzWtrcTfXrLTQu5so3P/wAd8qr0eAGAbQ1EqbbZQot/4/rM6mHepRyVGAe4IZRsQ+ZTb6CDE4XFiq9QAEBMvtAg6jvBma4i9ZqWnZRW779osOVvy8/t36aeHqq5fOrF2XP2bAKAdBqfhMzhTxmqq9iy01IK30VmJ7+/Nb6QYmljabtlUm5vY5SA1t8ptYzZiMQtIBnJsSALAkknYWEo4bonhHsFOyDwyUuyk7XN9bfIXlyth87UmJ/s2zW5nKV//YwmW1fvKlYEFiSWGUIxbsmzXW19P6c4pdII9UU0Ba9MVMwBy2J01+Nj9ppTo1kIanUyuQ4Ylb3zOWuBfQgkzbg8AKLEqezkRACNRlv3/U93fGriMT0kq3VQWbMqeycuYkC2a1r6yP3tTAu5I3PZVmGXOVDE202mK9GsCBxewtRqgXLrdsxsTfUAtf6SKfRQVMmckWpLqPy0ze31N/vGnlvHSNIg6tcNly5GzXtf2bX2N5i/SlFQDdjdWbRGJAU2NwBpY85qr9FBjnzAvnZu0txZgBawIOgVdb90k9FjLUUNlz0+HoLAasWYC+5LGNPKwuOps+QEk7EhWsCVzWJtYaEH6zTT6VplVLEjMFY2ViqhvZzG2l7je0wrdGMzswqBLqygqljYrYBjezAd2klui/bUPak5BZMuugAsGvoCFHdzjTy3r0hTNTIC18xS+RrZgLkZrW2B+01Y/pHhOq2/KzuxDWVF3Og3kp0cAKYJuFao503Z81/9bSKvRinMFOVSqrltoAHLN5tvpGmWzbpKkBclgLXPYbsjm2mg0O8zOOp58lze+W+U5c3u5rWvK9fopXqs5ylXtnV1vsLaG4tcfAxR6KVahbsFc5cAr2gxN/av3H4Rp5dCTIkyskREBERAREQERECJD+yfkZMh/ZPyMDKIiAkSYgRNeIqlFzBWfUCy76m1/pNsiBzl6QqsxCUL2RWYF8rDMD2QCN9O8ibh0lRyqxewZc2oOg5tyHxM11cLW4zvSqU1DqoOZCSCt9RYgd80P0Nb2GuDTFNsxbWxY5uyRe+Y3B/STW/K5Ux9NSVBBYMqsORYi1/uNO+Z/jaWVWzrZ1zr8V01H3H3Ert0fowDAA1kqDTYLk0/8f1mv91MBVtUtm0p6ewubMV32JuNLaW5RqY3t0pSDU1BJNRygsp0YKT2h3bfrymVHH02p8TMAAAW1va4uPnKydGOGVgygrV4lrG1jS4ZXU3+Mil0QV4HbFkVRUFvbyG6fKzaxq1yvJjKbPkDAtqO/UjcA7EiaMR0itOrwzYAIXdiSAq93dY/cTVh+isjasGQFivafMM1/wC9YEXOv8psrdHXzZWsCgXUkn2r3uTGpltxx9IEAuNbHY6XNhflfuvvMhjKefh5hmva3xte19r27pUxPRheq7AjLUtmUl+4W/KwBuB3yKfRhWpfMGTOagBL3BJJtbNl3O9v6xpXK/WrLTUs5AUd5lSj0ojswtYK5W5PKmHJtv8AT4TOth3q0UzFVqqVfYlcym9t9pWHRjlnZnW7OW0U2F6OS2/1givqyOlKB2qDu7j+bY/I89psGMp58mYZr2truBci+17d0q1ujSyuMwGZKa7e4xN/reY0uiytQnMCmdqguXuCxJtbNl3Y622+8aVysp0lRYEioLABr66g6XHPXTTvk/j6dx2gFKuxJNrBMt7g/wCKV/3aciLdDkpcOzKSCbqb7/3ZrPRLMLNV/JUUbnLmKEWJNyBk797xpXK2OkaOUtnAAIBuCCC22h117ptp4lHQupuovfQ3Ftxbe8qfgajPxKjrmvT0VTayMT3nckn5TfTwYDMxJJLlhYkDW2hANjt3wY1YLpRKqqTZCwLKtzfJ7x0Ftj8PjNy4+kVZg4soBN7jQ7HXcHu5yrT6K/hGmzXDUBRJA1/NcjzTA9FMyMGdc/ZysDUOqtfW7bEgaDbnGr5X6eLptbK25K2sb3AuQR3ac4qYymrhGYBjbTXS5sL8rnnNWEwzU+9e0139skjLYWLE6x+GqLWZ6bLlqFSwZSSLaaWPePsdddoZww3SVOoPaCmzEg8lNjrtp38pknSFEqzBxZQCb3FgdjY9x7ucq1uis6IhfQLVU2Hvi1x8pNTo6pUOd6iZwEyZVOW6tmuQTrcgad0atcrP7wpWvn78trG9wLkZbX21ktjqQIBca2I3tY7XOwv3X3lWp0c7ZmYoXZs2zDLZbDKwNwfj3zD90NfWpnzBBULZxcqoBNlYDUDv2+MaVy6GIxKU7Z2tc2AsSTpfQDUzU/SVBQCai2Kh7jUZT+a47tN4xWHculSmyhkDCzAkENbkdDcCVR0SRTqpnF6lE075fzEuS1r7Xfb4RpFLxxlMPkLDNcC2u52BO1/hK9DpB6nDK0Tlbds3s6sOX939flfAdGEVWbMCjOHIJe4OmgAax1AO33lzC0eGgXTS+17aknvjTG2JMSsokxEBIkxAREQEiTEBERAREQEREBERAREQERECJD+yfkZMh/ZPyMDKJz+M3vGOM/vGBfiUOM3vGOM/vGBfkzn8Z/eMcZ/eMC/EocZ/eMcZ/eMC/EocZveMcZveMC/EocZ/eMcZveMC/EocZveMcZ/eMDoSJQ4ze8Y4ze8YF+JQ4ze8Y4ze8YF+JQ4ze8Y4ze8YF+JQ4ze8Y4ze8YF+JQ4ze8Y4ze8YF+JQ4ze8Y4ze8YHQkShxm94xxm94wL8mc/jN7xmjFdIGmBdtTtc2A21J5aj7wOtE850j0jiaSXGaoTo3DXLYMdGBYm5ABuPjfSdKniKhF2Njc7G+l9NbcoHSkShxm94xxm94wL8Shxm94xxm94wL8Shxm94xxm94wL8mc/jN7xjjN7xgdCJz+M3vGOM3vGBfkzn8ZveMcZveMDoROfxm94xxm94wOhE5/Gb3jHGb3jA6ETn8Z/eMcZveMDoROfxm94xxn94wL8Shxm94xxm94wL8Shxm94xxm94wL8Shxm94zFsXlIBqAE6AEgX+UDoyH9k/Iznpi81wtQGxsbEGx5GS9ZrHtHaBjONiqeLWrVNG+Vnutih2poBcNslw97a8p6HhLyjhDlA86gxzO4JKIToRwyV/tNBpqP7PcX1g08Y18x0Nhk7AA7NM3uNb5uIN56LhDlHCHKB556OKq4avTqFw7MAjAopy5he2XawvuTKY6PxpdmZzmYWuGAC5adVQVHdc8Mn/ABfCet4Q5RwhygeXShjFLsBUJa1iWTMOzRBNtVv2amlv5zVXrY1gaLZuI1JhlUJlB4J1Lbhs9tb22nreEOUcMcoHngcdmp37r57cMqdW2G9gMttb85YwlKu+HAqu9OoHuWGS5UHkBYA8p2eEvKOEOUDz/S+GrO7FFqNemBSKVcop1LntMLi49nn7JFtZpb8Y5azVMquL2FNb5aw9jv8AZDXzb6T03CXlHDHKB5vg40KoV2SwIsBTOuVze5B1zZB9T9MiuMV+yGy3qsRenYkjsDXUa945DSei4Q5RwhygeYNHGtkLFz3EE0wLcamQWAtrlzbcvjrmq49tCxUX1NqVwcj3C6EZM3Dtftb3npOEOUcIcoFSiWyLn0bKM3ztr+szljhDlHCHKBXiWOEOUcIcoFeJY4Q5RwhygV4ljhDlHCHKBXiWOEOUcIcoFeJY4Q5RwhygV5yuk8WqVEGVmDMKbWS4XUNqTpYi+vdO7whymD4ZGIJW9gRubWO+mxgcS2Vly9tjf+GzgtTNmtYDYdo3PL6CdOkmVFW98oAvzsLS0tBRsoHyk8JeUCvEscJeUcJeUCvEscJeUcJeUCvEscJeUcJeUCvEscJeUcJeUCvEscJeUcJeUCvNGOompRqICVZlIBB1BtofvL/CXlHCXlA8muGx9y9yGtnAzKbM7LnQX07KqbX07U3V6ePdXUnQ0rCwUXbJ3kG6tm5aWnpuEvKOEvKBwcVh8RVwRVmYV9T2WVbkNoAR+Xl38++dHhHjF+I2Urbh6ZQb3zc7y7wl5Rwl5QPLUMLiqYvTSohykOTVVszGoLMqsWAsublvaWuj6uJNYJVOior1NF9orbh3AtuC+nPlO/wl5RwhygcLo/DYha2INVtKirlZXuA129lSNLAr9u/WZ4/AM+GVMz1Kile1nKk9oZibEd152uEvKOEvKB5qpTxlgi8RUpvoVKXZRXGUAnXSne997a3mdIY4sAxIXOM5tT2yvcLb8l+GBftamei4S8o4S8oHmadPGkqjAimFQe0m6mmbgjXxL3vtOk9B/wAWlQFjT4Tqwv2Q2ZMunM9rWdThLyjhLygV5WxdJ3KhQuW93uSCbEEAaHSdHhLyjhLygcvBYVqbMWINwALE8yfoO1tLTbH5S1wl5TF6S2OndA2xEQEREBERAREQEREBERAREQEREBERAREQEREBERAREQEREBERAREQEREBERAREQEREBERAREQEREBERAREQEREBERAREQEREBMX2PymUxfY/KBlE+adYWM8PD+V/XHWFjPDw/lf1wPpcT5p1hYzw8P5X9cdYWM8PD+V/XA+lxPmnWFjPDw/lf1x1hYzw8P5X9cD6XE+adYWM8PD+V/XHWFjPDw/lf1wPpcT5p1hYzw8P5X9cdYWM8PD+V/XA+lxPmnWFjPDw/lf1x1hYzw8P5X9cD6XE+adYWM8PD+V/XHWFjPDw/lf1wPpcT5p1hYzw8P5X9cdYWM8PD+V/XA+lxPmnWFjPDw/lf1x1hYzw8P5X9cD6XE+adYWM8PD+V/XHWFjPDw/lf1wPpcT5p1hYzw8P5X9cdYWM8PD+V/XA+lxPmnWFjPDw/lf1x1hYzw8P5X9cD6XE+adYWM8PD+V/XHWFjPDw/lf1wPpcT5p1hYzw8P5X9cdYWM8PD+V/XA+lxPmnWFjPDw/lf1x1hYzw8P5X9cD6XE+adYWM8PD+V/XHWFjPDw/lf1wPpcT5p1hYzw8P5X9cdYWM8PD+V/XA+lxPmnWFjPDw/lf1x1hYzw8P5X9cD6XE+adYWM8PD+V/XHWFjPDw/lf1wPpcT5p1hYzw8P5X9cdYWM8PD+V/XA+lxPmnWFjPDw/lf1x1hYzw8P5X9cD6XE+adYWM8PD+V/XHWFjPDw/lf1wPpcT5p1hYzw8P5X9cdYWM8PD+V/XA+lxPmnWFjPDw/lf1x1hYzw8P5X9cD6XE+adYWM8PD+V/XHWFjPDw/lf1wPpcT5p1hYzw8P5X9cdYWM8PD+V/XA+lxPmnWFjPDw/lf1x1hYzw8P5X9cD6XE+adYWM8PD+V/XHWFjPDw/lf1wPpcT5p1hYzw8P5X9cdYWM8PD+V/XA+lzF9j8p826wsZ4eH8r+uD/xBxh/9vD+V/XA8nERAREQEREBERAREQEREBERAREQEREBERAREQEREBERAREQEREBERAREQEREBERAREQEREBERAREQEREBERAREQEREBERAREQEREBERAREQEREBERAREQEREBERAREQEREBERAREQEREBERAREQEREBERAREQEREBERAREQEREBERAREQEREBERAREQEREBERAREQEREBERAREQEREBERAREQEREBERAREQEREBERAREQEREBERAREQEREBERAREQEREBERAREQEREBERAREQEREBERAREQEREBERAREQERED//Z\n"
              }
            ],
            "_view_module": "@jupyter-widgets/output",
            "_model_module_version": "1.0.0",
            "_view_count": null,
            "_view_module_version": "1.0.0",
            "layout": "IPY_MODEL_c0a0454246314a848308cd341d11896c",
            "_model_module": "@jupyter-widgets/output"
          }
        },
        "3d3dc009ea124c3292a494d505f19791": {
          "model_module": "@jupyter-widgets/output",
          "model_name": "OutputModel",
          "state": {
            "_view_name": "OutputView",
            "msg_id": "",
            "_dom_classes": [],
            "_model_name": "OutputModel",
            "outputs": [
              {
                "output_type": "stream",
                "metadata": {
                  "tags": []
                },
                "text": "Video available at https://www.bilibili.com/video/BV1aL411H7Ce\n",
                "stream": "stdout"
              },
              {
                "output_type": "display_data",
                "metadata": {
                  "tags": []
                },
                "text/html": "\n        <iframe\n            width=\"854\"\n            height=\"480\"\n            src=\"https://player.bilibili.com/player.html?bvid=BV1aL411H7Ce&page=1?fs=1\"\n            frameborder=\"0\"\n            allowfullscreen\n        ></iframe>\n        ",
                "text/plain": "<__main__.BiliVideo at 0x7fe2b0f8bfd0>"
              }
            ],
            "_view_module": "@jupyter-widgets/output",
            "_model_module_version": "1.0.0",
            "_view_count": null,
            "_view_module_version": "1.0.0",
            "layout": "IPY_MODEL_e7293f9441f34c3b97f843df3a34b97f",
            "_model_module": "@jupyter-widgets/output"
          }
        },
        "c0a0454246314a848308cd341d11896c": {
          "model_module": "@jupyter-widgets/base",
          "model_name": "LayoutModel",
          "state": {
            "_view_name": "LayoutView",
            "grid_template_rows": null,
            "right": null,
            "justify_content": null,
            "_view_module": "@jupyter-widgets/base",
            "overflow": null,
            "_model_module_version": "1.2.0",
            "_view_count": null,
            "flex_flow": null,
            "width": null,
            "min_width": null,
            "border": null,
            "align_items": null,
            "bottom": null,
            "_model_module": "@jupyter-widgets/base",
            "top": null,
            "grid_column": null,
            "overflow_y": null,
            "overflow_x": null,
            "grid_auto_flow": null,
            "grid_area": null,
            "grid_template_columns": null,
            "flex": null,
            "_model_name": "LayoutModel",
            "justify_items": null,
            "grid_row": null,
            "max_height": null,
            "align_content": null,
            "visibility": null,
            "align_self": null,
            "height": null,
            "min_height": null,
            "padding": null,
            "grid_auto_rows": null,
            "grid_gap": null,
            "max_width": null,
            "order": null,
            "_view_module_version": "1.2.0",
            "grid_template_areas": null,
            "object_position": null,
            "object_fit": null,
            "grid_auto_columns": null,
            "margin": null,
            "display": null,
            "left": null
          }
        },
        "e7293f9441f34c3b97f843df3a34b97f": {
          "model_module": "@jupyter-widgets/base",
          "model_name": "LayoutModel",
          "state": {
            "_view_name": "LayoutView",
            "grid_template_rows": null,
            "right": null,
            "justify_content": null,
            "_view_module": "@jupyter-widgets/base",
            "overflow": null,
            "_model_module_version": "1.2.0",
            "_view_count": null,
            "flex_flow": null,
            "width": null,
            "min_width": null,
            "border": null,
            "align_items": null,
            "bottom": null,
            "_model_module": "@jupyter-widgets/base",
            "top": null,
            "grid_column": null,
            "overflow_y": null,
            "overflow_x": null,
            "grid_auto_flow": null,
            "grid_area": null,
            "grid_template_columns": null,
            "flex": null,
            "_model_name": "LayoutModel",
            "justify_items": null,
            "grid_row": null,
            "max_height": null,
            "align_content": null,
            "visibility": null,
            "align_self": null,
            "height": null,
            "min_height": null,
            "padding": null,
            "grid_auto_rows": null,
            "grid_gap": null,
            "max_width": null,
            "order": null,
            "_view_module_version": "1.2.0",
            "grid_template_areas": null,
            "object_position": null,
            "object_fit": null,
            "grid_auto_columns": null,
            "margin": null,
            "display": null,
            "left": null
          }
        },
        "7046d6371d47426eb2e9db34b4cd6e83": {
          "model_module": "@jupyter-widgets/controls",
          "model_name": "TextareaModel",
          "state": {
            "_view_name": "TextareaView",
            "style": "IPY_MODEL_7d7a00bcbe174c1e9873cb1e35fcdfb4",
            "rows": null,
            "_dom_classes": [],
            "description": "",
            "_model_name": "TextareaModel",
            "placeholder": "Type something",
            "_view_module": "@jupyter-widgets/controls",
            "_model_module_version": "1.5.0",
            "value": "Type your answer here and click on `Submit!`",
            "_view_count": null,
            "disabled": false,
            "_view_module_version": "1.5.0",
            "continuous_update": true,
            "description_tooltip": null,
            "_model_module": "@jupyter-widgets/controls",
            "layout": "IPY_MODEL_7de3985f89494ba69b7a652337e7e78b"
          }
        },
        "7d7a00bcbe174c1e9873cb1e35fcdfb4": {
          "model_module": "@jupyter-widgets/controls",
          "model_name": "DescriptionStyleModel",
          "state": {
            "_view_name": "StyleView",
            "_model_name": "DescriptionStyleModel",
            "description_width": "",
            "_view_module": "@jupyter-widgets/base",
            "_model_module_version": "1.5.0",
            "_view_count": null,
            "_view_module_version": "1.2.0",
            "_model_module": "@jupyter-widgets/controls"
          }
        },
        "7de3985f89494ba69b7a652337e7e78b": {
          "model_module": "@jupyter-widgets/base",
          "model_name": "LayoutModel",
          "state": {
            "_view_name": "LayoutView",
            "grid_template_rows": null,
            "right": null,
            "justify_content": null,
            "_view_module": "@jupyter-widgets/base",
            "overflow": null,
            "_model_module_version": "1.2.0",
            "_view_count": null,
            "flex_flow": null,
            "width": null,
            "min_width": null,
            "border": null,
            "align_items": null,
            "bottom": null,
            "_model_module": "@jupyter-widgets/base",
            "top": null,
            "grid_column": null,
            "overflow_y": null,
            "overflow_x": null,
            "grid_auto_flow": null,
            "grid_area": null,
            "grid_template_columns": null,
            "flex": null,
            "_model_name": "LayoutModel",
            "justify_items": null,
            "grid_row": null,
            "max_height": null,
            "align_content": null,
            "visibility": null,
            "align_self": null,
            "height": null,
            "min_height": null,
            "padding": null,
            "grid_auto_rows": null,
            "grid_gap": null,
            "max_width": null,
            "order": null,
            "_view_module_version": "1.2.0",
            "grid_template_areas": null,
            "object_position": null,
            "object_fit": null,
            "grid_auto_columns": null,
            "margin": null,
            "display": null,
            "left": null
          }
        },
        "9aeb158ce165416b9a3fc088834d3f2b": {
          "model_module": "@jupyter-widgets/controls",
          "model_name": "ButtonModel",
          "state": {
            "_view_name": "ButtonView",
            "style": "IPY_MODEL_b96e930afef94339bb54786ca7329b1f",
            "_dom_classes": [],
            "description": "Submit!",
            "_model_name": "ButtonModel",
            "button_style": "",
            "_view_module": "@jupyter-widgets/controls",
            "_model_module_version": "1.5.0",
            "tooltip": "",
            "_view_count": null,
            "disabled": false,
            "_view_module_version": "1.5.0",
            "layout": "IPY_MODEL_dcc09accdaf44bfb9b25bb0813424c31",
            "_model_module": "@jupyter-widgets/controls",
            "icon": ""
          }
        },
        "b96e930afef94339bb54786ca7329b1f": {
          "model_module": "@jupyter-widgets/controls",
          "model_name": "ButtonStyleModel",
          "state": {
            "_view_name": "StyleView",
            "_model_name": "ButtonStyleModel",
            "_view_module": "@jupyter-widgets/base",
            "_model_module_version": "1.5.0",
            "_view_count": null,
            "button_color": null,
            "font_weight": "",
            "_view_module_version": "1.2.0",
            "_model_module": "@jupyter-widgets/controls"
          }
        },
        "dcc09accdaf44bfb9b25bb0813424c31": {
          "model_module": "@jupyter-widgets/base",
          "model_name": "LayoutModel",
          "state": {
            "_view_name": "LayoutView",
            "grid_template_rows": null,
            "right": null,
            "justify_content": null,
            "_view_module": "@jupyter-widgets/base",
            "overflow": null,
            "_model_module_version": "1.2.0",
            "_view_count": null,
            "flex_flow": null,
            "width": null,
            "min_width": null,
            "border": null,
            "align_items": null,
            "bottom": null,
            "_model_module": "@jupyter-widgets/base",
            "top": null,
            "grid_column": null,
            "overflow_y": null,
            "overflow_x": null,
            "grid_auto_flow": null,
            "grid_area": null,
            "grid_template_columns": null,
            "flex": null,
            "_model_name": "LayoutModel",
            "justify_items": null,
            "grid_row": null,
            "max_height": null,
            "align_content": null,
            "visibility": null,
            "align_self": null,
            "height": null,
            "min_height": null,
            "padding": null,
            "grid_auto_rows": null,
            "grid_gap": null,
            "max_width": null,
            "order": null,
            "_view_module_version": "1.2.0",
            "grid_template_areas": null,
            "object_position": null,
            "object_fit": null,
            "grid_auto_columns": null,
            "margin": null,
            "display": null,
            "left": null
          }
        },
        "5e9fada5960a4860bf019c4e06ab74f9": {
          "model_module": "@jupyter-widgets/controls",
          "model_name": "TabModel",
          "state": {
            "_view_name": "TabView",
            "_dom_classes": [],
            "_titles": {
              "0": "Youtube",
              "1": "Bilibili"
            },
            "_model_name": "TabModel",
            "_view_module": "@jupyter-widgets/controls",
            "selected_index": 0,
            "_model_module_version": "1.5.0",
            "_view_count": null,
            "_view_module_version": "1.5.0",
            "box_style": "",
            "layout": "IPY_MODEL_3b2a7179cba64b0183855076d9d8fe35",
            "_model_module": "@jupyter-widgets/controls",
            "children": [
              "IPY_MODEL_010f021d6f114db797f051a34963c7a1",
              "IPY_MODEL_ff8e1068e1f94d06b228120d5acef195"
            ]
          }
        },
        "3b2a7179cba64b0183855076d9d8fe35": {
          "model_module": "@jupyter-widgets/base",
          "model_name": "LayoutModel",
          "state": {
            "_view_name": "LayoutView",
            "grid_template_rows": null,
            "right": null,
            "justify_content": null,
            "_view_module": "@jupyter-widgets/base",
            "overflow": null,
            "_model_module_version": "1.2.0",
            "_view_count": null,
            "flex_flow": null,
            "width": null,
            "min_width": null,
            "border": null,
            "align_items": null,
            "bottom": null,
            "_model_module": "@jupyter-widgets/base",
            "top": null,
            "grid_column": null,
            "overflow_y": null,
            "overflow_x": null,
            "grid_auto_flow": null,
            "grid_area": null,
            "grid_template_columns": null,
            "flex": null,
            "_model_name": "LayoutModel",
            "justify_items": null,
            "grid_row": null,
            "max_height": null,
            "align_content": null,
            "visibility": null,
            "align_self": null,
            "height": null,
            "min_height": null,
            "padding": null,
            "grid_auto_rows": null,
            "grid_gap": null,
            "max_width": null,
            "order": null,
            "_view_module_version": "1.2.0",
            "grid_template_areas": null,
            "object_position": null,
            "object_fit": null,
            "grid_auto_columns": null,
            "margin": null,
            "display": null,
            "left": null
          }
        },
        "010f021d6f114db797f051a34963c7a1": {
          "model_module": "@jupyter-widgets/output",
          "model_name": "OutputModel",
          "state": {
            "_view_name": "OutputView",
            "msg_id": "",
            "_dom_classes": [],
            "_model_name": "OutputModel",
            "outputs": [
              {
                "output_type": "stream",
                "metadata": {
                  "tags": []
                },
                "text": "Video available at https://youtube.com/watch?v=3ES5O58Y_2M\n",
                "stream": "stdout"
              },
              {
                "output_type": "display_data",
                "metadata": {
                  "tags": []
                },
                "text/html": "\n        <iframe\n            width=\"854\"\n            height=\"480\"\n            src=\"https://www.youtube.com/embed/3ES5O58Y_2M?fs=1&rel=0\"\n            frameborder=\"0\"\n            allowfullscreen\n        ></iframe>\n        ",
                "text/plain": "<IPython.lib.display.YouTubeVideo at 0x7fe2bc7f9350>",
                "image/jpeg": "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\n"
              }
            ],
            "_view_module": "@jupyter-widgets/output",
            "_model_module_version": "1.0.0",
            "_view_count": null,
            "_view_module_version": "1.0.0",
            "layout": "IPY_MODEL_51ebbd4eeeb4479494ba165b1e9a4397",
            "_model_module": "@jupyter-widgets/output"
          }
        },
        "ff8e1068e1f94d06b228120d5acef195": {
          "model_module": "@jupyter-widgets/output",
          "model_name": "OutputModel",
          "state": {
            "_view_name": "OutputView",
            "msg_id": "",
            "_dom_classes": [],
            "_model_name": "OutputModel",
            "outputs": [
              {
                "output_type": "stream",
                "metadata": {
                  "tags": []
                },
                "text": "Video available at https://www.bilibili.com/video/BV1NL411H71t\n",
                "stream": "stdout"
              },
              {
                "output_type": "display_data",
                "metadata": {
                  "tags": []
                },
                "text/html": "\n        <iframe\n            width=\"854\"\n            height=\"480\"\n            src=\"https://player.bilibili.com/player.html?bvid=BV1NL411H71t&page=1?fs=1\"\n            frameborder=\"0\"\n            allowfullscreen\n        ></iframe>\n        ",
                "text/plain": "<__main__.BiliVideo at 0x7fe2b0e5b510>"
              }
            ],
            "_view_module": "@jupyter-widgets/output",
            "_model_module_version": "1.0.0",
            "_view_count": null,
            "_view_module_version": "1.0.0",
            "layout": "IPY_MODEL_5d536e0452c846c4a2b7b561244051aa",
            "_model_module": "@jupyter-widgets/output"
          }
        },
        "51ebbd4eeeb4479494ba165b1e9a4397": {
          "model_module": "@jupyter-widgets/base",
          "model_name": "LayoutModel",
          "state": {
            "_view_name": "LayoutView",
            "grid_template_rows": null,
            "right": null,
            "justify_content": null,
            "_view_module": "@jupyter-widgets/base",
            "overflow": null,
            "_model_module_version": "1.2.0",
            "_view_count": null,
            "flex_flow": null,
            "width": null,
            "min_width": null,
            "border": null,
            "align_items": null,
            "bottom": null,
            "_model_module": "@jupyter-widgets/base",
            "top": null,
            "grid_column": null,
            "overflow_y": null,
            "overflow_x": null,
            "grid_auto_flow": null,
            "grid_area": null,
            "grid_template_columns": null,
            "flex": null,
            "_model_name": "LayoutModel",
            "justify_items": null,
            "grid_row": null,
            "max_height": null,
            "align_content": null,
            "visibility": null,
            "align_self": null,
            "height": null,
            "min_height": null,
            "padding": null,
            "grid_auto_rows": null,
            "grid_gap": null,
            "max_width": null,
            "order": null,
            "_view_module_version": "1.2.0",
            "grid_template_areas": null,
            "object_position": null,
            "object_fit": null,
            "grid_auto_columns": null,
            "margin": null,
            "display": null,
            "left": null
          }
        },
        "5d536e0452c846c4a2b7b561244051aa": {
          "model_module": "@jupyter-widgets/base",
          "model_name": "LayoutModel",
          "state": {
            "_view_name": "LayoutView",
            "grid_template_rows": null,
            "right": null,
            "justify_content": null,
            "_view_module": "@jupyter-widgets/base",
            "overflow": null,
            "_model_module_version": "1.2.0",
            "_view_count": null,
            "flex_flow": null,
            "width": null,
            "min_width": null,
            "border": null,
            "align_items": null,
            "bottom": null,
            "_model_module": "@jupyter-widgets/base",
            "top": null,
            "grid_column": null,
            "overflow_y": null,
            "overflow_x": null,
            "grid_auto_flow": null,
            "grid_area": null,
            "grid_template_columns": null,
            "flex": null,
            "_model_name": "LayoutModel",
            "justify_items": null,
            "grid_row": null,
            "max_height": null,
            "align_content": null,
            "visibility": null,
            "align_self": null,
            "height": null,
            "min_height": null,
            "padding": null,
            "grid_auto_rows": null,
            "grid_gap": null,
            "max_width": null,
            "order": null,
            "_view_module_version": "1.2.0",
            "grid_template_areas": null,
            "object_position": null,
            "object_fit": null,
            "grid_auto_columns": null,
            "margin": null,
            "display": null,
            "left": null
          }
        },
        "74f2d3597b3c4e7eb7d4cf937ac8d32a": {
          "model_module": "@jupyter-widgets/controls",
          "model_name": "HBoxModel",
          "state": {
            "_view_name": "HBoxView",
            "_dom_classes": [],
            "_model_name": "HBoxModel",
            "_view_module": "@jupyter-widgets/controls",
            "_model_module_version": "1.5.0",
            "_view_count": null,
            "_view_module_version": "1.5.0",
            "box_style": "",
            "layout": "IPY_MODEL_dbe976d0aea64210834d1083d96b7cf9",
            "_model_module": "@jupyter-widgets/controls",
            "children": [
              "IPY_MODEL_7c1bc2d1fc724fb7807e328db6841d01",
              "IPY_MODEL_255437892b5f47ddb1962ce6f7976b18"
            ]
          }
        },
        "dbe976d0aea64210834d1083d96b7cf9": {
          "model_module": "@jupyter-widgets/base",
          "model_name": "LayoutModel",
          "state": {
            "_view_name": "LayoutView",
            "grid_template_rows": null,
            "right": null,
            "justify_content": null,
            "_view_module": "@jupyter-widgets/base",
            "overflow": null,
            "_model_module_version": "1.2.0",
            "_view_count": null,
            "flex_flow": null,
            "width": null,
            "min_width": null,
            "border": null,
            "align_items": null,
            "bottom": null,
            "_model_module": "@jupyter-widgets/base",
            "top": null,
            "grid_column": null,
            "overflow_y": null,
            "overflow_x": null,
            "grid_auto_flow": null,
            "grid_area": null,
            "grid_template_columns": null,
            "flex": null,
            "_model_name": "LayoutModel",
            "justify_items": null,
            "grid_row": null,
            "max_height": null,
            "align_content": null,
            "visibility": null,
            "align_self": null,
            "height": null,
            "min_height": null,
            "padding": null,
            "grid_auto_rows": null,
            "grid_gap": null,
            "max_width": null,
            "order": null,
            "_view_module_version": "1.2.0",
            "grid_template_areas": null,
            "object_position": null,
            "object_fit": null,
            "grid_auto_columns": null,
            "margin": null,
            "display": null,
            "left": null
          }
        },
        "7c1bc2d1fc724fb7807e328db6841d01": {
          "model_module": "@jupyter-widgets/controls",
          "model_name": "FloatProgressModel",
          "state": {
            "_view_name": "ProgressView",
            "style": "IPY_MODEL_78d03a506ad043b8b4eae7f75c0c34f0",
            "_dom_classes": [],
            "description": "100%",
            "_model_name": "FloatProgressModel",
            "bar_style": "success",
            "max": 200,
            "_view_module": "@jupyter-widgets/controls",
            "_model_module_version": "1.5.0",
            "value": 200,
            "_view_count": null,
            "_view_module_version": "1.5.0",
            "orientation": "horizontal",
            "min": 0,
            "description_tooltip": null,
            "_model_module": "@jupyter-widgets/controls",
            "layout": "IPY_MODEL_ef98d7faeacf4068982c03852face537"
          }
        },
        "255437892b5f47ddb1962ce6f7976b18": {
          "model_module": "@jupyter-widgets/controls",
          "model_name": "HTMLModel",
          "state": {
            "_view_name": "HTMLView",
            "style": "IPY_MODEL_18ab34ce67874d67a7f78db2f4c91e09",
            "_dom_classes": [],
            "description": "",
            "_model_name": "HTMLModel",
            "placeholder": "​",
            "_view_module": "@jupyter-widgets/controls",
            "_model_module_version": "1.5.0",
            "value": " 200/200 [00:06&lt;00:00, 33.12it/s]",
            "_view_count": null,
            "_view_module_version": "1.5.0",
            "description_tooltip": null,
            "_model_module": "@jupyter-widgets/controls",
            "layout": "IPY_MODEL_f467fde001cf4451a2cafa51962d5399"
          }
        },
        "78d03a506ad043b8b4eae7f75c0c34f0": {
          "model_module": "@jupyter-widgets/controls",
          "model_name": "ProgressStyleModel",
          "state": {
            "_view_name": "StyleView",
            "_model_name": "ProgressStyleModel",
            "description_width": "initial",
            "_view_module": "@jupyter-widgets/base",
            "_model_module_version": "1.5.0",
            "_view_count": null,
            "_view_module_version": "1.2.0",
            "bar_color": null,
            "_model_module": "@jupyter-widgets/controls"
          }
        },
        "ef98d7faeacf4068982c03852face537": {
          "model_module": "@jupyter-widgets/base",
          "model_name": "LayoutModel",
          "state": {
            "_view_name": "LayoutView",
            "grid_template_rows": null,
            "right": null,
            "justify_content": null,
            "_view_module": "@jupyter-widgets/base",
            "overflow": null,
            "_model_module_version": "1.2.0",
            "_view_count": null,
            "flex_flow": null,
            "width": null,
            "min_width": null,
            "border": null,
            "align_items": null,
            "bottom": null,
            "_model_module": "@jupyter-widgets/base",
            "top": null,
            "grid_column": null,
            "overflow_y": null,
            "overflow_x": null,
            "grid_auto_flow": null,
            "grid_area": null,
            "grid_template_columns": null,
            "flex": null,
            "_model_name": "LayoutModel",
            "justify_items": null,
            "grid_row": null,
            "max_height": null,
            "align_content": null,
            "visibility": null,
            "align_self": null,
            "height": null,
            "min_height": null,
            "padding": null,
            "grid_auto_rows": null,
            "grid_gap": null,
            "max_width": null,
            "order": null,
            "_view_module_version": "1.2.0",
            "grid_template_areas": null,
            "object_position": null,
            "object_fit": null,
            "grid_auto_columns": null,
            "margin": null,
            "display": null,
            "left": null
          }
        },
        "18ab34ce67874d67a7f78db2f4c91e09": {
          "model_module": "@jupyter-widgets/controls",
          "model_name": "DescriptionStyleModel",
          "state": {
            "_view_name": "StyleView",
            "_model_name": "DescriptionStyleModel",
            "description_width": "",
            "_view_module": "@jupyter-widgets/base",
            "_model_module_version": "1.5.0",
            "_view_count": null,
            "_view_module_version": "1.2.0",
            "_model_module": "@jupyter-widgets/controls"
          }
        },
        "f467fde001cf4451a2cafa51962d5399": {
          "model_module": "@jupyter-widgets/base",
          "model_name": "LayoutModel",
          "state": {
            "_view_name": "LayoutView",
            "grid_template_rows": null,
            "right": null,
            "justify_content": null,
            "_view_module": "@jupyter-widgets/base",
            "overflow": null,
            "_model_module_version": "1.2.0",
            "_view_count": null,
            "flex_flow": null,
            "width": null,
            "min_width": null,
            "border": null,
            "align_items": null,
            "bottom": null,
            "_model_module": "@jupyter-widgets/base",
            "top": null,
            "grid_column": null,
            "overflow_y": null,
            "overflow_x": null,
            "grid_auto_flow": null,
            "grid_area": null,
            "grid_template_columns": null,
            "flex": null,
            "_model_name": "LayoutModel",
            "justify_items": null,
            "grid_row": null,
            "max_height": null,
            "align_content": null,
            "visibility": null,
            "align_self": null,
            "height": null,
            "min_height": null,
            "padding": null,
            "grid_auto_rows": null,
            "grid_gap": null,
            "max_width": null,
            "order": null,
            "_view_module_version": "1.2.0",
            "grid_template_areas": null,
            "object_position": null,
            "object_fit": null,
            "grid_auto_columns": null,
            "margin": null,
            "display": null,
            "left": null
          }
        },
        "5d739f7ff5b9476a92318ce4cacdec7d": {
          "model_module": "@jupyter-widgets/controls",
          "model_name": "VBoxModel",
          "state": {
            "_view_name": "VBoxView",
            "_dom_classes": [
              "widget-interact"
            ],
            "_model_name": "VBoxModel",
            "_view_module": "@jupyter-widgets/controls",
            "_model_module_version": "1.5.0",
            "_view_count": null,
            "_view_module_version": "1.5.0",
            "box_style": "",
            "layout": "IPY_MODEL_7af4a6e452974a1f8ec5c8f54734c8fb",
            "_model_module": "@jupyter-widgets/controls",
            "children": [
              "IPY_MODEL_85c10bd41efc48f69656a755c5f196a3",
              "IPY_MODEL_b703913c2b5a405e947ad67c088ef8ff",
              "IPY_MODEL_0b2767c83bb14b9a9c1742f19483c44e",
              "IPY_MODEL_84982cd8054f4b19ad560e7c7684b5e4",
              "IPY_MODEL_19dbc64e7f464391a0edfcee253f1b10"
            ]
          }
        },
        "7af4a6e452974a1f8ec5c8f54734c8fb": {
          "model_module": "@jupyter-widgets/base",
          "model_name": "LayoutModel",
          "state": {
            "_view_name": "LayoutView",
            "grid_template_rows": null,
            "right": null,
            "justify_content": null,
            "_view_module": "@jupyter-widgets/base",
            "overflow": null,
            "_model_module_version": "1.2.0",
            "_view_count": null,
            "flex_flow": null,
            "width": null,
            "min_width": null,
            "border": null,
            "align_items": null,
            "bottom": null,
            "_model_module": "@jupyter-widgets/base",
            "top": null,
            "grid_column": null,
            "overflow_y": null,
            "overflow_x": null,
            "grid_auto_flow": null,
            "grid_area": null,
            "grid_template_columns": null,
            "flex": null,
            "_model_name": "LayoutModel",
            "justify_items": null,
            "grid_row": null,
            "max_height": null,
            "align_content": null,
            "visibility": null,
            "align_self": null,
            "height": null,
            "min_height": null,
            "padding": null,
            "grid_auto_rows": null,
            "grid_gap": null,
            "max_width": null,
            "order": null,
            "_view_module_version": "1.2.0",
            "grid_template_areas": null,
            "object_position": null,
            "object_fit": null,
            "grid_auto_columns": null,
            "margin": null,
            "display": null,
            "left": null
          }
        },
        "85c10bd41efc48f69656a755c5f196a3": {
          "model_module": "@jupyter-widgets/controls",
          "model_name": "IntSliderModel",
          "state": {
            "_view_name": "IntSliderView",
            "style": "IPY_MODEL_32cfaec559914ba0aaadec661e956332",
            "_dom_classes": [],
            "description": "max_steps",
            "step": 5,
            "_model_name": "IntSliderModel",
            "orientation": "horizontal",
            "max": 500,
            "_view_module": "@jupyter-widgets/controls",
            "_model_module_version": "1.5.0",
            "value": 300,
            "_view_count": null,
            "disabled": false,
            "_view_module_version": "1.5.0",
            "min": 50,
            "continuous_update": true,
            "readout_format": "d",
            "description_tooltip": null,
            "readout": true,
            "_model_module": "@jupyter-widgets/controls",
            "layout": "IPY_MODEL_ae08dc794e744176acb06b3bdeffe3bc"
          }
        },
        "b703913c2b5a405e947ad67c088ef8ff": {
          "model_module": "@jupyter-widgets/controls",
          "model_name": "FloatLogSliderModel",
          "state": {
            "_view_name": "FloatLogSliderView",
            "orientation": "horizontal",
            "_view_module": "@jupyter-widgets/controls",
            "_model_module_version": "1.5.0",
            "_view_count": null,
            "disabled": false,
            "readout_format": ".3g",
            "_model_module": "@jupyter-widgets/controls",
            "style": "IPY_MODEL_d0142d8b48ee43fabcfd8ed361ce7b56",
            "layout": "IPY_MODEL_0ae11d70f16744789fb2e05369841605",
            "min": -3,
            "continuous_update": true,
            "description_tooltip": null,
            "_dom_classes": [],
            "description": "lr",
            "_model_name": "FloatLogSliderModel",
            "max": 0.7,
            "readout": true,
            "step": 0.1,
            "base": 10,
            "value": 0.1,
            "_view_module_version": "1.5.0"
          }
        },
        "0b2767c83bb14b9a9c1742f19483c44e": {
          "model_module": "@jupyter-widgets/controls",
          "model_name": "FloatSliderModel",
          "state": {
            "_view_name": "FloatSliderView",
            "style": "IPY_MODEL_aff7b1585c29495bada3130682319184",
            "_dom_classes": [],
            "description": "beta",
            "step": 0.01,
            "_model_name": "FloatSliderModel",
            "orientation": "horizontal",
            "max": 1,
            "_view_module": "@jupyter-widgets/controls",
            "_model_module_version": "1.5.0",
            "value": 0.9,
            "_view_count": null,
            "disabled": false,
            "_view_module_version": "1.5.0",
            "min": 0,
            "continuous_update": true,
            "readout_format": ".2f",
            "description_tooltip": null,
            "readout": true,
            "_model_module": "@jupyter-widgets/controls",
            "layout": "IPY_MODEL_508dab6fe1a14bdd835f2b9a4a2c0364"
          }
        },
        "84982cd8054f4b19ad560e7c7684b5e4": {
          "model_module": "@jupyter-widgets/controls",
          "model_name": "ButtonModel",
          "state": {
            "_view_name": "ButtonView",
            "style": "IPY_MODEL_d6145995b6364f319d867dd16c558764",
            "_dom_classes": [],
            "description": "Run Interact",
            "_model_name": "ButtonModel",
            "button_style": "",
            "_view_module": "@jupyter-widgets/controls",
            "_model_module_version": "1.5.0",
            "tooltip": "",
            "_view_count": null,
            "disabled": false,
            "_view_module_version": "1.5.0",
            "layout": "IPY_MODEL_4945fb6943124d8ea81f9a21fee10c3e",
            "_model_module": "@jupyter-widgets/controls",
            "icon": ""
          }
        },
        "19dbc64e7f464391a0edfcee253f1b10": {
          "model_module": "@jupyter-widgets/output",
          "model_name": "OutputModel",
          "state": {
            "_view_name": "OutputView",
            "msg_id": "",
            "_dom_classes": [],
            "_model_name": "OutputModel",
            "outputs": [],
            "_view_module": "@jupyter-widgets/output",
            "_model_module_version": "1.0.0",
            "_view_count": null,
            "_view_module_version": "1.0.0",
            "layout": "IPY_MODEL_c456a7a9fa384ae69c069b7aebd645cc",
            "_model_module": "@jupyter-widgets/output"
          }
        },
        "32cfaec559914ba0aaadec661e956332": {
          "model_module": "@jupyter-widgets/controls",
          "model_name": "SliderStyleModel",
          "state": {
            "_view_name": "StyleView",
            "handle_color": null,
            "_model_name": "SliderStyleModel",
            "description_width": "",
            "_view_module": "@jupyter-widgets/base",
            "_model_module_version": "1.5.0",
            "_view_count": null,
            "_view_module_version": "1.2.0",
            "_model_module": "@jupyter-widgets/controls"
          }
        },
        "ae08dc794e744176acb06b3bdeffe3bc": {
          "model_module": "@jupyter-widgets/base",
          "model_name": "LayoutModel",
          "state": {
            "_view_name": "LayoutView",
            "grid_template_rows": null,
            "right": null,
            "justify_content": null,
            "_view_module": "@jupyter-widgets/base",
            "overflow": null,
            "_model_module_version": "1.2.0",
            "_view_count": null,
            "flex_flow": null,
            "width": null,
            "min_width": null,
            "border": null,
            "align_items": null,
            "bottom": null,
            "_model_module": "@jupyter-widgets/base",
            "top": null,
            "grid_column": null,
            "overflow_y": null,
            "overflow_x": null,
            "grid_auto_flow": null,
            "grid_area": null,
            "grid_template_columns": null,
            "flex": null,
            "_model_name": "LayoutModel",
            "justify_items": null,
            "grid_row": null,
            "max_height": null,
            "align_content": null,
            "visibility": null,
            "align_self": null,
            "height": null,
            "min_height": null,
            "padding": null,
            "grid_auto_rows": null,
            "grid_gap": null,
            "max_width": null,
            "order": null,
            "_view_module_version": "1.2.0",
            "grid_template_areas": null,
            "object_position": null,
            "object_fit": null,
            "grid_auto_columns": null,
            "margin": null,
            "display": null,
            "left": null
          }
        },
        "d0142d8b48ee43fabcfd8ed361ce7b56": {
          "model_module": "@jupyter-widgets/controls",
          "model_name": "SliderStyleModel",
          "state": {
            "_view_name": "StyleView",
            "handle_color": null,
            "_model_name": "SliderStyleModel",
            "description_width": "",
            "_view_module": "@jupyter-widgets/base",
            "_model_module_version": "1.5.0",
            "_view_count": null,
            "_view_module_version": "1.2.0",
            "_model_module": "@jupyter-widgets/controls"
          }
        },
        "0ae11d70f16744789fb2e05369841605": {
          "model_module": "@jupyter-widgets/base",
          "model_name": "LayoutModel",
          "state": {
            "_view_name": "LayoutView",
            "grid_template_rows": null,
            "right": null,
            "justify_content": null,
            "_view_module": "@jupyter-widgets/base",
            "overflow": null,
            "_model_module_version": "1.2.0",
            "_view_count": null,
            "flex_flow": null,
            "width": null,
            "min_width": null,
            "border": null,
            "align_items": null,
            "bottom": null,
            "_model_module": "@jupyter-widgets/base",
            "top": null,
            "grid_column": null,
            "overflow_y": null,
            "overflow_x": null,
            "grid_auto_flow": null,
            "grid_area": null,
            "grid_template_columns": null,
            "flex": null,
            "_model_name": "LayoutModel",
            "justify_items": null,
            "grid_row": null,
            "max_height": null,
            "align_content": null,
            "visibility": null,
            "align_self": null,
            "height": null,
            "min_height": null,
            "padding": null,
            "grid_auto_rows": null,
            "grid_gap": null,
            "max_width": null,
            "order": null,
            "_view_module_version": "1.2.0",
            "grid_template_areas": null,
            "object_position": null,
            "object_fit": null,
            "grid_auto_columns": null,
            "margin": null,
            "display": null,
            "left": null
          }
        },
        "aff7b1585c29495bada3130682319184": {
          "model_module": "@jupyter-widgets/controls",
          "model_name": "SliderStyleModel",
          "state": {
            "_view_name": "StyleView",
            "handle_color": null,
            "_model_name": "SliderStyleModel",
            "description_width": "",
            "_view_module": "@jupyter-widgets/base",
            "_model_module_version": "1.5.0",
            "_view_count": null,
            "_view_module_version": "1.2.0",
            "_model_module": "@jupyter-widgets/controls"
          }
        },
        "508dab6fe1a14bdd835f2b9a4a2c0364": {
          "model_module": "@jupyter-widgets/base",
          "model_name": "LayoutModel",
          "state": {
            "_view_name": "LayoutView",
            "grid_template_rows": null,
            "right": null,
            "justify_content": null,
            "_view_module": "@jupyter-widgets/base",
            "overflow": null,
            "_model_module_version": "1.2.0",
            "_view_count": null,
            "flex_flow": null,
            "width": null,
            "min_width": null,
            "border": null,
            "align_items": null,
            "bottom": null,
            "_model_module": "@jupyter-widgets/base",
            "top": null,
            "grid_column": null,
            "overflow_y": null,
            "overflow_x": null,
            "grid_auto_flow": null,
            "grid_area": null,
            "grid_template_columns": null,
            "flex": null,
            "_model_name": "LayoutModel",
            "justify_items": null,
            "grid_row": null,
            "max_height": null,
            "align_content": null,
            "visibility": null,
            "align_self": null,
            "height": null,
            "min_height": null,
            "padding": null,
            "grid_auto_rows": null,
            "grid_gap": null,
            "max_width": null,
            "order": null,
            "_view_module_version": "1.2.0",
            "grid_template_areas": null,
            "object_position": null,
            "object_fit": null,
            "grid_auto_columns": null,
            "margin": null,
            "display": null,
            "left": null
          }
        },
        "d6145995b6364f319d867dd16c558764": {
          "model_module": "@jupyter-widgets/controls",
          "model_name": "ButtonStyleModel",
          "state": {
            "_view_name": "StyleView",
            "_model_name": "ButtonStyleModel",
            "_view_module": "@jupyter-widgets/base",
            "_model_module_version": "1.5.0",
            "_view_count": null,
            "button_color": null,
            "font_weight": "",
            "_view_module_version": "1.2.0",
            "_model_module": "@jupyter-widgets/controls"
          }
        },
        "4945fb6943124d8ea81f9a21fee10c3e": {
          "model_module": "@jupyter-widgets/base",
          "model_name": "LayoutModel",
          "state": {
            "_view_name": "LayoutView",
            "grid_template_rows": null,
            "right": null,
            "justify_content": null,
            "_view_module": "@jupyter-widgets/base",
            "overflow": null,
            "_model_module_version": "1.2.0",
            "_view_count": null,
            "flex_flow": null,
            "width": null,
            "min_width": null,
            "border": null,
            "align_items": null,
            "bottom": null,
            "_model_module": "@jupyter-widgets/base",
            "top": null,
            "grid_column": null,
            "overflow_y": null,
            "overflow_x": null,
            "grid_auto_flow": null,
            "grid_area": null,
            "grid_template_columns": null,
            "flex": null,
            "_model_name": "LayoutModel",
            "justify_items": null,
            "grid_row": null,
            "max_height": null,
            "align_content": null,
            "visibility": null,
            "align_self": null,
            "height": null,
            "min_height": null,
            "padding": null,
            "grid_auto_rows": null,
            "grid_gap": null,
            "max_width": null,
            "order": null,
            "_view_module_version": "1.2.0",
            "grid_template_areas": null,
            "object_position": null,
            "object_fit": null,
            "grid_auto_columns": null,
            "margin": null,
            "display": null,
            "left": null
          }
        },
        "c456a7a9fa384ae69c069b7aebd645cc": {
          "model_module": "@jupyter-widgets/base",
          "model_name": "LayoutModel",
          "state": {
            "_view_name": "LayoutView",
            "grid_template_rows": null,
            "right": null,
            "justify_content": null,
            "_view_module": "@jupyter-widgets/base",
            "overflow": null,
            "_model_module_version": "1.2.0",
            "_view_count": null,
            "flex_flow": null,
            "width": null,
            "min_width": null,
            "border": null,
            "align_items": null,
            "bottom": null,
            "_model_module": "@jupyter-widgets/base",
            "top": null,
            "grid_column": null,
            "overflow_y": null,
            "overflow_x": null,
            "grid_auto_flow": null,
            "grid_area": null,
            "grid_template_columns": null,
            "flex": null,
            "_model_name": "LayoutModel",
            "justify_items": null,
            "grid_row": null,
            "max_height": null,
            "align_content": null,
            "visibility": null,
            "align_self": null,
            "height": null,
            "min_height": null,
            "padding": null,
            "grid_auto_rows": null,
            "grid_gap": null,
            "max_width": null,
            "order": null,
            "_view_module_version": "1.2.0",
            "grid_template_areas": null,
            "object_position": null,
            "object_fit": null,
            "grid_auto_columns": null,
            "margin": null,
            "display": null,
            "left": null
          }
        },
        "e6c2ad47a8a64757a7d909e72b609c8c": {
          "model_module": "@jupyter-widgets/controls",
          "model_name": "TextareaModel",
          "state": {
            "_view_name": "TextareaView",
            "style": "IPY_MODEL_857dc638fefb471f9f5339ac4086b2b2",
            "rows": null,
            "_dom_classes": [],
            "description": "",
            "_model_name": "TextareaModel",
            "placeholder": "Type something",
            "_view_module": "@jupyter-widgets/controls",
            "_model_module_version": "1.5.0",
            "value": "Type your answer here and click on `Submit!`",
            "_view_count": null,
            "disabled": false,
            "_view_module_version": "1.5.0",
            "continuous_update": true,
            "description_tooltip": null,
            "_model_module": "@jupyter-widgets/controls",
            "layout": "IPY_MODEL_d0d827c1cb514321aea95629e9aa8058"
          }
        },
        "857dc638fefb471f9f5339ac4086b2b2": {
          "model_module": "@jupyter-widgets/controls",
          "model_name": "DescriptionStyleModel",
          "state": {
            "_view_name": "StyleView",
            "_model_name": "DescriptionStyleModel",
            "description_width": "",
            "_view_module": "@jupyter-widgets/base",
            "_model_module_version": "1.5.0",
            "_view_count": null,
            "_view_module_version": "1.2.0",
            "_model_module": "@jupyter-widgets/controls"
          }
        },
        "d0d827c1cb514321aea95629e9aa8058": {
          "model_module": "@jupyter-widgets/base",
          "model_name": "LayoutModel",
          "state": {
            "_view_name": "LayoutView",
            "grid_template_rows": null,
            "right": null,
            "justify_content": null,
            "_view_module": "@jupyter-widgets/base",
            "overflow": null,
            "_model_module_version": "1.2.0",
            "_view_count": null,
            "flex_flow": null,
            "width": null,
            "min_width": null,
            "border": null,
            "align_items": null,
            "bottom": null,
            "_model_module": "@jupyter-widgets/base",
            "top": null,
            "grid_column": null,
            "overflow_y": null,
            "overflow_x": null,
            "grid_auto_flow": null,
            "grid_area": null,
            "grid_template_columns": null,
            "flex": null,
            "_model_name": "LayoutModel",
            "justify_items": null,
            "grid_row": null,
            "max_height": null,
            "align_content": null,
            "visibility": null,
            "align_self": null,
            "height": null,
            "min_height": null,
            "padding": null,
            "grid_auto_rows": null,
            "grid_gap": null,
            "max_width": null,
            "order": null,
            "_view_module_version": "1.2.0",
            "grid_template_areas": null,
            "object_position": null,
            "object_fit": null,
            "grid_auto_columns": null,
            "margin": null,
            "display": null,
            "left": null
          }
        },
        "eb40f70937cc4bc3926854d396a72cda": {
          "model_module": "@jupyter-widgets/controls",
          "model_name": "ButtonModel",
          "state": {
            "_view_name": "ButtonView",
            "style": "IPY_MODEL_2b1faedce629401289de1bcc0c1bd197",
            "_dom_classes": [],
            "description": "Submit!",
            "_model_name": "ButtonModel",
            "button_style": "",
            "_view_module": "@jupyter-widgets/controls",
            "_model_module_version": "1.5.0",
            "tooltip": "",
            "_view_count": null,
            "disabled": false,
            "_view_module_version": "1.5.0",
            "layout": "IPY_MODEL_7c32e69e94284955abe72ec4f91a7410",
            "_model_module": "@jupyter-widgets/controls",
            "icon": ""
          }
        },
        "2b1faedce629401289de1bcc0c1bd197": {
          "model_module": "@jupyter-widgets/controls",
          "model_name": "ButtonStyleModel",
          "state": {
            "_view_name": "StyleView",
            "_model_name": "ButtonStyleModel",
            "_view_module": "@jupyter-widgets/base",
            "_model_module_version": "1.5.0",
            "_view_count": null,
            "button_color": null,
            "font_weight": "",
            "_view_module_version": "1.2.0",
            "_model_module": "@jupyter-widgets/controls"
          }
        },
        "7c32e69e94284955abe72ec4f91a7410": {
          "model_module": "@jupyter-widgets/base",
          "model_name": "LayoutModel",
          "state": {
            "_view_name": "LayoutView",
            "grid_template_rows": null,
            "right": null,
            "justify_content": null,
            "_view_module": "@jupyter-widgets/base",
            "overflow": null,
            "_model_module_version": "1.2.0",
            "_view_count": null,
            "flex_flow": null,
            "width": null,
            "min_width": null,
            "border": null,
            "align_items": null,
            "bottom": null,
            "_model_module": "@jupyter-widgets/base",
            "top": null,
            "grid_column": null,
            "overflow_y": null,
            "overflow_x": null,
            "grid_auto_flow": null,
            "grid_area": null,
            "grid_template_columns": null,
            "flex": null,
            "_model_name": "LayoutModel",
            "justify_items": null,
            "grid_row": null,
            "max_height": null,
            "align_content": null,
            "visibility": null,
            "align_self": null,
            "height": null,
            "min_height": null,
            "padding": null,
            "grid_auto_rows": null,
            "grid_gap": null,
            "max_width": null,
            "order": null,
            "_view_module_version": "1.2.0",
            "grid_template_areas": null,
            "object_position": null,
            "object_fit": null,
            "grid_auto_columns": null,
            "margin": null,
            "display": null,
            "left": null
          }
        },
        "219b3447d2ea4d938efc8bdcfb97a64c": {
          "model_module": "@jupyter-widgets/controls",
          "model_name": "TabModel",
          "state": {
            "_view_name": "TabView",
            "_dom_classes": [],
            "_titles": {
              "0": "Youtube",
              "1": "Bilibili"
            },
            "_model_name": "TabModel",
            "_view_module": "@jupyter-widgets/controls",
            "selected_index": 0,
            "_model_module_version": "1.5.0",
            "_view_count": null,
            "_view_module_version": "1.5.0",
            "box_style": "",
            "layout": "IPY_MODEL_45730b62d5cc4eb7a1050e4c0fce44e5",
            "_model_module": "@jupyter-widgets/controls",
            "children": [
              "IPY_MODEL_344c75bc3f7e46cfa0a5f9865b2ed6a1",
              "IPY_MODEL_b9ef4d7982884857adaa4c362cd682e1"
            ]
          }
        },
        "45730b62d5cc4eb7a1050e4c0fce44e5": {
          "model_module": "@jupyter-widgets/base",
          "model_name": "LayoutModel",
          "state": {
            "_view_name": "LayoutView",
            "grid_template_rows": null,
            "right": null,
            "justify_content": null,
            "_view_module": "@jupyter-widgets/base",
            "overflow": null,
            "_model_module_version": "1.2.0",
            "_view_count": null,
            "flex_flow": null,
            "width": null,
            "min_width": null,
            "border": null,
            "align_items": null,
            "bottom": null,
            "_model_module": "@jupyter-widgets/base",
            "top": null,
            "grid_column": null,
            "overflow_y": null,
            "overflow_x": null,
            "grid_auto_flow": null,
            "grid_area": null,
            "grid_template_columns": null,
            "flex": null,
            "_model_name": "LayoutModel",
            "justify_items": null,
            "grid_row": null,
            "max_height": null,
            "align_content": null,
            "visibility": null,
            "align_self": null,
            "height": null,
            "min_height": null,
            "padding": null,
            "grid_auto_rows": null,
            "grid_gap": null,
            "max_width": null,
            "order": null,
            "_view_module_version": "1.2.0",
            "grid_template_areas": null,
            "object_position": null,
            "object_fit": null,
            "grid_auto_columns": null,
            "margin": null,
            "display": null,
            "left": null
          }
        },
        "344c75bc3f7e46cfa0a5f9865b2ed6a1": {
          "model_module": "@jupyter-widgets/output",
          "model_name": "OutputModel",
          "state": {
            "_view_name": "OutputView",
            "msg_id": "",
            "_dom_classes": [],
            "_model_name": "OutputModel",
            "outputs": [
              {
                "output_type": "stream",
                "metadata": {
                  "tags": []
                },
                "text": "Video available at https://youtube.com/watch?v=7vUpUEKKl5o\n",
                "stream": "stdout"
              },
              {
                "output_type": "display_data",
                "metadata": {
                  "tags": []
                },
                "text/html": "\n        <iframe\n            width=\"854\"\n            height=\"480\"\n            src=\"https://www.youtube.com/embed/7vUpUEKKl5o?fs=1&rel=0\"\n            frameborder=\"0\"\n            allowfullscreen\n        ></iframe>\n        ",
                "text/plain": "<IPython.lib.display.YouTubeVideo at 0x7fe320e89610>",
                "image/jpeg": "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\n"
              }
            ],
            "_view_module": "@jupyter-widgets/output",
            "_model_module_version": "1.0.0",
            "_view_count": null,
            "_view_module_version": "1.0.0",
            "layout": "IPY_MODEL_a0b5764d797c4685b8a637b1243be976",
            "_model_module": "@jupyter-widgets/output"
          }
        },
        "b9ef4d7982884857adaa4c362cd682e1": {
          "model_module": "@jupyter-widgets/output",
          "model_name": "OutputModel",
          "state": {
            "_view_name": "OutputView",
            "msg_id": "",
            "_dom_classes": [],
            "_model_name": "OutputModel",
            "outputs": [
              {
                "output_type": "stream",
                "metadata": {
                  "tags": []
                },
                "text": "Video available at https://www.bilibili.com/video/BV16h41167Jr\n",
                "stream": "stdout"
              },
              {
                "output_type": "display_data",
                "metadata": {
                  "tags": []
                },
                "text/html": "\n        <iframe\n            width=\"854\"\n            height=\"480\"\n            src=\"https://player.bilibili.com/player.html?bvid=BV16h41167Jr&page=1?fs=1\"\n            frameborder=\"0\"\n            allowfullscreen\n        ></iframe>\n        ",
                "text/plain": "<__main__.BiliVideo at 0x7fe2b0ec3150>"
              }
            ],
            "_view_module": "@jupyter-widgets/output",
            "_model_module_version": "1.0.0",
            "_view_count": null,
            "_view_module_version": "1.0.0",
            "layout": "IPY_MODEL_f84dc1d6ed6d449aac277bd71251b3c6",
            "_model_module": "@jupyter-widgets/output"
          }
        },
        "a0b5764d797c4685b8a637b1243be976": {
          "model_module": "@jupyter-widgets/base",
          "model_name": "LayoutModel",
          "state": {
            "_view_name": "LayoutView",
            "grid_template_rows": null,
            "right": null,
            "justify_content": null,
            "_view_module": "@jupyter-widgets/base",
            "overflow": null,
            "_model_module_version": "1.2.0",
            "_view_count": null,
            "flex_flow": null,
            "width": null,
            "min_width": null,
            "border": null,
            "align_items": null,
            "bottom": null,
            "_model_module": "@jupyter-widgets/base",
            "top": null,
            "grid_column": null,
            "overflow_y": null,
            "overflow_x": null,
            "grid_auto_flow": null,
            "grid_area": null,
            "grid_template_columns": null,
            "flex": null,
            "_model_name": "LayoutModel",
            "justify_items": null,
            "grid_row": null,
            "max_height": null,
            "align_content": null,
            "visibility": null,
            "align_self": null,
            "height": null,
            "min_height": null,
            "padding": null,
            "grid_auto_rows": null,
            "grid_gap": null,
            "max_width": null,
            "order": null,
            "_view_module_version": "1.2.0",
            "grid_template_areas": null,
            "object_position": null,
            "object_fit": null,
            "grid_auto_columns": null,
            "margin": null,
            "display": null,
            "left": null
          }
        },
        "f84dc1d6ed6d449aac277bd71251b3c6": {
          "model_module": "@jupyter-widgets/base",
          "model_name": "LayoutModel",
          "state": {
            "_view_name": "LayoutView",
            "grid_template_rows": null,
            "right": null,
            "justify_content": null,
            "_view_module": "@jupyter-widgets/base",
            "overflow": null,
            "_model_module_version": "1.2.0",
            "_view_count": null,
            "flex_flow": null,
            "width": null,
            "min_width": null,
            "border": null,
            "align_items": null,
            "bottom": null,
            "_model_module": "@jupyter-widgets/base",
            "top": null,
            "grid_column": null,
            "overflow_y": null,
            "overflow_x": null,
            "grid_auto_flow": null,
            "grid_area": null,
            "grid_template_columns": null,
            "flex": null,
            "_model_name": "LayoutModel",
            "justify_items": null,
            "grid_row": null,
            "max_height": null,
            "align_content": null,
            "visibility": null,
            "align_self": null,
            "height": null,
            "min_height": null,
            "padding": null,
            "grid_auto_rows": null,
            "grid_gap": null,
            "max_width": null,
            "order": null,
            "_view_module_version": "1.2.0",
            "grid_template_areas": null,
            "object_position": null,
            "object_fit": null,
            "grid_auto_columns": null,
            "margin": null,
            "display": null,
            "left": null
          }
        },
        "50b1b7bb7c974044bbff95ab8b93cdca": {
          "model_module": "@jupyter-widgets/controls",
          "model_name": "VBoxModel",
          "state": {
            "_view_name": "VBoxView",
            "_dom_classes": [
              "widget-interact"
            ],
            "_model_name": "VBoxModel",
            "_view_module": "@jupyter-widgets/controls",
            "_model_module_version": "1.5.0",
            "_view_count": null,
            "_view_module_version": "1.5.0",
            "box_style": "",
            "layout": "IPY_MODEL_9179e1afe7fd4943b45056d985ee139f",
            "_model_module": "@jupyter-widgets/controls",
            "children": [
              "IPY_MODEL_e95f9f65b6e047a087e12e236c3fee76",
              "IPY_MODEL_25b3323ac4da4bc795227eada842491d",
              "IPY_MODEL_7b5b6bf175254bc1951c70c36dcf8ed2",
              "IPY_MODEL_1296f26ff1334d27874aa6db22683496",
              "IPY_MODEL_25666c6bfef1462dbda58a1df7d319e7",
              "IPY_MODEL_a0f1d81ffaf64f2792ee9bd3afd5887a"
            ]
          }
        },
        "9179e1afe7fd4943b45056d985ee139f": {
          "model_module": "@jupyter-widgets/base",
          "model_name": "LayoutModel",
          "state": {
            "_view_name": "LayoutView",
            "grid_template_rows": null,
            "right": null,
            "justify_content": null,
            "_view_module": "@jupyter-widgets/base",
            "overflow": null,
            "_model_module_version": "1.2.0",
            "_view_count": null,
            "flex_flow": null,
            "width": null,
            "min_width": null,
            "border": null,
            "align_items": null,
            "bottom": null,
            "_model_module": "@jupyter-widgets/base",
            "top": null,
            "grid_column": null,
            "overflow_y": null,
            "overflow_x": null,
            "grid_auto_flow": null,
            "grid_area": null,
            "grid_template_columns": null,
            "flex": null,
            "_model_name": "LayoutModel",
            "justify_items": null,
            "grid_row": null,
            "max_height": null,
            "align_content": null,
            "visibility": null,
            "align_self": null,
            "height": null,
            "min_height": null,
            "padding": null,
            "grid_auto_rows": null,
            "grid_gap": null,
            "max_width": null,
            "order": null,
            "_view_module_version": "1.2.0",
            "grid_template_areas": null,
            "object_position": null,
            "object_fit": null,
            "grid_auto_columns": null,
            "margin": null,
            "display": null,
            "left": null
          }
        },
        "e95f9f65b6e047a087e12e236c3fee76": {
          "model_module": "@jupyter-widgets/controls",
          "model_name": "IntSliderModel",
          "state": {
            "_view_name": "IntSliderView",
            "style": "IPY_MODEL_4a3f9b6a740b478395741682799e40a7",
            "_dom_classes": [],
            "description": "max_steps",
            "step": 5,
            "_model_name": "IntSliderModel",
            "orientation": "horizontal",
            "max": 500,
            "_view_module": "@jupyter-widgets/controls",
            "_model_module_version": "1.5.0",
            "value": 150,
            "_view_count": null,
            "disabled": false,
            "_view_module_version": "1.5.0",
            "min": 50,
            "continuous_update": true,
            "readout_format": "d",
            "description_tooltip": null,
            "readout": true,
            "_model_module": "@jupyter-widgets/controls",
            "layout": "IPY_MODEL_7208fc4ed1b949ffa92e15446f441d6c"
          }
        },
        "25b3323ac4da4bc795227eada842491d": {
          "model_module": "@jupyter-widgets/controls",
          "model_name": "DropdownModel",
          "state": {
            "_options_labels": [
              "10",
              "20, 20",
              "100, 100"
            ],
            "_view_name": "DropdownView",
            "style": "IPY_MODEL_924cd3380e264925b3ce2269750c4299",
            "_dom_classes": [],
            "description": "hidden_dims",
            "_model_name": "DropdownModel",
            "index": 0,
            "_view_module": "@jupyter-widgets/controls",
            "_model_module_version": "1.5.0",
            "_view_count": null,
            "disabled": false,
            "_view_module_version": "1.5.0",
            "description_tooltip": null,
            "_model_module": "@jupyter-widgets/controls",
            "layout": "IPY_MODEL_90f894f438aa48cfa8a3dcd6789c30cf"
          }
        },
        "7b5b6bf175254bc1951c70c36dcf8ed2": {
          "model_module": "@jupyter-widgets/controls",
          "model_name": "FloatLogSliderModel",
          "state": {
            "_view_name": "FloatLogSliderView",
            "orientation": "horizontal",
            "_view_module": "@jupyter-widgets/controls",
            "_model_module_version": "1.5.0",
            "_view_count": null,
            "disabled": false,
            "readout_format": ".3g",
            "_model_module": "@jupyter-widgets/controls",
            "style": "IPY_MODEL_fc465b92fe0a4075a74f10de48bb3555",
            "layout": "IPY_MODEL_769deed2efa04b48bb9c5a5c4096fec5",
            "min": -3,
            "continuous_update": true,
            "description_tooltip": null,
            "_dom_classes": [],
            "description": "lr",
            "_model_name": "FloatLogSliderModel",
            "max": 0,
            "readout": true,
            "step": 0.1,
            "base": 10,
            "value": 0.05,
            "_view_module_version": "1.5.0"
          }
        },
        "1296f26ff1334d27874aa6db22683496": {
          "model_module": "@jupyter-widgets/controls",
          "model_name": "IntSliderModel",
          "state": {
            "_view_name": "IntSliderView",
            "style": "IPY_MODEL_6637266534e94ce894b4b5165d69bcec",
            "_dom_classes": [],
            "description": "num_inits",
            "step": 1,
            "_model_name": "IntSliderModel",
            "orientation": "horizontal",
            "max": 10,
            "_view_module": "@jupyter-widgets/controls",
            "_model_module_version": "1.5.0",
            "value": 7,
            "_view_count": null,
            "disabled": false,
            "_view_module_version": "1.5.0",
            "min": 5,
            "continuous_update": true,
            "readout_format": "d",
            "description_tooltip": null,
            "readout": true,
            "_model_module": "@jupyter-widgets/controls",
            "layout": "IPY_MODEL_07aaddb91e7e44c784692a227cec011f"
          }
        },
        "25666c6bfef1462dbda58a1df7d319e7": {
          "model_module": "@jupyter-widgets/controls",
          "model_name": "ButtonModel",
          "state": {
            "_view_name": "ButtonView",
            "style": "IPY_MODEL_5c715702d3e14a2d8d02cff3f4ce68f8",
            "_dom_classes": [],
            "description": "Run Interact",
            "_model_name": "ButtonModel",
            "button_style": "",
            "_view_module": "@jupyter-widgets/controls",
            "_model_module_version": "1.5.0",
            "tooltip": "",
            "_view_count": null,
            "disabled": false,
            "_view_module_version": "1.5.0",
            "layout": "IPY_MODEL_f343023d1873475ba265cab6297459a9",
            "_model_module": "@jupyter-widgets/controls",
            "icon": ""
          }
        },
        "a0f1d81ffaf64f2792ee9bd3afd5887a": {
          "model_module": "@jupyter-widgets/output",
          "model_name": "OutputModel",
          "state": {
            "_view_name": "OutputView",
            "msg_id": "",
            "_dom_classes": [],
            "_model_name": "OutputModel",
            "outputs": [],
            "_view_module": "@jupyter-widgets/output",
            "_model_module_version": "1.0.0",
            "_view_count": null,
            "_view_module_version": "1.0.0",
            "layout": "IPY_MODEL_4bd9af1860ae44c1bf81e29356a76127",
            "_model_module": "@jupyter-widgets/output"
          }
        },
        "4a3f9b6a740b478395741682799e40a7": {
          "model_module": "@jupyter-widgets/controls",
          "model_name": "SliderStyleModel",
          "state": {
            "_view_name": "StyleView",
            "handle_color": null,
            "_model_name": "SliderStyleModel",
            "description_width": "",
            "_view_module": "@jupyter-widgets/base",
            "_model_module_version": "1.5.0",
            "_view_count": null,
            "_view_module_version": "1.2.0",
            "_model_module": "@jupyter-widgets/controls"
          }
        },
        "7208fc4ed1b949ffa92e15446f441d6c": {
          "model_module": "@jupyter-widgets/base",
          "model_name": "LayoutModel",
          "state": {
            "_view_name": "LayoutView",
            "grid_template_rows": null,
            "right": null,
            "justify_content": null,
            "_view_module": "@jupyter-widgets/base",
            "overflow": null,
            "_model_module_version": "1.2.0",
            "_view_count": null,
            "flex_flow": null,
            "width": null,
            "min_width": null,
            "border": null,
            "align_items": null,
            "bottom": null,
            "_model_module": "@jupyter-widgets/base",
            "top": null,
            "grid_column": null,
            "overflow_y": null,
            "overflow_x": null,
            "grid_auto_flow": null,
            "grid_area": null,
            "grid_template_columns": null,
            "flex": null,
            "_model_name": "LayoutModel",
            "justify_items": null,
            "grid_row": null,
            "max_height": null,
            "align_content": null,
            "visibility": null,
            "align_self": null,
            "height": null,
            "min_height": null,
            "padding": null,
            "grid_auto_rows": null,
            "grid_gap": null,
            "max_width": null,
            "order": null,
            "_view_module_version": "1.2.0",
            "grid_template_areas": null,
            "object_position": null,
            "object_fit": null,
            "grid_auto_columns": null,
            "margin": null,
            "display": null,
            "left": null
          }
        },
        "924cd3380e264925b3ce2269750c4299": {
          "model_module": "@jupyter-widgets/controls",
          "model_name": "DescriptionStyleModel",
          "state": {
            "_view_name": "StyleView",
            "_model_name": "DescriptionStyleModel",
            "description_width": "",
            "_view_module": "@jupyter-widgets/base",
            "_model_module_version": "1.5.0",
            "_view_count": null,
            "_view_module_version": "1.2.0",
            "_model_module": "@jupyter-widgets/controls"
          }
        },
        "90f894f438aa48cfa8a3dcd6789c30cf": {
          "model_module": "@jupyter-widgets/base",
          "model_name": "LayoutModel",
          "state": {
            "_view_name": "LayoutView",
            "grid_template_rows": null,
            "right": null,
            "justify_content": null,
            "_view_module": "@jupyter-widgets/base",
            "overflow": null,
            "_model_module_version": "1.2.0",
            "_view_count": null,
            "flex_flow": null,
            "width": null,
            "min_width": null,
            "border": null,
            "align_items": null,
            "bottom": null,
            "_model_module": "@jupyter-widgets/base",
            "top": null,
            "grid_column": null,
            "overflow_y": null,
            "overflow_x": null,
            "grid_auto_flow": null,
            "grid_area": null,
            "grid_template_columns": null,
            "flex": null,
            "_model_name": "LayoutModel",
            "justify_items": null,
            "grid_row": null,
            "max_height": null,
            "align_content": null,
            "visibility": null,
            "align_self": null,
            "height": null,
            "min_height": null,
            "padding": null,
            "grid_auto_rows": null,
            "grid_gap": null,
            "max_width": null,
            "order": null,
            "_view_module_version": "1.2.0",
            "grid_template_areas": null,
            "object_position": null,
            "object_fit": null,
            "grid_auto_columns": null,
            "margin": null,
            "display": null,
            "left": null
          }
        },
        "fc465b92fe0a4075a74f10de48bb3555": {
          "model_module": "@jupyter-widgets/controls",
          "model_name": "SliderStyleModel",
          "state": {
            "_view_name": "StyleView",
            "handle_color": null,
            "_model_name": "SliderStyleModel",
            "description_width": "",
            "_view_module": "@jupyter-widgets/base",
            "_model_module_version": "1.5.0",
            "_view_count": null,
            "_view_module_version": "1.2.0",
            "_model_module": "@jupyter-widgets/controls"
          }
        },
        "769deed2efa04b48bb9c5a5c4096fec5": {
          "model_module": "@jupyter-widgets/base",
          "model_name": "LayoutModel",
          "state": {
            "_view_name": "LayoutView",
            "grid_template_rows": null,
            "right": null,
            "justify_content": null,
            "_view_module": "@jupyter-widgets/base",
            "overflow": null,
            "_model_module_version": "1.2.0",
            "_view_count": null,
            "flex_flow": null,
            "width": null,
            "min_width": null,
            "border": null,
            "align_items": null,
            "bottom": null,
            "_model_module": "@jupyter-widgets/base",
            "top": null,
            "grid_column": null,
            "overflow_y": null,
            "overflow_x": null,
            "grid_auto_flow": null,
            "grid_area": null,
            "grid_template_columns": null,
            "flex": null,
            "_model_name": "LayoutModel",
            "justify_items": null,
            "grid_row": null,
            "max_height": null,
            "align_content": null,
            "visibility": null,
            "align_self": null,
            "height": null,
            "min_height": null,
            "padding": null,
            "grid_auto_rows": null,
            "grid_gap": null,
            "max_width": null,
            "order": null,
            "_view_module_version": "1.2.0",
            "grid_template_areas": null,
            "object_position": null,
            "object_fit": null,
            "grid_auto_columns": null,
            "margin": null,
            "display": null,
            "left": null
          }
        },
        "6637266534e94ce894b4b5165d69bcec": {
          "model_module": "@jupyter-widgets/controls",
          "model_name": "SliderStyleModel",
          "state": {
            "_view_name": "StyleView",
            "handle_color": null,
            "_model_name": "SliderStyleModel",
            "description_width": "",
            "_view_module": "@jupyter-widgets/base",
            "_model_module_version": "1.5.0",
            "_view_count": null,
            "_view_module_version": "1.2.0",
            "_model_module": "@jupyter-widgets/controls"
          }
        },
        "07aaddb91e7e44c784692a227cec011f": {
          "model_module": "@jupyter-widgets/base",
          "model_name": "LayoutModel",
          "state": {
            "_view_name": "LayoutView",
            "grid_template_rows": null,
            "right": null,
            "justify_content": null,
            "_view_module": "@jupyter-widgets/base",
            "overflow": null,
            "_model_module_version": "1.2.0",
            "_view_count": null,
            "flex_flow": null,
            "width": null,
            "min_width": null,
            "border": null,
            "align_items": null,
            "bottom": null,
            "_model_module": "@jupyter-widgets/base",
            "top": null,
            "grid_column": null,
            "overflow_y": null,
            "overflow_x": null,
            "grid_auto_flow": null,
            "grid_area": null,
            "grid_template_columns": null,
            "flex": null,
            "_model_name": "LayoutModel",
            "justify_items": null,
            "grid_row": null,
            "max_height": null,
            "align_content": null,
            "visibility": null,
            "align_self": null,
            "height": null,
            "min_height": null,
            "padding": null,
            "grid_auto_rows": null,
            "grid_gap": null,
            "max_width": null,
            "order": null,
            "_view_module_version": "1.2.0",
            "grid_template_areas": null,
            "object_position": null,
            "object_fit": null,
            "grid_auto_columns": null,
            "margin": null,
            "display": null,
            "left": null
          }
        },
        "5c715702d3e14a2d8d02cff3f4ce68f8": {
          "model_module": "@jupyter-widgets/controls",
          "model_name": "ButtonStyleModel",
          "state": {
            "_view_name": "StyleView",
            "_model_name": "ButtonStyleModel",
            "_view_module": "@jupyter-widgets/base",
            "_model_module_version": "1.5.0",
            "_view_count": null,
            "button_color": null,
            "font_weight": "",
            "_view_module_version": "1.2.0",
            "_model_module": "@jupyter-widgets/controls"
          }
        },
        "f343023d1873475ba265cab6297459a9": {
          "model_module": "@jupyter-widgets/base",
          "model_name": "LayoutModel",
          "state": {
            "_view_name": "LayoutView",
            "grid_template_rows": null,
            "right": null,
            "justify_content": null,
            "_view_module": "@jupyter-widgets/base",
            "overflow": null,
            "_model_module_version": "1.2.0",
            "_view_count": null,
            "flex_flow": null,
            "width": null,
            "min_width": null,
            "border": null,
            "align_items": null,
            "bottom": null,
            "_model_module": "@jupyter-widgets/base",
            "top": null,
            "grid_column": null,
            "overflow_y": null,
            "overflow_x": null,
            "grid_auto_flow": null,
            "grid_area": null,
            "grid_template_columns": null,
            "flex": null,
            "_model_name": "LayoutModel",
            "justify_items": null,
            "grid_row": null,
            "max_height": null,
            "align_content": null,
            "visibility": null,
            "align_self": null,
            "height": null,
            "min_height": null,
            "padding": null,
            "grid_auto_rows": null,
            "grid_gap": null,
            "max_width": null,
            "order": null,
            "_view_module_version": "1.2.0",
            "grid_template_areas": null,
            "object_position": null,
            "object_fit": null,
            "grid_auto_columns": null,
            "margin": null,
            "display": null,
            "left": null
          }
        },
        "4bd9af1860ae44c1bf81e29356a76127": {
          "model_module": "@jupyter-widgets/base",
          "model_name": "LayoutModel",
          "state": {
            "_view_name": "LayoutView",
            "grid_template_rows": null,
            "right": null,
            "justify_content": null,
            "_view_module": "@jupyter-widgets/base",
            "overflow": null,
            "_model_module_version": "1.2.0",
            "_view_count": null,
            "flex_flow": null,
            "width": null,
            "min_width": null,
            "border": null,
            "align_items": null,
            "bottom": null,
            "_model_module": "@jupyter-widgets/base",
            "top": null,
            "grid_column": null,
            "overflow_y": null,
            "overflow_x": null,
            "grid_auto_flow": null,
            "grid_area": null,
            "grid_template_columns": null,
            "flex": null,
            "_model_name": "LayoutModel",
            "justify_items": null,
            "grid_row": null,
            "max_height": null,
            "align_content": null,
            "visibility": null,
            "align_self": null,
            "height": null,
            "min_height": null,
            "padding": null,
            "grid_auto_rows": null,
            "grid_gap": null,
            "max_width": null,
            "order": null,
            "_view_module_version": "1.2.0",
            "grid_template_areas": null,
            "object_position": null,
            "object_fit": null,
            "grid_auto_columns": null,
            "margin": null,
            "display": null,
            "left": null
          }
        },
        "f1f1d76d39244846a9131e5f5413ec3d": {
          "model_module": "@jupyter-widgets/controls",
          "model_name": "TextareaModel",
          "state": {
            "_view_name": "TextareaView",
            "style": "IPY_MODEL_ac53afb46c5247418777d979e6bd1832",
            "rows": null,
            "_dom_classes": [],
            "description": "",
            "_model_name": "TextareaModel",
            "placeholder": "Type something",
            "_view_module": "@jupyter-widgets/controls",
            "_model_module_version": "1.5.0",
            "value": "Type your answer here and click on `Submit!`",
            "_view_count": null,
            "disabled": false,
            "_view_module_version": "1.5.0",
            "continuous_update": true,
            "description_tooltip": null,
            "_model_module": "@jupyter-widgets/controls",
            "layout": "IPY_MODEL_54c1791f15104b36a8c7c25ccd0fd6f2"
          }
        },
        "ac53afb46c5247418777d979e6bd1832": {
          "model_module": "@jupyter-widgets/controls",
          "model_name": "DescriptionStyleModel",
          "state": {
            "_view_name": "StyleView",
            "_model_name": "DescriptionStyleModel",
            "description_width": "",
            "_view_module": "@jupyter-widgets/base",
            "_model_module_version": "1.5.0",
            "_view_count": null,
            "_view_module_version": "1.2.0",
            "_model_module": "@jupyter-widgets/controls"
          }
        },
        "54c1791f15104b36a8c7c25ccd0fd6f2": {
          "model_module": "@jupyter-widgets/base",
          "model_name": "LayoutModel",
          "state": {
            "_view_name": "LayoutView",
            "grid_template_rows": null,
            "right": null,
            "justify_content": null,
            "_view_module": "@jupyter-widgets/base",
            "overflow": null,
            "_model_module_version": "1.2.0",
            "_view_count": null,
            "flex_flow": null,
            "width": null,
            "min_width": null,
            "border": null,
            "align_items": null,
            "bottom": null,
            "_model_module": "@jupyter-widgets/base",
            "top": null,
            "grid_column": null,
            "overflow_y": null,
            "overflow_x": null,
            "grid_auto_flow": null,
            "grid_area": null,
            "grid_template_columns": null,
            "flex": null,
            "_model_name": "LayoutModel",
            "justify_items": null,
            "grid_row": null,
            "max_height": null,
            "align_content": null,
            "visibility": null,
            "align_self": null,
            "height": null,
            "min_height": null,
            "padding": null,
            "grid_auto_rows": null,
            "grid_gap": null,
            "max_width": null,
            "order": null,
            "_view_module_version": "1.2.0",
            "grid_template_areas": null,
            "object_position": null,
            "object_fit": null,
            "grid_auto_columns": null,
            "margin": null,
            "display": null,
            "left": null
          }
        },
        "85bac221c7e74359ab8638b84cbfba60": {
          "model_module": "@jupyter-widgets/controls",
          "model_name": "ButtonModel",
          "state": {
            "_view_name": "ButtonView",
            "style": "IPY_MODEL_63dfde3e4c5347639e05b287160e4ac2",
            "_dom_classes": [],
            "description": "Submit!",
            "_model_name": "ButtonModel",
            "button_style": "",
            "_view_module": "@jupyter-widgets/controls",
            "_model_module_version": "1.5.0",
            "tooltip": "",
            "_view_count": null,
            "disabled": false,
            "_view_module_version": "1.5.0",
            "layout": "IPY_MODEL_55cd3b1beeff42ecb777c63c7eae479e",
            "_model_module": "@jupyter-widgets/controls",
            "icon": ""
          }
        },
        "63dfde3e4c5347639e05b287160e4ac2": {
          "model_module": "@jupyter-widgets/controls",
          "model_name": "ButtonStyleModel",
          "state": {
            "_view_name": "StyleView",
            "_model_name": "ButtonStyleModel",
            "_view_module": "@jupyter-widgets/base",
            "_model_module_version": "1.5.0",
            "_view_count": null,
            "button_color": null,
            "font_weight": "",
            "_view_module_version": "1.2.0",
            "_model_module": "@jupyter-widgets/controls"
          }
        },
        "55cd3b1beeff42ecb777c63c7eae479e": {
          "model_module": "@jupyter-widgets/base",
          "model_name": "LayoutModel",
          "state": {
            "_view_name": "LayoutView",
            "grid_template_rows": null,
            "right": null,
            "justify_content": null,
            "_view_module": "@jupyter-widgets/base",
            "overflow": null,
            "_model_module_version": "1.2.0",
            "_view_count": null,
            "flex_flow": null,
            "width": null,
            "min_width": null,
            "border": null,
            "align_items": null,
            "bottom": null,
            "_model_module": "@jupyter-widgets/base",
            "top": null,
            "grid_column": null,
            "overflow_y": null,
            "overflow_x": null,
            "grid_auto_flow": null,
            "grid_area": null,
            "grid_template_columns": null,
            "flex": null,
            "_model_name": "LayoutModel",
            "justify_items": null,
            "grid_row": null,
            "max_height": null,
            "align_content": null,
            "visibility": null,
            "align_self": null,
            "height": null,
            "min_height": null,
            "padding": null,
            "grid_auto_rows": null,
            "grid_gap": null,
            "max_width": null,
            "order": null,
            "_view_module_version": "1.2.0",
            "grid_template_areas": null,
            "object_position": null,
            "object_fit": null,
            "grid_auto_columns": null,
            "margin": null,
            "display": null,
            "left": null
          }
        },
        "ca297d081b584310be94e331f99ff653": {
          "model_module": "@jupyter-widgets/controls",
          "model_name": "TabModel",
          "state": {
            "_view_name": "TabView",
            "_dom_classes": [],
            "_titles": {
              "0": "Youtube",
              "1": "Bilibili"
            },
            "_model_name": "TabModel",
            "_view_module": "@jupyter-widgets/controls",
            "selected_index": 0,
            "_model_module_version": "1.5.0",
            "_view_count": null,
            "_view_module_version": "1.5.0",
            "box_style": "",
            "layout": "IPY_MODEL_eb709c084a6a466490393cc05bc51237",
            "_model_module": "@jupyter-widgets/controls",
            "children": [
              "IPY_MODEL_32e98f4d597e4ebc9a73a04b13f3064e",
              "IPY_MODEL_ec5f9e0d362b46b88b2c827050c20013"
            ]
          }
        },
        "eb709c084a6a466490393cc05bc51237": {
          "model_module": "@jupyter-widgets/base",
          "model_name": "LayoutModel",
          "state": {
            "_view_name": "LayoutView",
            "grid_template_rows": null,
            "right": null,
            "justify_content": null,
            "_view_module": "@jupyter-widgets/base",
            "overflow": null,
            "_model_module_version": "1.2.0",
            "_view_count": null,
            "flex_flow": null,
            "width": null,
            "min_width": null,
            "border": null,
            "align_items": null,
            "bottom": null,
            "_model_module": "@jupyter-widgets/base",
            "top": null,
            "grid_column": null,
            "overflow_y": null,
            "overflow_x": null,
            "grid_auto_flow": null,
            "grid_area": null,
            "grid_template_columns": null,
            "flex": null,
            "_model_name": "LayoutModel",
            "justify_items": null,
            "grid_row": null,
            "max_height": null,
            "align_content": null,
            "visibility": null,
            "align_self": null,
            "height": null,
            "min_height": null,
            "padding": null,
            "grid_auto_rows": null,
            "grid_gap": null,
            "max_width": null,
            "order": null,
            "_view_module_version": "1.2.0",
            "grid_template_areas": null,
            "object_position": null,
            "object_fit": null,
            "grid_auto_columns": null,
            "margin": null,
            "display": null,
            "left": null
          }
        },
        "32e98f4d597e4ebc9a73a04b13f3064e": {
          "model_module": "@jupyter-widgets/output",
          "model_name": "OutputModel",
          "state": {
            "_view_name": "OutputView",
            "msg_id": "",
            "_dom_classes": [],
            "_model_name": "OutputModel",
            "outputs": [
              {
                "output_type": "stream",
                "metadata": {
                  "tags": []
                },
                "text": "Video available at https://youtube.com/watch?v=hbqUxpNBUGk\n",
                "stream": "stdout"
              },
              {
                "output_type": "display_data",
                "metadata": {
                  "tags": []
                },
                "text/html": "\n        <iframe\n            width=\"854\"\n            height=\"480\"\n            src=\"https://www.youtube.com/embed/hbqUxpNBUGk?fs=1&rel=0\"\n            frameborder=\"0\"\n            allowfullscreen\n        ></iframe>\n        ",
                "text/plain": "<IPython.lib.display.YouTubeVideo at 0x7fe2bba2f590>",
                "image/jpeg": "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\n"
              }
            ],
            "_view_module": "@jupyter-widgets/output",
            "_model_module_version": "1.0.0",
            "_view_count": null,
            "_view_module_version": "1.0.0",
            "layout": "IPY_MODEL_0152a531e4e540b18e5cec3b6e03ac45",
            "_model_module": "@jupyter-widgets/output"
          }
        },
        "ec5f9e0d362b46b88b2c827050c20013": {
          "model_module": "@jupyter-widgets/output",
          "model_name": "OutputModel",
          "state": {
            "_view_name": "OutputView",
            "msg_id": "",
            "_dom_classes": [],
            "_model_name": "OutputModel",
            "outputs": [
              {
                "output_type": "stream",
                "metadata": {
                  "tags": []
                },
                "text": "Video available at https://www.bilibili.com/video/BV1ty4y1T7Uh\n",
                "stream": "stdout"
              },
              {
                "output_type": "display_data",
                "metadata": {
                  "tags": []
                },
                "text/html": "\n        <iframe\n            width=\"854\"\n            height=\"480\"\n            src=\"https://player.bilibili.com/player.html?bvid=BV1ty4y1T7Uh&page=1?fs=1\"\n            frameborder=\"0\"\n            allowfullscreen\n        ></iframe>\n        ",
                "text/plain": "<__main__.BiliVideo at 0x7fe2bba2ff50>"
              }
            ],
            "_view_module": "@jupyter-widgets/output",
            "_model_module_version": "1.0.0",
            "_view_count": null,
            "_view_module_version": "1.0.0",
            "layout": "IPY_MODEL_4d1860fdb3ef45d099a06c4b7c5f676d",
            "_model_module": "@jupyter-widgets/output"
          }
        },
        "0152a531e4e540b18e5cec3b6e03ac45": {
          "model_module": "@jupyter-widgets/base",
          "model_name": "LayoutModel",
          "state": {
            "_view_name": "LayoutView",
            "grid_template_rows": null,
            "right": null,
            "justify_content": null,
            "_view_module": "@jupyter-widgets/base",
            "overflow": null,
            "_model_module_version": "1.2.0",
            "_view_count": null,
            "flex_flow": null,
            "width": null,
            "min_width": null,
            "border": null,
            "align_items": null,
            "bottom": null,
            "_model_module": "@jupyter-widgets/base",
            "top": null,
            "grid_column": null,
            "overflow_y": null,
            "overflow_x": null,
            "grid_auto_flow": null,
            "grid_area": null,
            "grid_template_columns": null,
            "flex": null,
            "_model_name": "LayoutModel",
            "justify_items": null,
            "grid_row": null,
            "max_height": null,
            "align_content": null,
            "visibility": null,
            "align_self": null,
            "height": null,
            "min_height": null,
            "padding": null,
            "grid_auto_rows": null,
            "grid_gap": null,
            "max_width": null,
            "order": null,
            "_view_module_version": "1.2.0",
            "grid_template_areas": null,
            "object_position": null,
            "object_fit": null,
            "grid_auto_columns": null,
            "margin": null,
            "display": null,
            "left": null
          }
        },
        "4d1860fdb3ef45d099a06c4b7c5f676d": {
          "model_module": "@jupyter-widgets/base",
          "model_name": "LayoutModel",
          "state": {
            "_view_name": "LayoutView",
            "grid_template_rows": null,
            "right": null,
            "justify_content": null,
            "_view_module": "@jupyter-widgets/base",
            "overflow": null,
            "_model_module_version": "1.2.0",
            "_view_count": null,
            "flex_flow": null,
            "width": null,
            "min_width": null,
            "border": null,
            "align_items": null,
            "bottom": null,
            "_model_module": "@jupyter-widgets/base",
            "top": null,
            "grid_column": null,
            "overflow_y": null,
            "overflow_x": null,
            "grid_auto_flow": null,
            "grid_area": null,
            "grid_template_columns": null,
            "flex": null,
            "_model_name": "LayoutModel",
            "justify_items": null,
            "grid_row": null,
            "max_height": null,
            "align_content": null,
            "visibility": null,
            "align_self": null,
            "height": null,
            "min_height": null,
            "padding": null,
            "grid_auto_rows": null,
            "grid_gap": null,
            "max_width": null,
            "order": null,
            "_view_module_version": "1.2.0",
            "grid_template_areas": null,
            "object_position": null,
            "object_fit": null,
            "grid_auto_columns": null,
            "margin": null,
            "display": null,
            "left": null
          }
        },
        "83b4b6536bf94df28377a56cc9e7b047": {
          "model_module": "@jupyter-widgets/controls",
          "model_name": "VBoxModel",
          "state": {
            "_view_name": "VBoxView",
            "_dom_classes": [
              "widget-interact"
            ],
            "_model_name": "VBoxModel",
            "_view_module": "@jupyter-widgets/controls",
            "_model_module_version": "1.5.0",
            "_view_count": null,
            "_view_module_version": "1.5.0",
            "box_style": "",
            "layout": "IPY_MODEL_2d4efee6d86c4d53b30932ebb7f1ccb7",
            "_model_module": "@jupyter-widgets/controls",
            "children": [
              "IPY_MODEL_25d752e5cba941cdae599c6839147b48",
              "IPY_MODEL_18e2a7f5527c4e53a44dc14360c24db9"
            ]
          }
        },
        "2d4efee6d86c4d53b30932ebb7f1ccb7": {
          "model_module": "@jupyter-widgets/base",
          "model_name": "LayoutModel",
          "state": {
            "_view_name": "LayoutView",
            "grid_template_rows": null,
            "right": null,
            "justify_content": null,
            "_view_module": "@jupyter-widgets/base",
            "overflow": null,
            "_model_module_version": "1.2.0",
            "_view_count": null,
            "flex_flow": null,
            "width": null,
            "min_width": null,
            "border": null,
            "align_items": null,
            "bottom": null,
            "_model_module": "@jupyter-widgets/base",
            "top": null,
            "grid_column": null,
            "overflow_y": null,
            "overflow_x": null,
            "grid_auto_flow": null,
            "grid_area": null,
            "grid_template_columns": null,
            "flex": null,
            "_model_name": "LayoutModel",
            "justify_items": null,
            "grid_row": null,
            "max_height": null,
            "align_content": null,
            "visibility": null,
            "align_self": null,
            "height": null,
            "min_height": null,
            "padding": null,
            "grid_auto_rows": null,
            "grid_gap": null,
            "max_width": null,
            "order": null,
            "_view_module_version": "1.2.0",
            "grid_template_areas": null,
            "object_position": null,
            "object_fit": null,
            "grid_auto_columns": null,
            "margin": null,
            "display": null,
            "left": null
          }
        },
        "25d752e5cba941cdae599c6839147b48": {
          "model_module": "@jupyter-widgets/controls",
          "model_name": "DropdownModel",
          "state": {
            "_options_labels": [
              "1",
              "100",
              "50, 50"
            ],
            "_view_name": "DropdownView",
            "style": "IPY_MODEL_294f9ba48ac14f5d88bd0eb3416cd1ce",
            "_dom_classes": [],
            "description": "hidden_dims",
            "_model_name": "DropdownModel",
            "index": 1,
            "_view_module": "@jupyter-widgets/controls",
            "_model_module_version": "1.5.0",
            "_view_count": null,
            "disabled": false,
            "_view_module_version": "1.5.0",
            "description_tooltip": null,
            "_model_module": "@jupyter-widgets/controls",
            "layout": "IPY_MODEL_35824c831a7540738d10ce6e0353eec2"
          }
        },
        "18e2a7f5527c4e53a44dc14360c24db9": {
          "model_module": "@jupyter-widgets/output",
          "model_name": "OutputModel",
          "state": {
            "_view_name": "OutputView",
            "msg_id": "",
            "_dom_classes": [],
            "_model_name": "OutputModel",
            "outputs": [
              {
                "output_type": "display_data",
                "metadata": {
                  "tags": [],
                  "image/png": {
                    "width": 342,
                    "height": 270
                  },
                  "needs_background": "light"
                },
                "image/png": "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\n",
                "text/plain": "<Figure size 360x288 with 1 Axes>"
              }
            ],
            "_view_module": "@jupyter-widgets/output",
            "_model_module_version": "1.0.0",
            "_view_count": null,
            "_view_module_version": "1.0.0",
            "layout": "IPY_MODEL_d39077f95ec84e668a46ac9eedf3967d",
            "_model_module": "@jupyter-widgets/output"
          }
        },
        "294f9ba48ac14f5d88bd0eb3416cd1ce": {
          "model_module": "@jupyter-widgets/controls",
          "model_name": "DescriptionStyleModel",
          "state": {
            "_view_name": "StyleView",
            "_model_name": "DescriptionStyleModel",
            "description_width": "",
            "_view_module": "@jupyter-widgets/base",
            "_model_module_version": "1.5.0",
            "_view_count": null,
            "_view_module_version": "1.2.0",
            "_model_module": "@jupyter-widgets/controls"
          }
        },
        "35824c831a7540738d10ce6e0353eec2": {
          "model_module": "@jupyter-widgets/base",
          "model_name": "LayoutModel",
          "state": {
            "_view_name": "LayoutView",
            "grid_template_rows": null,
            "right": null,
            "justify_content": null,
            "_view_module": "@jupyter-widgets/base",
            "overflow": null,
            "_model_module_version": "1.2.0",
            "_view_count": null,
            "flex_flow": null,
            "width": null,
            "min_width": null,
            "border": null,
            "align_items": null,
            "bottom": null,
            "_model_module": "@jupyter-widgets/base",
            "top": null,
            "grid_column": null,
            "overflow_y": null,
            "overflow_x": null,
            "grid_auto_flow": null,
            "grid_area": null,
            "grid_template_columns": null,
            "flex": null,
            "_model_name": "LayoutModel",
            "justify_items": null,
            "grid_row": null,
            "max_height": null,
            "align_content": null,
            "visibility": null,
            "align_self": null,
            "height": null,
            "min_height": null,
            "padding": null,
            "grid_auto_rows": null,
            "grid_gap": null,
            "max_width": null,
            "order": null,
            "_view_module_version": "1.2.0",
            "grid_template_areas": null,
            "object_position": null,
            "object_fit": null,
            "grid_auto_columns": null,
            "margin": null,
            "display": null,
            "left": null
          }
        },
        "d39077f95ec84e668a46ac9eedf3967d": {
          "model_module": "@jupyter-widgets/base",
          "model_name": "LayoutModel",
          "state": {
            "_view_name": "LayoutView",
            "grid_template_rows": null,
            "right": null,
            "justify_content": null,
            "_view_module": "@jupyter-widgets/base",
            "overflow": null,
            "_model_module_version": "1.2.0",
            "_view_count": null,
            "flex_flow": null,
            "width": null,
            "min_width": null,
            "border": null,
            "align_items": null,
            "bottom": null,
            "_model_module": "@jupyter-widgets/base",
            "top": null,
            "grid_column": null,
            "overflow_y": null,
            "overflow_x": null,
            "grid_auto_flow": null,
            "grid_area": null,
            "grid_template_columns": null,
            "flex": null,
            "_model_name": "LayoutModel",
            "justify_items": null,
            "grid_row": null,
            "max_height": null,
            "align_content": null,
            "visibility": null,
            "align_self": null,
            "height": null,
            "min_height": null,
            "padding": null,
            "grid_auto_rows": null,
            "grid_gap": null,
            "max_width": null,
            "order": null,
            "_view_module_version": "1.2.0",
            "grid_template_areas": null,
            "object_position": null,
            "object_fit": null,
            "grid_auto_columns": null,
            "margin": null,
            "display": null,
            "left": null
          }
        },
        "227b74c9f4334cb8a4f443f9cb91c8b4": {
          "model_module": "@jupyter-widgets/controls",
          "model_name": "VBoxModel",
          "state": {
            "_view_name": "VBoxView",
            "_dom_classes": [
              "widget-interact"
            ],
            "_model_name": "VBoxModel",
            "_view_module": "@jupyter-widgets/controls",
            "_model_module_version": "1.5.0",
            "_view_count": null,
            "_view_module_version": "1.5.0",
            "box_style": "",
            "layout": "IPY_MODEL_d7e06f35946247819baa64c137046b1e",
            "_model_module": "@jupyter-widgets/controls",
            "children": [
              "IPY_MODEL_a67fe5fb9d3b4689b61c838c3b2812a7",
              "IPY_MODEL_ffe03b08cb2c40e4906e496e996a051c",
              "IPY_MODEL_54b15d1268a942eeadad013a87772bae",
              "IPY_MODEL_86a314c1f0434f3c8ad8833bb957ecac",
              "IPY_MODEL_50783c985f6b4e6fa69ca8ee349dbc3c"
            ]
          }
        },
        "d7e06f35946247819baa64c137046b1e": {
          "model_module": "@jupyter-widgets/base",
          "model_name": "LayoutModel",
          "state": {
            "_view_name": "LayoutView",
            "grid_template_rows": null,
            "right": null,
            "justify_content": null,
            "_view_module": "@jupyter-widgets/base",
            "overflow": null,
            "_model_module_version": "1.2.0",
            "_view_count": null,
            "flex_flow": null,
            "width": null,
            "min_width": null,
            "border": null,
            "align_items": null,
            "bottom": null,
            "_model_module": "@jupyter-widgets/base",
            "top": null,
            "grid_column": null,
            "overflow_y": null,
            "overflow_x": null,
            "grid_auto_flow": null,
            "grid_area": null,
            "grid_template_columns": null,
            "flex": null,
            "_model_name": "LayoutModel",
            "justify_items": null,
            "grid_row": null,
            "max_height": null,
            "align_content": null,
            "visibility": null,
            "align_self": null,
            "height": null,
            "min_height": null,
            "padding": null,
            "grid_auto_rows": null,
            "grid_gap": null,
            "max_width": null,
            "order": null,
            "_view_module_version": "1.2.0",
            "grid_template_areas": null,
            "object_position": null,
            "object_fit": null,
            "grid_auto_columns": null,
            "margin": null,
            "display": null,
            "left": null
          }
        },
        "a67fe5fb9d3b4689b61c838c3b2812a7": {
          "model_module": "@jupyter-widgets/controls",
          "model_name": "TextModel",
          "state": {
            "_view_name": "TextView",
            "style": "IPY_MODEL_4207fb767b2c45d5bf1ff2d479ae4559",
            "_dom_classes": [],
            "description": "batch_sizes",
            "_model_name": "TextModel",
            "placeholder": "​",
            "_view_module": "@jupyter-widgets/controls",
            "_model_module_version": "1.5.0",
            "value": "20, 250, 1000",
            "_view_count": null,
            "disabled": false,
            "_view_module_version": "1.5.0",
            "continuous_update": true,
            "description_tooltip": null,
            "_model_module": "@jupyter-widgets/controls",
            "layout": "IPY_MODEL_5c761e9547184a4a86e55ff95ccc2206"
          }
        },
        "ffe03b08cb2c40e4906e496e996a051c": {
          "model_module": "@jupyter-widgets/controls",
          "model_name": "TextModel",
          "state": {
            "_view_name": "TextView",
            "style": "IPY_MODEL_23b73f1dd6df4f438444d36cf37a5408",
            "_dom_classes": [],
            "description": "lrs",
            "_model_name": "TextModel",
            "placeholder": "​",
            "_view_module": "@jupyter-widgets/controls",
            "_model_module_version": "1.5.0",
            "value": "5e-3, 5e-3, 5e-3",
            "_view_count": null,
            "disabled": false,
            "_view_module_version": "1.5.0",
            "continuous_update": true,
            "description_tooltip": null,
            "_model_module": "@jupyter-widgets/controls",
            "layout": "IPY_MODEL_25cdf8335b614e089a1701ae17228d15"
          }
        },
        "54b15d1268a942eeadad013a87772bae": {
          "model_module": "@jupyter-widgets/controls",
          "model_name": "DropdownModel",
          "state": {
            "_options_labels": [
              "2.5",
              "5",
              "10"
            ],
            "_view_name": "DropdownView",
            "style": "IPY_MODEL_3d41c233ab644fb4a77e3667c1149f2a",
            "_dom_classes": [],
            "description": "time_budget",
            "_model_name": "DropdownModel",
            "index": 0,
            "_view_module": "@jupyter-widgets/controls",
            "_model_module_version": "1.5.0",
            "_view_count": null,
            "disabled": false,
            "_view_module_version": "1.5.0",
            "description_tooltip": null,
            "_model_module": "@jupyter-widgets/controls",
            "layout": "IPY_MODEL_a574d695beb3467c82fcb4d25a3b0ea4"
          }
        },
        "86a314c1f0434f3c8ad8833bb957ecac": {
          "model_module": "@jupyter-widgets/controls",
          "model_name": "ButtonModel",
          "state": {
            "_view_name": "ButtonView",
            "style": "IPY_MODEL_2b7fd0dfd7974012ad64079e9a760e47",
            "_dom_classes": [],
            "description": "Run Interact",
            "_model_name": "ButtonModel",
            "button_style": "",
            "_view_module": "@jupyter-widgets/controls",
            "_model_module_version": "1.5.0",
            "tooltip": "",
            "_view_count": null,
            "disabled": false,
            "_view_module_version": "1.5.0",
            "layout": "IPY_MODEL_7fa59c64bced4b7d8e68a35087ad9fad",
            "_model_module": "@jupyter-widgets/controls",
            "icon": ""
          }
        },
        "50783c985f6b4e6fa69ca8ee349dbc3c": {
          "model_module": "@jupyter-widgets/output",
          "model_name": "OutputModel",
          "state": {
            "_view_name": "OutputView",
            "msg_id": "",
            "_dom_classes": [],
            "_model_name": "OutputModel",
            "outputs": [],
            "_view_module": "@jupyter-widgets/output",
            "_model_module_version": "1.0.0",
            "_view_count": null,
            "_view_module_version": "1.0.0",
            "layout": "IPY_MODEL_ddb7719d92404534954d4518175d0f25",
            "_model_module": "@jupyter-widgets/output"
          }
        },
        "4207fb767b2c45d5bf1ff2d479ae4559": {
          "model_module": "@jupyter-widgets/controls",
          "model_name": "DescriptionStyleModel",
          "state": {
            "_view_name": "StyleView",
            "_model_name": "DescriptionStyleModel",
            "description_width": "",
            "_view_module": "@jupyter-widgets/base",
            "_model_module_version": "1.5.0",
            "_view_count": null,
            "_view_module_version": "1.2.0",
            "_model_module": "@jupyter-widgets/controls"
          }
        },
        "5c761e9547184a4a86e55ff95ccc2206": {
          "model_module": "@jupyter-widgets/base",
          "model_name": "LayoutModel",
          "state": {
            "_view_name": "LayoutView",
            "grid_template_rows": null,
            "right": null,
            "justify_content": null,
            "_view_module": "@jupyter-widgets/base",
            "overflow": null,
            "_model_module_version": "1.2.0",
            "_view_count": null,
            "flex_flow": null,
            "width": null,
            "min_width": null,
            "border": null,
            "align_items": null,
            "bottom": null,
            "_model_module": "@jupyter-widgets/base",
            "top": null,
            "grid_column": null,
            "overflow_y": null,
            "overflow_x": null,
            "grid_auto_flow": null,
            "grid_area": null,
            "grid_template_columns": null,
            "flex": null,
            "_model_name": "LayoutModel",
            "justify_items": null,
            "grid_row": null,
            "max_height": null,
            "align_content": null,
            "visibility": null,
            "align_self": null,
            "height": null,
            "min_height": null,
            "padding": null,
            "grid_auto_rows": null,
            "grid_gap": null,
            "max_width": null,
            "order": null,
            "_view_module_version": "1.2.0",
            "grid_template_areas": null,
            "object_position": null,
            "object_fit": null,
            "grid_auto_columns": null,
            "margin": null,
            "display": null,
            "left": null
          }
        },
        "23b73f1dd6df4f438444d36cf37a5408": {
          "model_module": "@jupyter-widgets/controls",
          "model_name": "DescriptionStyleModel",
          "state": {
            "_view_name": "StyleView",
            "_model_name": "DescriptionStyleModel",
            "description_width": "",
            "_view_module": "@jupyter-widgets/base",
            "_model_module_version": "1.5.0",
            "_view_count": null,
            "_view_module_version": "1.2.0",
            "_model_module": "@jupyter-widgets/controls"
          }
        },
        "25cdf8335b614e089a1701ae17228d15": {
          "model_module": "@jupyter-widgets/base",
          "model_name": "LayoutModel",
          "state": {
            "_view_name": "LayoutView",
            "grid_template_rows": null,
            "right": null,
            "justify_content": null,
            "_view_module": "@jupyter-widgets/base",
            "overflow": null,
            "_model_module_version": "1.2.0",
            "_view_count": null,
            "flex_flow": null,
            "width": null,
            "min_width": null,
            "border": null,
            "align_items": null,
            "bottom": null,
            "_model_module": "@jupyter-widgets/base",
            "top": null,
            "grid_column": null,
            "overflow_y": null,
            "overflow_x": null,
            "grid_auto_flow": null,
            "grid_area": null,
            "grid_template_columns": null,
            "flex": null,
            "_model_name": "LayoutModel",
            "justify_items": null,
            "grid_row": null,
            "max_height": null,
            "align_content": null,
            "visibility": null,
            "align_self": null,
            "height": null,
            "min_height": null,
            "padding": null,
            "grid_auto_rows": null,
            "grid_gap": null,
            "max_width": null,
            "order": null,
            "_view_module_version": "1.2.0",
            "grid_template_areas": null,
            "object_position": null,
            "object_fit": null,
            "grid_auto_columns": null,
            "margin": null,
            "display": null,
            "left": null
          }
        },
        "3d41c233ab644fb4a77e3667c1149f2a": {
          "model_module": "@jupyter-widgets/controls",
          "model_name": "DescriptionStyleModel",
          "state": {
            "_view_name": "StyleView",
            "_model_name": "DescriptionStyleModel",
            "description_width": "",
            "_view_module": "@jupyter-widgets/base",
            "_model_module_version": "1.5.0",
            "_view_count": null,
            "_view_module_version": "1.2.0",
            "_model_module": "@jupyter-widgets/controls"
          }
        },
        "a574d695beb3467c82fcb4d25a3b0ea4": {
          "model_module": "@jupyter-widgets/base",
          "model_name": "LayoutModel",
          "state": {
            "_view_name": "LayoutView",
            "grid_template_rows": null,
            "right": null,
            "justify_content": null,
            "_view_module": "@jupyter-widgets/base",
            "overflow": null,
            "_model_module_version": "1.2.0",
            "_view_count": null,
            "flex_flow": null,
            "width": null,
            "min_width": null,
            "border": null,
            "align_items": null,
            "bottom": null,
            "_model_module": "@jupyter-widgets/base",
            "top": null,
            "grid_column": null,
            "overflow_y": null,
            "overflow_x": null,
            "grid_auto_flow": null,
            "grid_area": null,
            "grid_template_columns": null,
            "flex": null,
            "_model_name": "LayoutModel",
            "justify_items": null,
            "grid_row": null,
            "max_height": null,
            "align_content": null,
            "visibility": null,
            "align_self": null,
            "height": null,
            "min_height": null,
            "padding": null,
            "grid_auto_rows": null,
            "grid_gap": null,
            "max_width": null,
            "order": null,
            "_view_module_version": "1.2.0",
            "grid_template_areas": null,
            "object_position": null,
            "object_fit": null,
            "grid_auto_columns": null,
            "margin": null,
            "display": null,
            "left": null
          }
        },
        "2b7fd0dfd7974012ad64079e9a760e47": {
          "model_module": "@jupyter-widgets/controls",
          "model_name": "ButtonStyleModel",
          "state": {
            "_view_name": "StyleView",
            "_model_name": "ButtonStyleModel",
            "_view_module": "@jupyter-widgets/base",
            "_model_module_version": "1.5.0",
            "_view_count": null,
            "button_color": null,
            "font_weight": "",
            "_view_module_version": "1.2.0",
            "_model_module": "@jupyter-widgets/controls"
          }
        },
        "7fa59c64bced4b7d8e68a35087ad9fad": {
          "model_module": "@jupyter-widgets/base",
          "model_name": "LayoutModel",
          "state": {
            "_view_name": "LayoutView",
            "grid_template_rows": null,
            "right": null,
            "justify_content": null,
            "_view_module": "@jupyter-widgets/base",
            "overflow": null,
            "_model_module_version": "1.2.0",
            "_view_count": null,
            "flex_flow": null,
            "width": null,
            "min_width": null,
            "border": null,
            "align_items": null,
            "bottom": null,
            "_model_module": "@jupyter-widgets/base",
            "top": null,
            "grid_column": null,
            "overflow_y": null,
            "overflow_x": null,
            "grid_auto_flow": null,
            "grid_area": null,
            "grid_template_columns": null,
            "flex": null,
            "_model_name": "LayoutModel",
            "justify_items": null,
            "grid_row": null,
            "max_height": null,
            "align_content": null,
            "visibility": null,
            "align_self": null,
            "height": null,
            "min_height": null,
            "padding": null,
            "grid_auto_rows": null,
            "grid_gap": null,
            "max_width": null,
            "order": null,
            "_view_module_version": "1.2.0",
            "grid_template_areas": null,
            "object_position": null,
            "object_fit": null,
            "grid_auto_columns": null,
            "margin": null,
            "display": null,
            "left": null
          }
        },
        "ddb7719d92404534954d4518175d0f25": {
          "model_module": "@jupyter-widgets/base",
          "model_name": "LayoutModel",
          "state": {
            "_view_name": "LayoutView",
            "grid_template_rows": null,
            "right": null,
            "justify_content": null,
            "_view_module": "@jupyter-widgets/base",
            "overflow": null,
            "_model_module_version": "1.2.0",
            "_view_count": null,
            "flex_flow": null,
            "width": null,
            "min_width": null,
            "border": null,
            "align_items": null,
            "bottom": null,
            "_model_module": "@jupyter-widgets/base",
            "top": null,
            "grid_column": null,
            "overflow_y": null,
            "overflow_x": null,
            "grid_auto_flow": null,
            "grid_area": null,
            "grid_template_columns": null,
            "flex": null,
            "_model_name": "LayoutModel",
            "justify_items": null,
            "grid_row": null,
            "max_height": null,
            "align_content": null,
            "visibility": null,
            "align_self": null,
            "height": null,
            "min_height": null,
            "padding": null,
            "grid_auto_rows": null,
            "grid_gap": null,
            "max_width": null,
            "order": null,
            "_view_module_version": "1.2.0",
            "grid_template_areas": null,
            "object_position": null,
            "object_fit": null,
            "grid_auto_columns": null,
            "margin": null,
            "display": null,
            "left": null
          }
        },
        "9f75778137ca4c8995c8e820689d9727": {
          "model_module": "@jupyter-widgets/controls",
          "model_name": "TabModel",
          "state": {
            "_view_name": "TabView",
            "_dom_classes": [],
            "_titles": {
              "0": "Youtube",
              "1": "Bilibili"
            },
            "_model_name": "TabModel",
            "_view_module": "@jupyter-widgets/controls",
            "selected_index": 0,
            "_model_module_version": "1.5.0",
            "_view_count": null,
            "_view_module_version": "1.5.0",
            "box_style": "",
            "layout": "IPY_MODEL_226872e4f95948a5afa4579aedd6766e",
            "_model_module": "@jupyter-widgets/controls",
            "children": [
              "IPY_MODEL_06d1f5260f934919a5a3bc2f505c6365",
              "IPY_MODEL_f201914f365a4895bf74b92e655c4841"
            ]
          }
        },
        "226872e4f95948a5afa4579aedd6766e": {
          "model_module": "@jupyter-widgets/base",
          "model_name": "LayoutModel",
          "state": {
            "_view_name": "LayoutView",
            "grid_template_rows": null,
            "right": null,
            "justify_content": null,
            "_view_module": "@jupyter-widgets/base",
            "overflow": null,
            "_model_module_version": "1.2.0",
            "_view_count": null,
            "flex_flow": null,
            "width": null,
            "min_width": null,
            "border": null,
            "align_items": null,
            "bottom": null,
            "_model_module": "@jupyter-widgets/base",
            "top": null,
            "grid_column": null,
            "overflow_y": null,
            "overflow_x": null,
            "grid_auto_flow": null,
            "grid_area": null,
            "grid_template_columns": null,
            "flex": null,
            "_model_name": "LayoutModel",
            "justify_items": null,
            "grid_row": null,
            "max_height": null,
            "align_content": null,
            "visibility": null,
            "align_self": null,
            "height": null,
            "min_height": null,
            "padding": null,
            "grid_auto_rows": null,
            "grid_gap": null,
            "max_width": null,
            "order": null,
            "_view_module_version": "1.2.0",
            "grid_template_areas": null,
            "object_position": null,
            "object_fit": null,
            "grid_auto_columns": null,
            "margin": null,
            "display": null,
            "left": null
          }
        },
        "06d1f5260f934919a5a3bc2f505c6365": {
          "model_module": "@jupyter-widgets/output",
          "model_name": "OutputModel",
          "state": {
            "_view_name": "OutputView",
            "msg_id": "",
            "_dom_classes": [],
            "_model_name": "OutputModel",
            "outputs": [
              {
                "output_type": "stream",
                "metadata": {
                  "tags": []
                },
                "text": "Video available at https://youtube.com/watch?v=Zr6r2kfmQUM\n",
                "stream": "stdout"
              },
              {
                "output_type": "display_data",
                "metadata": {
                  "tags": []
                },
                "text/html": "\n        <iframe\n            width=\"854\"\n            height=\"480\"\n            src=\"https://www.youtube.com/embed/Zr6r2kfmQUM?fs=1&rel=0\"\n            frameborder=\"0\"\n            allowfullscreen\n        ></iframe>\n        ",
                "text/plain": "<IPython.lib.display.YouTubeVideo at 0x7fe2b3042390>",
                "image/jpeg": "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\n"
              }
            ],
            "_view_module": "@jupyter-widgets/output",
            "_model_module_version": "1.0.0",
            "_view_count": null,
            "_view_module_version": "1.0.0",
            "layout": "IPY_MODEL_1f5940926c564696ac8e1eb18a8b8b8f",
            "_model_module": "@jupyter-widgets/output"
          }
        },
        "f201914f365a4895bf74b92e655c4841": {
          "model_module": "@jupyter-widgets/output",
          "model_name": "OutputModel",
          "state": {
            "_view_name": "OutputView",
            "msg_id": "",
            "_dom_classes": [],
            "_model_name": "OutputModel",
            "outputs": [
              {
                "output_type": "stream",
                "metadata": {
                  "tags": []
                },
                "text": "Video available at https://www.bilibili.com/video/BV1eq4y1W7JG\n",
                "stream": "stdout"
              },
              {
                "output_type": "display_data",
                "metadata": {
                  "tags": []
                },
                "text/html": "\n        <iframe\n            width=\"854\"\n            height=\"480\"\n            src=\"https://player.bilibili.com/player.html?bvid=BV1eq4y1W7JG&page=1?fs=1\"\n            frameborder=\"0\"\n            allowfullscreen\n        ></iframe>\n        ",
                "text/plain": "<__main__.BiliVideo at 0x7fe2b0f33510>"
              }
            ],
            "_view_module": "@jupyter-widgets/output",
            "_model_module_version": "1.0.0",
            "_view_count": null,
            "_view_module_version": "1.0.0",
            "layout": "IPY_MODEL_add01495478247e19dc5264f2d707b36",
            "_model_module": "@jupyter-widgets/output"
          }
        },
        "1f5940926c564696ac8e1eb18a8b8b8f": {
          "model_module": "@jupyter-widgets/base",
          "model_name": "LayoutModel",
          "state": {
            "_view_name": "LayoutView",
            "grid_template_rows": null,
            "right": null,
            "justify_content": null,
            "_view_module": "@jupyter-widgets/base",
            "overflow": null,
            "_model_module_version": "1.2.0",
            "_view_count": null,
            "flex_flow": null,
            "width": null,
            "min_width": null,
            "border": null,
            "align_items": null,
            "bottom": null,
            "_model_module": "@jupyter-widgets/base",
            "top": null,
            "grid_column": null,
            "overflow_y": null,
            "overflow_x": null,
            "grid_auto_flow": null,
            "grid_area": null,
            "grid_template_columns": null,
            "flex": null,
            "_model_name": "LayoutModel",
            "justify_items": null,
            "grid_row": null,
            "max_height": null,
            "align_content": null,
            "visibility": null,
            "align_self": null,
            "height": null,
            "min_height": null,
            "padding": null,
            "grid_auto_rows": null,
            "grid_gap": null,
            "max_width": null,
            "order": null,
            "_view_module_version": "1.2.0",
            "grid_template_areas": null,
            "object_position": null,
            "object_fit": null,
            "grid_auto_columns": null,
            "margin": null,
            "display": null,
            "left": null
          }
        },
        "add01495478247e19dc5264f2d707b36": {
          "model_module": "@jupyter-widgets/base",
          "model_name": "LayoutModel",
          "state": {
            "_view_name": "LayoutView",
            "grid_template_rows": null,
            "right": null,
            "justify_content": null,
            "_view_module": "@jupyter-widgets/base",
            "overflow": null,
            "_model_module_version": "1.2.0",
            "_view_count": null,
            "flex_flow": null,
            "width": null,
            "min_width": null,
            "border": null,
            "align_items": null,
            "bottom": null,
            "_model_module": "@jupyter-widgets/base",
            "top": null,
            "grid_column": null,
            "overflow_y": null,
            "overflow_x": null,
            "grid_auto_flow": null,
            "grid_area": null,
            "grid_template_columns": null,
            "flex": null,
            "_model_name": "LayoutModel",
            "justify_items": null,
            "grid_row": null,
            "max_height": null,
            "align_content": null,
            "visibility": null,
            "align_self": null,
            "height": null,
            "min_height": null,
            "padding": null,
            "grid_auto_rows": null,
            "grid_gap": null,
            "max_width": null,
            "order": null,
            "_view_module_version": "1.2.0",
            "grid_template_areas": null,
            "object_position": null,
            "object_fit": null,
            "grid_auto_columns": null,
            "margin": null,
            "display": null,
            "left": null
          }
        },
        "85235de842f544848600e6982674937c": {
          "model_module": "@jupyter-widgets/controls",
          "model_name": "VBoxModel",
          "state": {
            "_view_name": "VBoxView",
            "_dom_classes": [
              "widget-interact"
            ],
            "_model_name": "VBoxModel",
            "_view_module": "@jupyter-widgets/controls",
            "_model_module_version": "1.5.0",
            "_view_count": null,
            "_view_module_version": "1.5.0",
            "box_style": "",
            "layout": "IPY_MODEL_1b206212547e4bb4aca6c42d632230bc",
            "_model_module": "@jupyter-widgets/controls",
            "children": [
              "IPY_MODEL_4d28f09ced61408895dbec79e5908b84",
              "IPY_MODEL_8d37fe62d533434abd38b62776fb1e23",
              "IPY_MODEL_0a36e4cd60134985953171a06806e33a",
              "IPY_MODEL_bc86f96762134eeeb2f1802ad15098f0",
              "IPY_MODEL_3832942bc56d44c7a0862d9386601ad6"
            ]
          }
        },
        "1b206212547e4bb4aca6c42d632230bc": {
          "model_module": "@jupyter-widgets/base",
          "model_name": "LayoutModel",
          "state": {
            "_view_name": "LayoutView",
            "grid_template_rows": null,
            "right": null,
            "justify_content": null,
            "_view_module": "@jupyter-widgets/base",
            "overflow": null,
            "_model_module_version": "1.2.0",
            "_view_count": null,
            "flex_flow": null,
            "width": null,
            "min_width": null,
            "border": null,
            "align_items": null,
            "bottom": null,
            "_model_module": "@jupyter-widgets/base",
            "top": null,
            "grid_column": null,
            "overflow_y": null,
            "overflow_x": null,
            "grid_auto_flow": null,
            "grid_area": null,
            "grid_template_columns": null,
            "flex": null,
            "_model_name": "LayoutModel",
            "justify_items": null,
            "grid_row": null,
            "max_height": null,
            "align_content": null,
            "visibility": null,
            "align_self": null,
            "height": null,
            "min_height": null,
            "padding": null,
            "grid_auto_rows": null,
            "grid_gap": null,
            "max_width": null,
            "order": null,
            "_view_module_version": "1.2.0",
            "grid_template_areas": null,
            "object_position": null,
            "object_fit": null,
            "grid_auto_columns": null,
            "margin": null,
            "display": null,
            "left": null
          }
        },
        "4d28f09ced61408895dbec79e5908b84": {
          "model_module": "@jupyter-widgets/controls",
          "model_name": "IntSliderModel",
          "state": {
            "_view_name": "IntSliderView",
            "style": "IPY_MODEL_26861dddd76e40439380690c6fc096f2",
            "_dom_classes": [],
            "description": "batch_size",
            "step": 5,
            "_model_name": "IntSliderModel",
            "orientation": "horizontal",
            "max": 250,
            "_view_module": "@jupyter-widgets/controls",
            "_model_module_version": "1.5.0",
            "value": 135,
            "_view_count": null,
            "disabled": false,
            "_view_module_version": "1.5.0",
            "min": 25,
            "continuous_update": true,
            "readout_format": "d",
            "description_tooltip": null,
            "readout": true,
            "_model_module": "@jupyter-widgets/controls",
            "layout": "IPY_MODEL_82d79e2a359c4b8c81afb366d16ac8c8"
          }
        },
        "8d37fe62d533434abd38b62776fb1e23": {
          "model_module": "@jupyter-widgets/controls",
          "model_name": "FloatLogSliderModel",
          "state": {
            "_view_name": "FloatLogSliderView",
            "orientation": "horizontal",
            "_view_module": "@jupyter-widgets/controls",
            "_model_module_version": "1.5.0",
            "_view_count": null,
            "disabled": false,
            "readout_format": ".3g",
            "_model_module": "@jupyter-widgets/controls",
            "style": "IPY_MODEL_b5a78c624ad346ddb19a740cd1481238",
            "layout": "IPY_MODEL_c384b5169f6b46eb9e841904a730f706",
            "min": -5,
            "continuous_update": true,
            "description_tooltip": null,
            "_dom_classes": [],
            "description": "lr",
            "_model_name": "FloatLogSliderModel",
            "max": 0,
            "readout": true,
            "step": 0.1,
            "base": 10,
            "value": 0.002,
            "_view_module_version": "1.5.0"
          }
        },
        "0a36e4cd60134985953171a06806e33a": {
          "model_module": "@jupyter-widgets/controls",
          "model_name": "IntSliderModel",
          "state": {
            "_view_name": "IntSliderView",
            "style": "IPY_MODEL_c198c90fce9642a19fc8149eecbff259",
            "_dom_classes": [],
            "description": "max_steps",
            "step": 5,
            "_model_name": "IntSliderModel",
            "orientation": "horizontal",
            "max": 500,
            "_view_module": "@jupyter-widgets/controls",
            "_model_module_version": "1.5.0",
            "value": 275,
            "_view_count": null,
            "disabled": false,
            "_view_module_version": "1.5.0",
            "min": 50,
            "continuous_update": true,
            "readout_format": "d",
            "description_tooltip": null,
            "readout": true,
            "_model_module": "@jupyter-widgets/controls",
            "layout": "IPY_MODEL_bf499f57c35b48138e2c3771ffaea939"
          }
        },
        "bc86f96762134eeeb2f1802ad15098f0": {
          "model_module": "@jupyter-widgets/controls",
          "model_name": "ButtonModel",
          "state": {
            "_view_name": "ButtonView",
            "style": "IPY_MODEL_14544e9ed4c54e38afae68914b73ab36",
            "_dom_classes": [],
            "description": "Run Interact",
            "_model_name": "ButtonModel",
            "button_style": "",
            "_view_module": "@jupyter-widgets/controls",
            "_model_module_version": "1.5.0",
            "tooltip": "",
            "_view_count": null,
            "disabled": false,
            "_view_module_version": "1.5.0",
            "layout": "IPY_MODEL_68bf0fd977f640fba9e979d892d8159c",
            "_model_module": "@jupyter-widgets/controls",
            "icon": ""
          }
        },
        "3832942bc56d44c7a0862d9386601ad6": {
          "model_module": "@jupyter-widgets/output",
          "model_name": "OutputModel",
          "state": {
            "_view_name": "OutputView",
            "msg_id": "",
            "_dom_classes": [],
            "_model_name": "OutputModel",
            "outputs": [],
            "_view_module": "@jupyter-widgets/output",
            "_model_module_version": "1.0.0",
            "_view_count": null,
            "_view_module_version": "1.0.0",
            "layout": "IPY_MODEL_b83ce0e267264d8a80b16e63817019a6",
            "_model_module": "@jupyter-widgets/output"
          }
        },
        "26861dddd76e40439380690c6fc096f2": {
          "model_module": "@jupyter-widgets/controls",
          "model_name": "SliderStyleModel",
          "state": {
            "_view_name": "StyleView",
            "handle_color": null,
            "_model_name": "SliderStyleModel",
            "description_width": "",
            "_view_module": "@jupyter-widgets/base",
            "_model_module_version": "1.5.0",
            "_view_count": null,
            "_view_module_version": "1.2.0",
            "_model_module": "@jupyter-widgets/controls"
          }
        },
        "82d79e2a359c4b8c81afb366d16ac8c8": {
          "model_module": "@jupyter-widgets/base",
          "model_name": "LayoutModel",
          "state": {
            "_view_name": "LayoutView",
            "grid_template_rows": null,
            "right": null,
            "justify_content": null,
            "_view_module": "@jupyter-widgets/base",
            "overflow": null,
            "_model_module_version": "1.2.0",
            "_view_count": null,
            "flex_flow": null,
            "width": null,
            "min_width": null,
            "border": null,
            "align_items": null,
            "bottom": null,
            "_model_module": "@jupyter-widgets/base",
            "top": null,
            "grid_column": null,
            "overflow_y": null,
            "overflow_x": null,
            "grid_auto_flow": null,
            "grid_area": null,
            "grid_template_columns": null,
            "flex": null,
            "_model_name": "LayoutModel",
            "justify_items": null,
            "grid_row": null,
            "max_height": null,
            "align_content": null,
            "visibility": null,
            "align_self": null,
            "height": null,
            "min_height": null,
            "padding": null,
            "grid_auto_rows": null,
            "grid_gap": null,
            "max_width": null,
            "order": null,
            "_view_module_version": "1.2.0",
            "grid_template_areas": null,
            "object_position": null,
            "object_fit": null,
            "grid_auto_columns": null,
            "margin": null,
            "display": null,
            "left": null
          }
        },
        "b5a78c624ad346ddb19a740cd1481238": {
          "model_module": "@jupyter-widgets/controls",
          "model_name": "SliderStyleModel",
          "state": {
            "_view_name": "StyleView",
            "handle_color": null,
            "_model_name": "SliderStyleModel",
            "description_width": "",
            "_view_module": "@jupyter-widgets/base",
            "_model_module_version": "1.5.0",
            "_view_count": null,
            "_view_module_version": "1.2.0",
            "_model_module": "@jupyter-widgets/controls"
          }
        },
        "c384b5169f6b46eb9e841904a730f706": {
          "model_module": "@jupyter-widgets/base",
          "model_name": "LayoutModel",
          "state": {
            "_view_name": "LayoutView",
            "grid_template_rows": null,
            "right": null,
            "justify_content": null,
            "_view_module": "@jupyter-widgets/base",
            "overflow": null,
            "_model_module_version": "1.2.0",
            "_view_count": null,
            "flex_flow": null,
            "width": null,
            "min_width": null,
            "border": null,
            "align_items": null,
            "bottom": null,
            "_model_module": "@jupyter-widgets/base",
            "top": null,
            "grid_column": null,
            "overflow_y": null,
            "overflow_x": null,
            "grid_auto_flow": null,
            "grid_area": null,
            "grid_template_columns": null,
            "flex": null,
            "_model_name": "LayoutModel",
            "justify_items": null,
            "grid_row": null,
            "max_height": null,
            "align_content": null,
            "visibility": null,
            "align_self": null,
            "height": null,
            "min_height": null,
            "padding": null,
            "grid_auto_rows": null,
            "grid_gap": null,
            "max_width": null,
            "order": null,
            "_view_module_version": "1.2.0",
            "grid_template_areas": null,
            "object_position": null,
            "object_fit": null,
            "grid_auto_columns": null,
            "margin": null,
            "display": null,
            "left": null
          }
        },
        "c198c90fce9642a19fc8149eecbff259": {
          "model_module": "@jupyter-widgets/controls",
          "model_name": "SliderStyleModel",
          "state": {
            "_view_name": "StyleView",
            "handle_color": null,
            "_model_name": "SliderStyleModel",
            "description_width": "",
            "_view_module": "@jupyter-widgets/base",
            "_model_module_version": "1.5.0",
            "_view_count": null,
            "_view_module_version": "1.2.0",
            "_model_module": "@jupyter-widgets/controls"
          }
        },
        "bf499f57c35b48138e2c3771ffaea939": {
          "model_module": "@jupyter-widgets/base",
          "model_name": "LayoutModel",
          "state": {
            "_view_name": "LayoutView",
            "grid_template_rows": null,
            "right": null,
            "justify_content": null,
            "_view_module": "@jupyter-widgets/base",
            "overflow": null,
            "_model_module_version": "1.2.0",
            "_view_count": null,
            "flex_flow": null,
            "width": null,
            "min_width": null,
            "border": null,
            "align_items": null,
            "bottom": null,
            "_model_module": "@jupyter-widgets/base",
            "top": null,
            "grid_column": null,
            "overflow_y": null,
            "overflow_x": null,
            "grid_auto_flow": null,
            "grid_area": null,
            "grid_template_columns": null,
            "flex": null,
            "_model_name": "LayoutModel",
            "justify_items": null,
            "grid_row": null,
            "max_height": null,
            "align_content": null,
            "visibility": null,
            "align_self": null,
            "height": null,
            "min_height": null,
            "padding": null,
            "grid_auto_rows": null,
            "grid_gap": null,
            "max_width": null,
            "order": null,
            "_view_module_version": "1.2.0",
            "grid_template_areas": null,
            "object_position": null,
            "object_fit": null,
            "grid_auto_columns": null,
            "margin": null,
            "display": null,
            "left": null
          }
        },
        "14544e9ed4c54e38afae68914b73ab36": {
          "model_module": "@jupyter-widgets/controls",
          "model_name": "ButtonStyleModel",
          "state": {
            "_view_name": "StyleView",
            "_model_name": "ButtonStyleModel",
            "_view_module": "@jupyter-widgets/base",
            "_model_module_version": "1.5.0",
            "_view_count": null,
            "button_color": null,
            "font_weight": "",
            "_view_module_version": "1.2.0",
            "_model_module": "@jupyter-widgets/controls"
          }
        },
        "68bf0fd977f640fba9e979d892d8159c": {
          "model_module": "@jupyter-widgets/base",
          "model_name": "LayoutModel",
          "state": {
            "_view_name": "LayoutView",
            "grid_template_rows": null,
            "right": null,
            "justify_content": null,
            "_view_module": "@jupyter-widgets/base",
            "overflow": null,
            "_model_module_version": "1.2.0",
            "_view_count": null,
            "flex_flow": null,
            "width": null,
            "min_width": null,
            "border": null,
            "align_items": null,
            "bottom": null,
            "_model_module": "@jupyter-widgets/base",
            "top": null,
            "grid_column": null,
            "overflow_y": null,
            "overflow_x": null,
            "grid_auto_flow": null,
            "grid_area": null,
            "grid_template_columns": null,
            "flex": null,
            "_model_name": "LayoutModel",
            "justify_items": null,
            "grid_row": null,
            "max_height": null,
            "align_content": null,
            "visibility": null,
            "align_self": null,
            "height": null,
            "min_height": null,
            "padding": null,
            "grid_auto_rows": null,
            "grid_gap": null,
            "max_width": null,
            "order": null,
            "_view_module_version": "1.2.0",
            "grid_template_areas": null,
            "object_position": null,
            "object_fit": null,
            "grid_auto_columns": null,
            "margin": null,
            "display": null,
            "left": null
          }
        },
        "b83ce0e267264d8a80b16e63817019a6": {
          "model_module": "@jupyter-widgets/base",
          "model_name": "LayoutModel",
          "state": {
            "_view_name": "LayoutView",
            "grid_template_rows": null,
            "right": null,
            "justify_content": null,
            "_view_module": "@jupyter-widgets/base",
            "overflow": null,
            "_model_module_version": "1.2.0",
            "_view_count": null,
            "flex_flow": null,
            "width": null,
            "min_width": null,
            "border": null,
            "align_items": null,
            "bottom": null,
            "_model_module": "@jupyter-widgets/base",
            "top": null,
            "grid_column": null,
            "overflow_y": null,
            "overflow_x": null,
            "grid_auto_flow": null,
            "grid_area": null,
            "grid_template_columns": null,
            "flex": null,
            "_model_name": "LayoutModel",
            "justify_items": null,
            "grid_row": null,
            "max_height": null,
            "align_content": null,
            "visibility": null,
            "align_self": null,
            "height": null,
            "min_height": null,
            "padding": null,
            "grid_auto_rows": null,
            "grid_gap": null,
            "max_width": null,
            "order": null,
            "_view_module_version": "1.2.0",
            "grid_template_areas": null,
            "object_position": null,
            "object_fit": null,
            "grid_auto_columns": null,
            "margin": null,
            "display": null,
            "left": null
          }
        },
        "7dde83b6673d4d45bbc5f942918e7d37": {
          "model_module": "@jupyter-widgets/controls",
          "model_name": "TextareaModel",
          "state": {
            "_view_name": "TextareaView",
            "style": "IPY_MODEL_c8128dc66abf4657baf3220e3d175766",
            "rows": null,
            "_dom_classes": [],
            "description": "",
            "_model_name": "TextareaModel",
            "placeholder": "Type something",
            "_view_module": "@jupyter-widgets/controls",
            "_model_module_version": "1.5.0",
            "value": "Type your answer here and click on `Submit!`",
            "_view_count": null,
            "disabled": false,
            "_view_module_version": "1.5.0",
            "continuous_update": true,
            "description_tooltip": null,
            "_model_module": "@jupyter-widgets/controls",
            "layout": "IPY_MODEL_24a6163527a446eea8231ec32dbb2278"
          }
        },
        "c8128dc66abf4657baf3220e3d175766": {
          "model_module": "@jupyter-widgets/controls",
          "model_name": "DescriptionStyleModel",
          "state": {
            "_view_name": "StyleView",
            "_model_name": "DescriptionStyleModel",
            "description_width": "",
            "_view_module": "@jupyter-widgets/base",
            "_model_module_version": "1.5.0",
            "_view_count": null,
            "_view_module_version": "1.2.0",
            "_model_module": "@jupyter-widgets/controls"
          }
        },
        "24a6163527a446eea8231ec32dbb2278": {
          "model_module": "@jupyter-widgets/base",
          "model_name": "LayoutModel",
          "state": {
            "_view_name": "LayoutView",
            "grid_template_rows": null,
            "right": null,
            "justify_content": null,
            "_view_module": "@jupyter-widgets/base",
            "overflow": null,
            "_model_module_version": "1.2.0",
            "_view_count": null,
            "flex_flow": null,
            "width": null,
            "min_width": null,
            "border": null,
            "align_items": null,
            "bottom": null,
            "_model_module": "@jupyter-widgets/base",
            "top": null,
            "grid_column": null,
            "overflow_y": null,
            "overflow_x": null,
            "grid_auto_flow": null,
            "grid_area": null,
            "grid_template_columns": null,
            "flex": null,
            "_model_name": "LayoutModel",
            "justify_items": null,
            "grid_row": null,
            "max_height": null,
            "align_content": null,
            "visibility": null,
            "align_self": null,
            "height": null,
            "min_height": null,
            "padding": null,
            "grid_auto_rows": null,
            "grid_gap": null,
            "max_width": null,
            "order": null,
            "_view_module_version": "1.2.0",
            "grid_template_areas": null,
            "object_position": null,
            "object_fit": null,
            "grid_auto_columns": null,
            "margin": null,
            "display": null,
            "left": null
          }
        },
        "0db7917314d4459794817f88280054d3": {
          "model_module": "@jupyter-widgets/controls",
          "model_name": "ButtonModel",
          "state": {
            "_view_name": "ButtonView",
            "style": "IPY_MODEL_c80f4bd44ad748389b0a314adf9f8007",
            "_dom_classes": [],
            "description": "Submit!",
            "_model_name": "ButtonModel",
            "button_style": "",
            "_view_module": "@jupyter-widgets/controls",
            "_model_module_version": "1.5.0",
            "tooltip": "",
            "_view_count": null,
            "disabled": false,
            "_view_module_version": "1.5.0",
            "layout": "IPY_MODEL_e8970f60047d47e7ae50052bcc369fda",
            "_model_module": "@jupyter-widgets/controls",
            "icon": ""
          }
        },
        "c80f4bd44ad748389b0a314adf9f8007": {
          "model_module": "@jupyter-widgets/controls",
          "model_name": "ButtonStyleModel",
          "state": {
            "_view_name": "StyleView",
            "_model_name": "ButtonStyleModel",
            "_view_module": "@jupyter-widgets/base",
            "_model_module_version": "1.5.0",
            "_view_count": null,
            "button_color": null,
            "font_weight": "",
            "_view_module_version": "1.2.0",
            "_model_module": "@jupyter-widgets/controls"
          }
        },
        "e8970f60047d47e7ae50052bcc369fda": {
          "model_module": "@jupyter-widgets/base",
          "model_name": "LayoutModel",
          "state": {
            "_view_name": "LayoutView",
            "grid_template_rows": null,
            "right": null,
            "justify_content": null,
            "_view_module": "@jupyter-widgets/base",
            "overflow": null,
            "_model_module_version": "1.2.0",
            "_view_count": null,
            "flex_flow": null,
            "width": null,
            "min_width": null,
            "border": null,
            "align_items": null,
            "bottom": null,
            "_model_module": "@jupyter-widgets/base",
            "top": null,
            "grid_column": null,
            "overflow_y": null,
            "overflow_x": null,
            "grid_auto_flow": null,
            "grid_area": null,
            "grid_template_columns": null,
            "flex": null,
            "_model_name": "LayoutModel",
            "justify_items": null,
            "grid_row": null,
            "max_height": null,
            "align_content": null,
            "visibility": null,
            "align_self": null,
            "height": null,
            "min_height": null,
            "padding": null,
            "grid_auto_rows": null,
            "grid_gap": null,
            "max_width": null,
            "order": null,
            "_view_module_version": "1.2.0",
            "grid_template_areas": null,
            "object_position": null,
            "object_fit": null,
            "grid_auto_columns": null,
            "margin": null,
            "display": null,
            "left": null
          }
        },
        "e7c40c202f854bd0b87398900fd14e11": {
          "model_module": "@jupyter-widgets/controls",
          "model_name": "TabModel",
          "state": {
            "_view_name": "TabView",
            "_dom_classes": [],
            "_titles": {
              "0": "Youtube",
              "1": "Bilibili"
            },
            "_model_name": "TabModel",
            "_view_module": "@jupyter-widgets/controls",
            "selected_index": 0,
            "_model_module_version": "1.5.0",
            "_view_count": null,
            "_view_module_version": "1.5.0",
            "box_style": "",
            "layout": "IPY_MODEL_59f90500a27a4578947813a69d9fac10",
            "_model_module": "@jupyter-widgets/controls",
            "children": [
              "IPY_MODEL_4b51c4d98dca4250a8c97954f740e247",
              "IPY_MODEL_0dc61dbab5f24fc6987345168cd17052"
            ]
          }
        },
        "59f90500a27a4578947813a69d9fac10": {
          "model_module": "@jupyter-widgets/base",
          "model_name": "LayoutModel",
          "state": {
            "_view_name": "LayoutView",
            "grid_template_rows": null,
            "right": null,
            "justify_content": null,
            "_view_module": "@jupyter-widgets/base",
            "overflow": null,
            "_model_module_version": "1.2.0",
            "_view_count": null,
            "flex_flow": null,
            "width": null,
            "min_width": null,
            "border": null,
            "align_items": null,
            "bottom": null,
            "_model_module": "@jupyter-widgets/base",
            "top": null,
            "grid_column": null,
            "overflow_y": null,
            "overflow_x": null,
            "grid_auto_flow": null,
            "grid_area": null,
            "grid_template_columns": null,
            "flex": null,
            "_model_name": "LayoutModel",
            "justify_items": null,
            "grid_row": null,
            "max_height": null,
            "align_content": null,
            "visibility": null,
            "align_self": null,
            "height": null,
            "min_height": null,
            "padding": null,
            "grid_auto_rows": null,
            "grid_gap": null,
            "max_width": null,
            "order": null,
            "_view_module_version": "1.2.0",
            "grid_template_areas": null,
            "object_position": null,
            "object_fit": null,
            "grid_auto_columns": null,
            "margin": null,
            "display": null,
            "left": null
          }
        },
        "4b51c4d98dca4250a8c97954f740e247": {
          "model_module": "@jupyter-widgets/output",
          "model_name": "OutputModel",
          "state": {
            "_view_name": "OutputView",
            "msg_id": "",
            "_dom_classes": [],
            "_model_name": "OutputModel",
            "outputs": [
              {
                "output_type": "stream",
                "metadata": {
                  "tags": []
                },
                "text": "Video available at https://youtube.com/watch?v=0EthSI0cknI\n",
                "stream": "stdout"
              },
              {
                "output_type": "display_data",
                "metadata": {
                  "tags": []
                },
                "text/html": "\n        <iframe\n            width=\"854\"\n            height=\"480\"\n            src=\"https://www.youtube.com/embed/0EthSI0cknI?fs=1&rel=0\"\n            frameborder=\"0\"\n            allowfullscreen\n        ></iframe>\n        ",
                "text/plain": "<IPython.lib.display.YouTubeVideo at 0x7fe2b0ec3810>",
                "image/jpeg": "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\n"
              }
            ],
            "_view_module": "@jupyter-widgets/output",
            "_model_module_version": "1.0.0",
            "_view_count": null,
            "_view_module_version": "1.0.0",
            "layout": "IPY_MODEL_1f2a4034b4eb4f2f9986aee56987a53f",
            "_model_module": "@jupyter-widgets/output"
          }
        },
        "0dc61dbab5f24fc6987345168cd17052": {
          "model_module": "@jupyter-widgets/output",
          "model_name": "OutputModel",
          "state": {
            "_view_name": "OutputView",
            "msg_id": "",
            "_dom_classes": [],
            "_model_name": "OutputModel",
            "outputs": [
              {
                "output_type": "stream",
                "metadata": {
                  "tags": []
                },
                "text": "Video available at https://www.bilibili.com/video/BV1TU4y1G7Je\n",
                "stream": "stdout"
              },
              {
                "output_type": "display_data",
                "metadata": {
                  "tags": []
                },
                "text/html": "\n        <iframe\n            width=\"854\"\n            height=\"480\"\n            src=\"https://player.bilibili.com/player.html?bvid=BV1TU4y1G7Je&page=1?fs=1\"\n            frameborder=\"0\"\n            allowfullscreen\n        ></iframe>\n        ",
                "text/plain": "<__main__.BiliVideo at 0x7fe2bba50610>"
              }
            ],
            "_view_module": "@jupyter-widgets/output",
            "_model_module_version": "1.0.0",
            "_view_count": null,
            "_view_module_version": "1.0.0",
            "layout": "IPY_MODEL_6ad64fcde85e4e4895ad2a58aa306154",
            "_model_module": "@jupyter-widgets/output"
          }
        },
        "1f2a4034b4eb4f2f9986aee56987a53f": {
          "model_module": "@jupyter-widgets/base",
          "model_name": "LayoutModel",
          "state": {
            "_view_name": "LayoutView",
            "grid_template_rows": null,
            "right": null,
            "justify_content": null,
            "_view_module": "@jupyter-widgets/base",
            "overflow": null,
            "_model_module_version": "1.2.0",
            "_view_count": null,
            "flex_flow": null,
            "width": null,
            "min_width": null,
            "border": null,
            "align_items": null,
            "bottom": null,
            "_model_module": "@jupyter-widgets/base",
            "top": null,
            "grid_column": null,
            "overflow_y": null,
            "overflow_x": null,
            "grid_auto_flow": null,
            "grid_area": null,
            "grid_template_columns": null,
            "flex": null,
            "_model_name": "LayoutModel",
            "justify_items": null,
            "grid_row": null,
            "max_height": null,
            "align_content": null,
            "visibility": null,
            "align_self": null,
            "height": null,
            "min_height": null,
            "padding": null,
            "grid_auto_rows": null,
            "grid_gap": null,
            "max_width": null,
            "order": null,
            "_view_module_version": "1.2.0",
            "grid_template_areas": null,
            "object_position": null,
            "object_fit": null,
            "grid_auto_columns": null,
            "margin": null,
            "display": null,
            "left": null
          }
        },
        "6ad64fcde85e4e4895ad2a58aa306154": {
          "model_module": "@jupyter-widgets/base",
          "model_name": "LayoutModel",
          "state": {
            "_view_name": "LayoutView",
            "grid_template_rows": null,
            "right": null,
            "justify_content": null,
            "_view_module": "@jupyter-widgets/base",
            "overflow": null,
            "_model_module_version": "1.2.0",
            "_view_count": null,
            "flex_flow": null,
            "width": null,
            "min_width": null,
            "border": null,
            "align_items": null,
            "bottom": null,
            "_model_module": "@jupyter-widgets/base",
            "top": null,
            "grid_column": null,
            "overflow_y": null,
            "overflow_x": null,
            "grid_auto_flow": null,
            "grid_area": null,
            "grid_template_columns": null,
            "flex": null,
            "_model_name": "LayoutModel",
            "justify_items": null,
            "grid_row": null,
            "max_height": null,
            "align_content": null,
            "visibility": null,
            "align_self": null,
            "height": null,
            "min_height": null,
            "padding": null,
            "grid_auto_rows": null,
            "grid_gap": null,
            "max_width": null,
            "order": null,
            "_view_module_version": "1.2.0",
            "grid_template_areas": null,
            "object_position": null,
            "object_fit": null,
            "grid_auto_columns": null,
            "margin": null,
            "display": null,
            "left": null
          }
        },
        "a8c3d1aa388445fc963485a5d6392b8b": {
          "model_module": "@jupyter-widgets/controls",
          "model_name": "TabModel",
          "state": {
            "_view_name": "TabView",
            "_dom_classes": [],
            "_titles": {
              "0": "Youtube",
              "1": "Bilibili"
            },
            "_model_name": "TabModel",
            "_view_module": "@jupyter-widgets/controls",
            "selected_index": 0,
            "_model_module_version": "1.5.0",
            "_view_count": null,
            "_view_module_version": "1.5.0",
            "box_style": "",
            "layout": "IPY_MODEL_153f0c03b6164977846a286f4290f51a",
            "_model_module": "@jupyter-widgets/controls",
            "children": [
              "IPY_MODEL_db1d7f68c4314f2c92079d3e0be38cba",
              "IPY_MODEL_7b8af4195d1941b0a83cb94d7e35bb77"
            ]
          }
        },
        "153f0c03b6164977846a286f4290f51a": {
          "model_module": "@jupyter-widgets/base",
          "model_name": "LayoutModel",
          "state": {
            "_view_name": "LayoutView",
            "grid_template_rows": null,
            "right": null,
            "justify_content": null,
            "_view_module": "@jupyter-widgets/base",
            "overflow": null,
            "_model_module_version": "1.2.0",
            "_view_count": null,
            "flex_flow": null,
            "width": null,
            "min_width": null,
            "border": null,
            "align_items": null,
            "bottom": null,
            "_model_module": "@jupyter-widgets/base",
            "top": null,
            "grid_column": null,
            "overflow_y": null,
            "overflow_x": null,
            "grid_auto_flow": null,
            "grid_area": null,
            "grid_template_columns": null,
            "flex": null,
            "_model_name": "LayoutModel",
            "justify_items": null,
            "grid_row": null,
            "max_height": null,
            "align_content": null,
            "visibility": null,
            "align_self": null,
            "height": null,
            "min_height": null,
            "padding": null,
            "grid_auto_rows": null,
            "grid_gap": null,
            "max_width": null,
            "order": null,
            "_view_module_version": "1.2.0",
            "grid_template_areas": null,
            "object_position": null,
            "object_fit": null,
            "grid_auto_columns": null,
            "margin": null,
            "display": null,
            "left": null
          }
        },
        "db1d7f68c4314f2c92079d3e0be38cba": {
          "model_module": "@jupyter-widgets/output",
          "model_name": "OutputModel",
          "state": {
            "_view_name": "OutputView",
            "msg_id": "",
            "_dom_classes": [],
            "_model_name": "OutputModel",
            "outputs": [
              {
                "output_type": "stream",
                "metadata": {
                  "tags": []
                },
                "text": "Video available at https://youtube.com/watch?v=DP9c13vLiOM\n",
                "stream": "stdout"
              },
              {
                "output_type": "display_data",
                "metadata": {
                  "tags": []
                },
                "text/html": "\n        <iframe\n            width=\"854\"\n            height=\"480\"\n            src=\"https://www.youtube.com/embed/DP9c13vLiOM?fs=1&rel=0\"\n            frameborder=\"0\"\n            allowfullscreen\n        ></iframe>\n        ",
                "text/plain": "<IPython.lib.display.YouTubeVideo at 0x7fe2b0f9edd0>",
                "image/jpeg": "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\n"
              }
            ],
            "_view_module": "@jupyter-widgets/output",
            "_model_module_version": "1.0.0",
            "_view_count": null,
            "_view_module_version": "1.0.0",
            "layout": "IPY_MODEL_d59d78e111674c99a3184464910d2d7a",
            "_model_module": "@jupyter-widgets/output"
          }
        },
        "7b8af4195d1941b0a83cb94d7e35bb77": {
          "model_module": "@jupyter-widgets/output",
          "model_name": "OutputModel",
          "state": {
            "_view_name": "OutputView",
            "msg_id": "",
            "_dom_classes": [],
            "_model_name": "OutputModel",
            "outputs": [
              {
                "output_type": "stream",
                "metadata": {
                  "tags": []
                },
                "text": "Video available at https://www.bilibili.com/video/BV1MK4y1u7u2\n",
                "stream": "stdout"
              },
              {
                "output_type": "display_data",
                "metadata": {
                  "tags": []
                },
                "text/html": "\n        <iframe\n            width=\"854\"\n            height=\"480\"\n            src=\"https://player.bilibili.com/player.html?bvid=BV1MK4y1u7u2&page=1?fs=1\"\n            frameborder=\"0\"\n            allowfullscreen\n        ></iframe>\n        ",
                "text/plain": "<__main__.BiliVideo at 0x7fe2bba8a190>"
              }
            ],
            "_view_module": "@jupyter-widgets/output",
            "_model_module_version": "1.0.0",
            "_view_count": null,
            "_view_module_version": "1.0.0",
            "layout": "IPY_MODEL_dcd8433470d94d9789d93d90b4479532",
            "_model_module": "@jupyter-widgets/output"
          }
        },
        "d59d78e111674c99a3184464910d2d7a": {
          "model_module": "@jupyter-widgets/base",
          "model_name": "LayoutModel",
          "state": {
            "_view_name": "LayoutView",
            "grid_template_rows": null,
            "right": null,
            "justify_content": null,
            "_view_module": "@jupyter-widgets/base",
            "overflow": null,
            "_model_module_version": "1.2.0",
            "_view_count": null,
            "flex_flow": null,
            "width": null,
            "min_width": null,
            "border": null,
            "align_items": null,
            "bottom": null,
            "_model_module": "@jupyter-widgets/base",
            "top": null,
            "grid_column": null,
            "overflow_y": null,
            "overflow_x": null,
            "grid_auto_flow": null,
            "grid_area": null,
            "grid_template_columns": null,
            "flex": null,
            "_model_name": "LayoutModel",
            "justify_items": null,
            "grid_row": null,
            "max_height": null,
            "align_content": null,
            "visibility": null,
            "align_self": null,
            "height": null,
            "min_height": null,
            "padding": null,
            "grid_auto_rows": null,
            "grid_gap": null,
            "max_width": null,
            "order": null,
            "_view_module_version": "1.2.0",
            "grid_template_areas": null,
            "object_position": null,
            "object_fit": null,
            "grid_auto_columns": null,
            "margin": null,
            "display": null,
            "left": null
          }
        },
        "dcd8433470d94d9789d93d90b4479532": {
          "model_module": "@jupyter-widgets/base",
          "model_name": "LayoutModel",
          "state": {
            "_view_name": "LayoutView",
            "grid_template_rows": null,
            "right": null,
            "justify_content": null,
            "_view_module": "@jupyter-widgets/base",
            "overflow": null,
            "_model_module_version": "1.2.0",
            "_view_count": null,
            "flex_flow": null,
            "width": null,
            "min_width": null,
            "border": null,
            "align_items": null,
            "bottom": null,
            "_model_module": "@jupyter-widgets/base",
            "top": null,
            "grid_column": null,
            "overflow_y": null,
            "overflow_x": null,
            "grid_auto_flow": null,
            "grid_area": null,
            "grid_template_columns": null,
            "flex": null,
            "_model_name": "LayoutModel",
            "justify_items": null,
            "grid_row": null,
            "max_height": null,
            "align_content": null,
            "visibility": null,
            "align_self": null,
            "height": null,
            "min_height": null,
            "padding": null,
            "grid_auto_rows": null,
            "grid_gap": null,
            "max_width": null,
            "order": null,
            "_view_module_version": "1.2.0",
            "grid_template_areas": null,
            "object_position": null,
            "object_fit": null,
            "grid_auto_columns": null,
            "margin": null,
            "display": null,
            "left": null
          }
        },
        "28fe54d956bb4ad1bbf701e0705a8d2b": {
          "model_module": "@jupyter-widgets/controls",
          "model_name": "HBoxModel",
          "state": {
            "_view_name": "HBoxView",
            "_dom_classes": [],
            "_model_name": "HBoxModel",
            "_view_module": "@jupyter-widgets/controls",
            "_model_module_version": "1.5.0",
            "_view_count": null,
            "_view_module_version": "1.5.0",
            "box_style": "",
            "layout": "IPY_MODEL_5254352a72484032b7e99116ad328774",
            "_model_module": "@jupyter-widgets/controls",
            "children": [
              "IPY_MODEL_fde371e3186649a6ac1cd61c1903c60f",
              "IPY_MODEL_c87c57afc6b549dcb05f9da5bb112cec"
            ]
          }
        },
        "5254352a72484032b7e99116ad328774": {
          "model_module": "@jupyter-widgets/base",
          "model_name": "LayoutModel",
          "state": {
            "_view_name": "LayoutView",
            "grid_template_rows": null,
            "right": null,
            "justify_content": null,
            "_view_module": "@jupyter-widgets/base",
            "overflow": null,
            "_model_module_version": "1.2.0",
            "_view_count": null,
            "flex_flow": null,
            "width": null,
            "min_width": null,
            "border": null,
            "align_items": null,
            "bottom": null,
            "_model_module": "@jupyter-widgets/base",
            "top": null,
            "grid_column": null,
            "overflow_y": null,
            "overflow_x": null,
            "grid_auto_flow": null,
            "grid_area": null,
            "grid_template_columns": null,
            "flex": null,
            "_model_name": "LayoutModel",
            "justify_items": null,
            "grid_row": null,
            "max_height": null,
            "align_content": null,
            "visibility": null,
            "align_self": null,
            "height": null,
            "min_height": null,
            "padding": null,
            "grid_auto_rows": null,
            "grid_gap": null,
            "max_width": null,
            "order": null,
            "_view_module_version": "1.2.0",
            "grid_template_areas": null,
            "object_position": null,
            "object_fit": null,
            "grid_auto_columns": null,
            "margin": null,
            "display": null,
            "left": null
          }
        },
        "fde371e3186649a6ac1cd61c1903c60f": {
          "model_module": "@jupyter-widgets/controls",
          "model_name": "FloatProgressModel",
          "state": {
            "_view_name": "ProgressView",
            "style": "IPY_MODEL_93036b0e3c00483a8bba21c94117bca9",
            "_dom_classes": [],
            "description": "100%",
            "_model_name": "FloatProgressModel",
            "bar_style": "success",
            "max": 2,
            "_view_module": "@jupyter-widgets/controls",
            "_model_module_version": "1.5.0",
            "value": 2,
            "_view_count": null,
            "_view_module_version": "1.5.0",
            "orientation": "horizontal",
            "min": 0,
            "description_tooltip": null,
            "_model_module": "@jupyter-widgets/controls",
            "layout": "IPY_MODEL_7c15284ec19e447eb7fc65b8aaece535"
          }
        },
        "c87c57afc6b549dcb05f9da5bb112cec": {
          "model_module": "@jupyter-widgets/controls",
          "model_name": "HTMLModel",
          "state": {
            "_view_name": "HTMLView",
            "style": "IPY_MODEL_db9fe8bf0d664471a0a0a48d1a55894e",
            "_dom_classes": [],
            "description": "",
            "_model_name": "HTMLModel",
            "placeholder": "​",
            "_view_module": "@jupyter-widgets/controls",
            "_model_module_version": "1.5.0",
            "value": " 2/2 [01:15&lt;00:00, 37.78s/it]",
            "_view_count": null,
            "_view_module_version": "1.5.0",
            "description_tooltip": null,
            "_model_module": "@jupyter-widgets/controls",
            "layout": "IPY_MODEL_b733343f3e3f4946a68314cd047f9859"
          }
        },
        "93036b0e3c00483a8bba21c94117bca9": {
          "model_module": "@jupyter-widgets/controls",
          "model_name": "ProgressStyleModel",
          "state": {
            "_view_name": "StyleView",
            "_model_name": "ProgressStyleModel",
            "description_width": "initial",
            "_view_module": "@jupyter-widgets/base",
            "_model_module_version": "1.5.0",
            "_view_count": null,
            "_view_module_version": "1.2.0",
            "bar_color": null,
            "_model_module": "@jupyter-widgets/controls"
          }
        },
        "7c15284ec19e447eb7fc65b8aaece535": {
          "model_module": "@jupyter-widgets/base",
          "model_name": "LayoutModel",
          "state": {
            "_view_name": "LayoutView",
            "grid_template_rows": null,
            "right": null,
            "justify_content": null,
            "_view_module": "@jupyter-widgets/base",
            "overflow": null,
            "_model_module_version": "1.2.0",
            "_view_count": null,
            "flex_flow": null,
            "width": null,
            "min_width": null,
            "border": null,
            "align_items": null,
            "bottom": null,
            "_model_module": "@jupyter-widgets/base",
            "top": null,
            "grid_column": null,
            "overflow_y": null,
            "overflow_x": null,
            "grid_auto_flow": null,
            "grid_area": null,
            "grid_template_columns": null,
            "flex": null,
            "_model_name": "LayoutModel",
            "justify_items": null,
            "grid_row": null,
            "max_height": null,
            "align_content": null,
            "visibility": null,
            "align_self": null,
            "height": null,
            "min_height": null,
            "padding": null,
            "grid_auto_rows": null,
            "grid_gap": null,
            "max_width": null,
            "order": null,
            "_view_module_version": "1.2.0",
            "grid_template_areas": null,
            "object_position": null,
            "object_fit": null,
            "grid_auto_columns": null,
            "margin": null,
            "display": null,
            "left": null
          }
        },
        "db9fe8bf0d664471a0a0a48d1a55894e": {
          "model_module": "@jupyter-widgets/controls",
          "model_name": "DescriptionStyleModel",
          "state": {
            "_view_name": "StyleView",
            "_model_name": "DescriptionStyleModel",
            "description_width": "",
            "_view_module": "@jupyter-widgets/base",
            "_model_module_version": "1.5.0",
            "_view_count": null,
            "_view_module_version": "1.2.0",
            "_model_module": "@jupyter-widgets/controls"
          }
        },
        "b733343f3e3f4946a68314cd047f9859": {
          "model_module": "@jupyter-widgets/base",
          "model_name": "LayoutModel",
          "state": {
            "_view_name": "LayoutView",
            "grid_template_rows": null,
            "right": null,
            "justify_content": null,
            "_view_module": "@jupyter-widgets/base",
            "overflow": null,
            "_model_module_version": "1.2.0",
            "_view_count": null,
            "flex_flow": null,
            "width": null,
            "min_width": null,
            "border": null,
            "align_items": null,
            "bottom": null,
            "_model_module": "@jupyter-widgets/base",
            "top": null,
            "grid_column": null,
            "overflow_y": null,
            "overflow_x": null,
            "grid_auto_flow": null,
            "grid_area": null,
            "grid_template_columns": null,
            "flex": null,
            "_model_name": "LayoutModel",
            "justify_items": null,
            "grid_row": null,
            "max_height": null,
            "align_content": null,
            "visibility": null,
            "align_self": null,
            "height": null,
            "min_height": null,
            "padding": null,
            "grid_auto_rows": null,
            "grid_gap": null,
            "max_width": null,
            "order": null,
            "_view_module_version": "1.2.0",
            "grid_template_areas": null,
            "object_position": null,
            "object_fit": null,
            "grid_auto_columns": null,
            "margin": null,
            "display": null,
            "left": null
          }
        }
      }
    }
  },
  "cells": [
    {
      "cell_type": "markdown",
      "metadata": {
        "id": "view-in-github",
        "colab_type": "text"
      },
      "source": [
        "<a href=\"https://colab.research.google.com/github/Anto2020cmi/Anto2020cmi/blob/main/W1D4_Tutorial1.ipynb\" target=\"_parent\"><img src=\"https://colab.research.google.com/assets/colab-badge.svg\" alt=\"Open In Colab\"/></a>"
      ]
    },
    {
      "cell_type": "markdown",
      "metadata": {
        "execution": {},
        "id": "5w2EfbW9MVgL"
      },
      "source": [
        "# Tutorial 1: Optimization techniques\n",
        "**Week 1, Day 4: Optimization**\n",
        "\n",
        "**By Neuromatch Academy**\n",
        "\n",
        "__Content creators:__ Jose Gallego-Posada, Ioannis Mitliagkas\n",
        "\n",
        "__Content reviewers:__ Piyush Chauhan, Vladimir Haltakov, Siwei Bai, Kelson Shilling-Scrivo\n",
        "\n",
        "__Content editors:__ Charles J Edelson, Gagana B, Spiros Chavlis\n",
        "\n",
        "__Production editors:__ Arush Tagade, Spiros Chavlis"
      ]
    },
    {
      "cell_type": "markdown",
      "metadata": {
        "execution": {},
        "id": "E-3ht4rzMVgN"
      },
      "source": [
        "**Our 2021 Sponsors, including Presenting Sponsor Facebook Reality Labs**\n",
        "\n",
        "<p align='center'><img src='https://github.com/NeuromatchAcademy/widgets/blob/master/sponsors.png?raw=True'/></p>"
      ]
    },
    {
      "cell_type": "markdown",
      "metadata": {
        "execution": {},
        "id": "vmVP7nqTMVgN"
      },
      "source": [
        "---\n",
        "# Tutorial Objectives\n",
        "\n",
        "Objectives:\n",
        "*   Necessity and importance of optimization\n",
        "*   Introduction to commonly used optimization techniques\n",
        "*   Optimization in non-convex loss landscapes \n",
        "*   'Adaptive' hyperparameter tuning \n",
        "*   Ethical concerns\n",
        "\n"
      ]
    },
    {
      "cell_type": "code",
      "metadata": {
        "cellView": "form",
        "execution": {},
        "id": "MoKLgDRxMVgO",
        "colab": {
          "base_uri": "https://localhost:8080/",
          "height": 501
        },
        "outputId": "7073e981-05b7-4d0c-c58d-57b603042cae"
      },
      "source": [
        "# @title Tutorial slides\n",
        "\n",
        "# @markdown These are the slides for the videos in this tutorial\n",
        "from IPython.display import IFrame\n",
        "IFrame(src=f\"https://mfr.ca-1.osf.io/render?url=https://osf.io/ft2sz/?direct%26mode=render%26action=download%26mode=render\", width=854, height=480)"
      ],
      "execution_count": 29,
      "outputs": [
        {
          "output_type": "execute_result",
          "data": {
            "text/html": [
              "\n",
              "        <iframe\n",
              "            width=\"854\"\n",
              "            height=\"480\"\n",
              "            src=\"https://mfr.ca-1.osf.io/render?url=https://osf.io/ft2sz/?direct%26mode=render%26action=download%26mode=render\"\n",
              "            frameborder=\"0\"\n",
              "            allowfullscreen\n",
              "        ></iframe>\n",
              "        "
            ],
            "text/plain": [
              "<IPython.lib.display.IFrame at 0x7fe2bf0e1c90>"
            ]
          },
          "metadata": {
            "tags": []
          },
          "execution_count": 29
        }
      ]
    },
    {
      "cell_type": "markdown",
      "metadata": {
        "execution": {},
        "id": "MWs-b5ypMVgP"
      },
      "source": [
        "---\n",
        "# Setup"
      ]
    },
    {
      "cell_type": "code",
      "metadata": {
        "cellView": "form",
        "execution": {},
        "id": "zF35ROc-MVgP"
      },
      "source": [
        "# @title Install dependencies\n",
        "!pip install git+https://github.com/NeuromatchAcademy/evaltools --quiet\n",
        "from evaltools.airtable import AirtableForm\n",
        "\n",
        "# generate airtable form\n",
        "atform = AirtableForm('appn7VdPRseSoMXEG','W1D4_T1','https://portal.neuromatchacademy.org/api/redirect/to/9548a279-c9f9-4586-b89c-f0ceceba5c14')"
      ],
      "execution_count": 30,
      "outputs": []
    },
    {
      "cell_type": "code",
      "metadata": {
        "execution": {},
        "id": "APx270DVMVgP"
      },
      "source": [
        "# Imports\n",
        "import time\n",
        "import copy\n",
        "import torch\n",
        "import torchvision\n",
        "\n",
        "import numpy as np\n",
        "import ipywidgets as widgets\n",
        "import matplotlib.pyplot as plt\n",
        "\n",
        "import torch.nn as nn\n",
        "import torch.optim as optim\n",
        "import torch.nn.functional as F\n",
        "import torchvision.datasets as datasets\n",
        "\n",
        "from tqdm.auto import tqdm"
      ],
      "execution_count": 31,
      "outputs": []
    },
    {
      "cell_type": "code",
      "metadata": {
        "cellView": "form",
        "execution": {},
        "id": "E1EoP0JAMVgQ"
      },
      "source": [
        "# @title Figure settings\n",
        "import ipywidgets as widgets       # interactive display\n",
        "%config InlineBackend.figure_format = 'retina'\n",
        "plt.style.use(\"https://raw.githubusercontent.com/NeuromatchAcademy/content-creation/main/nma.mplstyle\")\n",
        "plt.rc('axes', unicode_minus=False)"
      ],
      "execution_count": 32,
      "outputs": []
    },
    {
      "cell_type": "code",
      "metadata": {
        "cellView": "form",
        "execution": {},
        "id": "bF5GiJ8rMVgQ"
      },
      "source": [
        "# @title Helper functions\n",
        "def print_params(model):\n",
        "  for name, param in model.named_parameters():\n",
        "    if param.requires_grad:\n",
        "      print(name, param.data)"
      ],
      "execution_count": 33,
      "outputs": []
    },
    {
      "cell_type": "code",
      "metadata": {
        "cellView": "form",
        "execution": {},
        "id": "vUZYuJaZMVgR"
      },
      "source": [
        "# @title Set random seed\n",
        "\n",
        "# @markdown Executing `set_seed(seed=seed)` you are setting the seed\n",
        "\n",
        "# for DL its critical to set the random seed so that students can have a\n",
        "# baseline to compare their results to expected results.\n",
        "# Read more here: https://pytorch.org/docs/stable/notes/randomness.html\n",
        "\n",
        "# Call `set_seed` function in the exercises to ensure reproducibility.\n",
        "import random\n",
        "import torch\n",
        "\n",
        "def set_seed(seed=None, seed_torch=True):\n",
        "  if seed is None:\n",
        "    seed = np.random.choice(2 ** 32)\n",
        "  random.seed(seed)\n",
        "  np.random.seed(seed)\n",
        "  if seed_torch:\n",
        "    torch.manual_seed(seed)\n",
        "    torch.cuda.manual_seed_all(seed)\n",
        "    torch.cuda.manual_seed(seed)\n",
        "    torch.backends.cudnn.benchmark = False\n",
        "    torch.backends.cudnn.deterministic = True\n",
        "\n",
        "  print(f'Random seed {seed} has been set.')\n",
        "\n",
        "\n",
        "# In case that `DataLoader` is used\n",
        "def seed_worker(worker_id):\n",
        "  worker_seed = torch.initial_seed() % 2**32\n",
        "  np.random.seed(worker_seed)\n",
        "  random.seed(worker_seed)"
      ],
      "execution_count": 34,
      "outputs": []
    },
    {
      "cell_type": "code",
      "metadata": {
        "cellView": "form",
        "execution": {},
        "id": "LuvVai_rMVgS"
      },
      "source": [
        "# @title Set device (GPU or CPU). Execute `set_device()`\n",
        "# especially if torch modules used.\n",
        "\n",
        "# inform the user if the notebook uses GPU or CPU.\n",
        "\n",
        "def set_device():\n",
        "  device = \"cuda\" if torch.cuda.is_available() else \"cpu\"\n",
        "  if device != \"cuda\":\n",
        "    print(\"WARNING: For this notebook to perform best, \"\n",
        "        \"if possible, in the menu under `Runtime` -> \"\n",
        "        \"`Change runtime type.`  select `GPU` \")\n",
        "  else:\n",
        "    print(\"GPU is enabled in this notebook.\")\n",
        "\n",
        "  return device"
      ],
      "execution_count": 35,
      "outputs": []
    },
    {
      "cell_type": "code",
      "metadata": {
        "execution": {},
        "id": "Bb1-zpFzMVgS",
        "colab": {
          "base_uri": "https://localhost:8080/"
        },
        "outputId": "2b13c0ca-985d-459b-de33-802c54799055"
      },
      "source": [
        "SEED = 2021\n",
        "set_seed(seed=SEED)\n",
        "DEVICE = set_device()"
      ],
      "execution_count": 36,
      "outputs": [
        {
          "output_type": "stream",
          "text": [
            "Random seed 2021 has been set.\n",
            "GPU is enabled in this notebook.\n"
          ],
          "name": "stdout"
        }
      ]
    },
    {
      "cell_type": "markdown",
      "metadata": {
        "execution": {},
        "id": "nT0zgdxYMVgS"
      },
      "source": [
        "---\n",
        "# Section 1. Introduction\n",
        "\n",
        "*Time estimate: ~15 mins*"
      ]
    },
    {
      "cell_type": "code",
      "metadata": {
        "cellView": "form",
        "execution": {},
        "id": "XYErTgMHMVgT",
        "colab": {
          "base_uri": "https://localhost:8080/",
          "height": 581,
          "referenced_widgets": [
            "38b2c4d58c8c4ab0a909991667000ca0",
            "97aaed1e452a4cc19ea975ea5183b154",
            "8779f3abefbb477085f9c5b80107b213",
            "be6887bed80e4eababe4894bf69c0cd7",
            "784c972c80164625854710e27366b72c",
            "b0d6165943b641f7be0bf90110bec4c1"
          ]
        },
        "outputId": "515dc6ce-ef1b-482e-adea-284778a16361"
      },
      "source": [
        "# @title Video 1: Introduction\n",
        "from ipywidgets import widgets\n",
        "\n",
        "out2 = widgets.Output()\n",
        "with out2:\n",
        "  from IPython.display import IFrame\n",
        "  class BiliVideo(IFrame):\n",
        "    def __init__(self, id, page=1, width=400, height=300, **kwargs):\n",
        "      self.id=id\n",
        "      src = \"https://player.bilibili.com/player.html?bvid={0}&page={1}\".format(id, page)\n",
        "      super(BiliVideo, self).__init__(src, width, height, **kwargs)\n",
        "\n",
        "  video = BiliVideo(id=f\"BV1VB4y1K7Vr\", width=854, height=480, fs=1)\n",
        "  print(\"Video available at https://www.bilibili.com/video/{0}\".format(video.id))\n",
        "  display(video)\n",
        "\n",
        "out1 = widgets.Output()\n",
        "with out1:\n",
        "  from IPython.display import YouTubeVideo\n",
        "  video = YouTubeVideo(id=f\"zm9oekdkJbQ\", width=854, height=480, fs=1, rel=0)\n",
        "  print(\"Video available at https://youtube.com/watch?v=\" + video.id)\n",
        "  display(video)\n",
        "\n",
        "out = widgets.Tab([out1, out2])\n",
        "out.set_title(0, 'Youtube')\n",
        "out.set_title(1, 'Bilibili')\n",
        "\n",
        "# add event to airtable\n",
        "atform.add_event('Video 1: Introduction')\n",
        "\n",
        "display(out)"
      ],
      "execution_count": 37,
      "outputs": [
        {
          "output_type": "display_data",
          "data": {
            "application/vnd.jupyter.widget-view+json": {
              "model_id": "38b2c4d58c8c4ab0a909991667000ca0",
              "version_minor": 0,
              "version_major": 2
            },
            "text/plain": [
              "Tab(children=(Output(), Output()), _titles={'0': 'Youtube', '1': 'Bilibili'})"
            ]
          },
          "metadata": {
            "tags": []
          }
        }
      ]
    },
    {
      "cell_type": "markdown",
      "metadata": {
        "execution": {},
        "id": "N8JRiyubMVgT"
      },
      "source": [
        "## Discuss: Unexpected consequences\n",
        "\n",
        "Can you think of examples from your own experience/life where poorly chosen incentives or objectives have lead to unexpected consequences?"
      ]
    },
    {
      "cell_type": "markdown",
      "metadata": {
        "execution": {},
        "id": "yTkqBvgMMVgT"
      },
      "source": [
        "[*Click for solution*](https://github.com/NeuromatchAcademy/course-content-dl/tree/main//tutorials/W1D4_Optimization/solutions/W1D4_Tutorial1_Solution_b8bbba6f.py)\n",
        "\n"
      ]
    },
    {
      "cell_type": "markdown",
      "metadata": {
        "execution": {},
        "id": "3c3t_Uw7MVgU"
      },
      "source": [
        "---\n",
        "# Section 2: Case study: successfully training an MLP for image classification\n",
        "\n",
        "*Time estimate: ~40 mins*"
      ]
    },
    {
      "cell_type": "markdown",
      "metadata": {
        "execution": {},
        "id": "issBoMMlMVgU"
      },
      "source": [
        "Many of the core ideas (and tricks) in modern optimization for deep learning can be illustrated in the simple setting of training an MLP to solve an image classification task. In this tutorial we will guide you through the key challenges that arise when optimizing high-dimensional, non-convex$^\\dagger$ problems. We will use these challenges to motivate and explain some commonly used solutions.\n",
        "\n",
        "**Disclaimer:** Some of the functions you will code in this tutorial are already implemented in Pytorch and many other libraries. For pedagogical reasons, we decided to bring these simple coding tasks into the spotlight and place a relatively higher emphasis in your understanding of the algorithms, rather than the use of a specific library. \n",
        "\n",
        "In 'day-to-day' research projects you will likely to rely on the community-vetted, optimized libraries rather than the 'manual implementations' you will write today. In Section 8 you will have a chance to 'put it all together' and use the full power of Pytorch to tune the parameters of an MLP to classify handwritten digits."
      ]
    },
    {
      "cell_type": "markdown",
      "metadata": {
        "execution": {},
        "id": "1RoR2TX4MVgU"
      },
      "source": [
        "$^\\dagger$: A **convex** function has one, global minimum - a nice property, as an optimization algorithm won't get stuck in a local minimum that isn't a global one (e.g., $f(x)=x^2 + 2x + 1$). A **non-convex** function is wavy - has some 'valleys' (local minima) that aren't as deep as the overall deepest 'valley' (global minimum). Thus, the optimization algorithms can get stuck in the local minimum, and it can be hard to tell when this happens (e.g., $f(x) = x^4 + x^3 - 2x^2 - 2x$). See also **Section 5** for more details."
      ]
    },
    {
      "cell_type": "code",
      "metadata": {
        "cellView": "form",
        "execution": {},
        "id": "nRQv65W0MVgU",
        "colab": {
          "base_uri": "https://localhost:8080/",
          "height": 581,
          "referenced_widgets": [
            "51ac715353c54eacacb5b9b18d6c05f5",
            "ee267813b22a427bbd2890f4dad72471",
            "65c7572ed45a4a0c8a3361ceffd4a9f6",
            "0366a13cfdf94748a5fb0c7efe368729",
            "5d907c781cb542eb9841492f61730d85",
            "d9c130b836344540a56475a4aa65b5b6"
          ]
        },
        "outputId": "5d9a8b04-944e-4fa8-fe39-7ba426bac43d"
      },
      "source": [
        "# @title Video 2: Case Study - MLP Classification\n",
        "from ipywidgets import widgets\n",
        "\n",
        "out2 = widgets.Output()\n",
        "with out2:\n",
        "  from IPython.display import IFrame\n",
        "  class BiliVideo(IFrame):\n",
        "    def __init__(self, id, page=1, width=400, height=300, **kwargs):\n",
        "      self.id=id\n",
        "      src = \"https://player.bilibili.com/player.html?bvid={0}&page={1}\".format(id, page)\n",
        "      super(BiliVideo, self).__init__(src, width, height, **kwargs)\n",
        "\n",
        "  video = BiliVideo(id=f\"BV1GB4y1K7Ha\", width=854, height=480, fs=1)\n",
        "  print(\"Video available at https://www.bilibili.com/video/{0}\".format(video.id))\n",
        "  display(video)\n",
        "\n",
        "out1 = widgets.Output()\n",
        "with out1:\n",
        "  from IPython.display import YouTubeVideo\n",
        "  video = YouTubeVideo(id=f\"pJc2ENhYbqA\", width=854, height=480, fs=1, rel=0)\n",
        "  print(\"Video available at https://youtube.com/watch?v=\" + video.id)\n",
        "  display(video)\n",
        "\n",
        "out = widgets.Tab([out1, out2])\n",
        "out.set_title(0, 'Youtube')\n",
        "out.set_title(1, 'Bilibili')\n",
        "\n",
        "# add event to airtable\n",
        "atform.add_event('Video 2: Case Study - MLP Classification')\n",
        "\n",
        "display(out)"
      ],
      "execution_count": 38,
      "outputs": [
        {
          "output_type": "display_data",
          "data": {
            "application/vnd.jupyter.widget-view+json": {
              "model_id": "51ac715353c54eacacb5b9b18d6c05f5",
              "version_minor": 0,
              "version_major": 2
            },
            "text/plain": [
              "Tab(children=(Output(), Output()), _titles={'0': 'Youtube', '1': 'Bilibili'})"
            ]
          },
          "metadata": {
            "tags": []
          }
        }
      ]
    },
    {
      "cell_type": "markdown",
      "metadata": {
        "execution": {},
        "id": "SFhGM7EgMVgU"
      },
      "source": [
        "## Section 2.1: Data\n",
        "\n",
        "We will use the MNIST dataset of handwritten digits. We load the data via the Pytorch `datasets` module, as you learned in W1D1.\n",
        "\n",
        "**Note:** Although we can download the MNIST dataset directly from `datasets` using the optional argument `download=True`, we are going to download them from NMA directory on OSF to ensure network reliability.\n"
      ]
    },
    {
      "cell_type": "code",
      "metadata": {
        "cellView": "form",
        "execution": {},
        "id": "eh2OSnypMVgU",
        "colab": {
          "base_uri": "https://localhost:8080/"
        },
        "outputId": "53656ae7-79b0-452d-d7e4-13d90c0822c9"
      },
      "source": [
        "# @title Download MNIST dataset\n",
        "import tarfile, requests, os\n",
        "\n",
        "fname = 'MNIST.tar.gz'\n",
        "name = 'MNIST'\n",
        "url = 'https://osf.io/y2fj6/download'\n",
        "\n",
        "if not os.path.exists(name):\n",
        "  print('\\nDownloading MNIST dataset...')\n",
        "  r = requests.get(url, allow_redirects=True)\n",
        "  with open(fname, 'wb') as fh:\n",
        "    fh.write(r.content)\n",
        "  print('\\nDownloading MNIST completed.')\n",
        "\n",
        "if not os.path.exists(name):\n",
        "  with tarfile.open(fname) as tar:\n",
        "    tar.extractall()\n",
        "    os.remove(fname)\n",
        "else:\n",
        "  print('MNIST dataset has been dowloaded.')"
      ],
      "execution_count": 39,
      "outputs": [
        {
          "output_type": "stream",
          "text": [
            "MNIST dataset has been dowloaded.\n"
          ],
          "name": "stdout"
        }
      ]
    },
    {
      "cell_type": "code",
      "metadata": {
        "execution": {},
        "id": "RTa3a4YcMVgU"
      },
      "source": [
        "def load_mnist_data(change_tensors=False, download=False):\n",
        "  \"\"\"Load training and test examples for the MNIST digits dataset\n",
        "\n",
        "  Returns:\n",
        "    train_data (tensor): training input tensor of size (train_size x 784)\n",
        "    train_target (tensor): training 0-9 integer label tensor of size (train_size)\n",
        "    test_data (tensor): test input tensor of size (70k-train_size x 784)\n",
        "    test_target (tensor): training 0-9 integer label tensor of size (70k-train_size)\n",
        "\n",
        "  \"\"\"\n",
        "  # Load train and test sets\n",
        "  train_set = datasets.MNIST(root='.', train=True, download=download,\n",
        "                             transform=torchvision.transforms.ToTensor())\n",
        "  test_set = datasets.MNIST(root='.', train=False, download=download,\n",
        "                            transform=torchvision.transforms.ToTensor())\n",
        "\n",
        "  # Original data is in range [0, 255]. We normalize the data wrt its mean and std_dev.\n",
        "  ## Note that we only used *training set* information to compute mean and std\n",
        "  mean = train_set.data.float().mean()\n",
        "  std = train_set.data.float().std()\n",
        "\n",
        "  if change_tensors:\n",
        "    # Apply normalization directly to the tensors containing the dataset\n",
        "    train_set.data = (train_set.data.float() - mean) / std\n",
        "    test_set.data = (test_set.data.float() - mean) / std\n",
        "  else:\n",
        "    tform = torchvision.transforms.Compose([torchvision.transforms.ToTensor(),\n",
        "                                            torchvision.transforms.Normalize(mean=[mean / 255.], std=[std / 255.])\n",
        "                                            ])\n",
        "    train_set = datasets.MNIST(root='.', train=True, download=download,\n",
        "                               transform=tform)\n",
        "    test_set = datasets.MNIST(root='.', train=False, download=download,\n",
        "                              transform=tform)\n",
        "\n",
        "  return train_set, test_set\n",
        "\n",
        "train_set, test_set = load_mnist_data(change_tensors=True)"
      ],
      "execution_count": 40,
      "outputs": []
    },
    {
      "cell_type": "markdown",
      "metadata": {
        "execution": {},
        "id": "bqQVMEREMVgW"
      },
      "source": [
        "As we are just getting started, we will concentrate on a small subset of only 500 examples out of the 60.000 data points contained in the whole training set.\n",
        "\n"
      ]
    },
    {
      "cell_type": "code",
      "metadata": {
        "execution": {},
        "id": "u7sTjXNLMVgW"
      },
      "source": [
        "# Sample a random subset of 500 indices\n",
        "subset_index = np.random.choice(len(train_set.data), 500)\n",
        "\n",
        "# We will use these symbols to represent the training data and labels, to stay\n",
        "# as close to the mathematical expressions as possible.\n",
        "X, y = train_set.data[subset_index, :], train_set.targets[subset_index]"
      ],
      "execution_count": 41,
      "outputs": []
    },
    {
      "cell_type": "markdown",
      "metadata": {
        "execution": {},
        "id": "j_8V2jqeMVgW"
      },
      "source": [
        "Run the following cell to visualize the content of three examples in our training set. Note how the pre-processing we applied to the data changes the range of pixel values after normalization.\n"
      ]
    },
    {
      "cell_type": "code",
      "metadata": {
        "execution": {},
        "id": "V75hMVmiMVgW",
        "colab": {
          "base_uri": "https://localhost:8080/",
          "height": 374
        },
        "outputId": "27906415-dc13-4102-f8ad-e8204e3d2c82"
      },
      "source": [
        "# @title Run me!\n",
        "num_figures = 3\n",
        "fig, axs = plt.subplots(1, num_figures, figsize=(5 * num_figures, 5))\n",
        "\n",
        "for sample_id, ax in enumerate(axs):\n",
        "  # Plot the pixel values for each image\n",
        "  ax.matshow(X[sample_id, :], cmap='gray_r')\n",
        "  # 'Write' the pixel value in the corresponding location\n",
        "  for (i, j), z in np.ndenumerate(X[sample_id, :]):\n",
        "    text = '{:.1f}'.format(z)\n",
        "    ax.text(j, i, text, ha='center',\n",
        "            va='center', fontsize=6, c='steelblue')\n",
        "\n",
        "  ax.set_title('Label: ' + str(y[sample_id].item()))\n",
        "  ax.axis('off')\n",
        "\n",
        "plt.show()"
      ],
      "execution_count": 42,
      "outputs": [
        {
          "output_type": "display_data",
          "data": {
            "image/png": "[encoded data removed]",
            "text/plain": [
              "<Figure size 1080x360 with 3 Axes>"
            ]
          },
          "metadata": {
            "tags": [],
            "image/png": {
              "width": 1032,
              "height": 357
            },
            "needs_background": "light"
          }
        }
      ]
    },
    {
      "cell_type": "markdown",
      "metadata": {
        "execution": {},
        "id": "NrTIKx_aMVgW"
      },
      "source": [
        "## Section 2.2: Model\n",
        "\n",
        "As you will see next week, there are specific model architectures that are better suited to image-like data, such as Convolutional Neural Networks (CNNs). For simplicity, in this tutorial we will focus exclusively on Multi-Layer Perceptron (MLP) models as they allow us to highlight many important optimization challenges shared with more advanced neural network designs."
      ]
    },
    {
      "cell_type": "code",
      "metadata": {
        "execution": {},
        "id": "O_3pdcvJMVgW"
      },
      "source": [
        "class MLP(nn.Module):\n",
        "  \"\"\" This class implements MLPs in Pytorch of an arbitrary number of hidden\n",
        "  layers of potentially different sizes. Since we concentrate on classification\n",
        "  tasks in this tutorial, we have a log_softmax layer at prediction time.\n",
        "  \"\"\"\n",
        "\n",
        "  def __init__(self, in_dim=784, out_dim=10, hidden_dims=[], use_bias=True):\n",
        "    \"\"\"Constructs a MultiLayerPerceptron\n",
        "\n",
        "    Args:\n",
        "        in_dim (int): dimensionality of input data\n",
        "        out_dim (int): number of classes\n",
        "        hidden_dims (list): contains the dimensions of the hidden layers, an empty\n",
        "            list corresponds to a linear model (in_dim, out_dim)\n",
        "    \"\"\"\n",
        "\n",
        "    super(MLP, self).__init__()\n",
        "\n",
        "    self.in_dim = in_dim\n",
        "    self.out_dim = out_dim\n",
        "\n",
        "    # If we have no hidden layer, just initialize a linear model (e.g. in logistic regression)\n",
        "    if len(hidden_dims) == 0:\n",
        "      layers = [nn.Linear(in_dim, out_dim, bias=use_bias)]\n",
        "    else:\n",
        "      # 'Actual' MLP with dimensions in_dim - num_hidden_layers*[hidden_dim] - out_dim\n",
        "      layers = [nn.Linear(in_dim, hidden_dims[0], bias=use_bias), nn.ReLU()]\n",
        "\n",
        "      # Loop until before the last layer\n",
        "      for i, hidden_dim in enumerate(hidden_dims[:-1]):\n",
        "        layers += [nn.Linear(hidden_dim, hidden_dims[i + 1], bias=use_bias),\n",
        "                   nn.ReLU()]\n",
        "\n",
        "      # Add final layer to the number of classes\n",
        "      layers += [nn.Linear(hidden_dims[-1], out_dim, bias=use_bias)]\n",
        "\n",
        "    self.main = nn.Sequential(*layers)\n",
        "\n",
        "  def forward(self, x):\n",
        "    # Flatten the images into 'vectors'\n",
        "    transformed_x = x.view(-1, self.in_dim)\n",
        "    hidden_output = self.main(transformed_x)\n",
        "    output = F.log_softmax(hidden_output, dim=1)\n",
        "    return output"
      ],
      "execution_count": 43,
      "outputs": []
    },
    {
      "cell_type": "markdown",
      "metadata": {
        "execution": {},
        "id": "5t15hhviMVgW"
      },
      "source": [
        "Linear models constitute a very special kind of MLPs: they are equivalent to an MLP with *zero* hidden layers. This is simply an affine transformation, in other words a 'linear' map $W x$ with an 'offset' $b$; followed by a softmax function.\n",
        "\n",
        "$$f(x) = \\text{softmax}(W x + b)$$\n",
        "\n",
        "Here $x \\in \\mathbb{R}^{784}$, $W \\in \\mathbb{R}^{10 \\times 784}$ and $b \\in \\mathbb{R}^{10}$. Notice that the dimensions of the weight matrix are $10 \\times 784$ as the input tensors are flattened images, i.e., $28 \\times 28 = 784$-dimensional tensors and the output layer consists of $10$ nodes."
      ]
    },
    {
      "cell_type": "code",
      "metadata": {
        "execution": {},
        "id": "YOD6r0DaMVgW",
        "colab": {
          "base_uri": "https://localhost:8080/"
        },
        "outputId": "56ced3bb-dec8-49f8-b68b-6e2b6ae163b9"
      },
      "source": [
        "# Empty hidden_dims means we take a model with zero hidden layers.\n",
        "model = MLP(in_dim=784, out_dim=10, hidden_dims=[])\n",
        "\n",
        "# We print the model structure with 784 inputs and 10 outputs\n",
        "print(model)"
      ],
      "execution_count": 44,
      "outputs": [
        {
          "output_type": "stream",
          "text": [
            "MLP(\n",
            "  (main): Sequential(\n",
            "    (0): Linear(in_features=784, out_features=10, bias=True)\n",
            "  )\n",
            ")\n"
          ],
          "name": "stdout"
        }
      ]
    },
    {
      "cell_type": "markdown",
      "metadata": {
        "execution": {},
        "id": "wYU0Kx66MVgX"
      },
      "source": [
        "## Section 2.3: Loss\n",
        "\n",
        "While we care about the accuracy of the model, the 'discrete' nature of the 0-1 loss makes it challenging to optimize. In order to learn good parameters for this model, we will use the cross entropy loss (negative log-likelihood), which you saw in last lecture, as a surrogate objective to be minimized. \n",
        "\n",
        "This particular choice of model and optimization objective leads to a *convex* optimization problem with respect to the parameters $W$ and $b$. "
      ]
    },
    {
      "cell_type": "code",
      "metadata": {
        "execution": {},
        "id": "SG1ju8QgMVgX"
      },
      "source": [
        "loss_fn = F.nll_loss"
      ],
      "execution_count": 45,
      "outputs": []
    },
    {
      "cell_type": "markdown",
      "metadata": {
        "execution": {},
        "id": "3v106oyNMVgX"
      },
      "source": [
        "## Section 2.4: Interpretability"
      ]
    },
    {
      "cell_type": "markdown",
      "metadata": {
        "execution": {},
        "id": "-Tvc2MdvMVgX"
      },
      "source": [
        "In last lecture, you saw that inspecting the weights of a model can provide insights on what 'concepts' the model has learned. Here we show the weights of a partially trained model. The weights corresponding to each class 'learn' to _fire_ when an input of the class is detected.\n"
      ]
    },
    {
      "cell_type": "code",
      "metadata": {
        "execution": {},
        "id": "rQvgH9TvMVgX"
      },
      "source": [
        "#@markdown Run _this cell_ to train the model. If you are curious about how the training\n",
        "#@markdown takes place, double-click this cell to find out. At the end of this tutorial\n",
        "#@markdown you will have the opportunity to train a more complex model on your own.\n",
        "\n",
        "cell_verbose = False\n",
        "partial_trained_model = MLP(in_dim=784, out_dim=10, hidden_dims=[])\n",
        "\n",
        "if cell_verbose:\n",
        "  print('Init loss', loss_fn(partial_trained_model(X), y).item()) # This matches around np.log(10 = # of classes)\n",
        "\n",
        "optimizer = optim.Adam(partial_trained_model.parameters(), lr=7e-4)\n",
        "for _ in range(200):\n",
        "  loss = loss_fn(partial_trained_model(X), y)\n",
        "  optimizer.zero_grad()\n",
        "  loss.backward()\n",
        "  optimizer.step()\n",
        "\n",
        "if cell_verbose:\n",
        "  print('End loss', loss_fn(partial_trained_model(X), y).item()) # This should be less than 1e-2"
      ],
      "execution_count": 46,
      "outputs": []
    },
    {
      "cell_type": "code",
      "metadata": {
        "execution": {},
        "id": "R2RtwRABMVgX",
        "colab": {
          "base_uri": "https://localhost:8080/",
          "height": 141
        },
        "outputId": "a4e40ac7-a6eb-4f40-e15f-b749df6c1aeb"
      },
      "source": [
        "# Show class filters of a trained model\n",
        "W = partial_trained_model.main[0].weight.data.numpy()\n",
        "\n",
        "fig, axs = plt.subplots(1, 10, figsize=(15, 4))\n",
        "for class_id in range(10):\n",
        "  axs[class_id].imshow(W[class_id, :].reshape(28, 28), cmap='gray_r')\n",
        "  axs[class_id].axis('off')\n",
        "  axs[class_id].set_title('Class ' + str(class_id) )\n",
        "\n",
        "plt.show()"
      ],
      "execution_count": 47,
      "outputs": [
        {
          "output_type": "display_data",
          "data": {
            "image/png": "[encoded data removed]",
            "text/plain": [
              "<Figure size 1080x288 with 10 Axes>"
            ]
          },
          "metadata": {
            "tags": [],
            "image/png": {
              "width": 1062,
              "height": 124
            },
            "needs_background": "light"
          }
        }
      ]
    },
    {
      "cell_type": "markdown",
      "metadata": {
        "execution": {},
        "id": "lQTwqJqAMVgY"
      },
      "source": [
        "---\n",
        "# Section 3: High dimensional search\n",
        "\n",
        "*Time estimate: ~25 mins*"
      ]
    },
    {
      "cell_type": "markdown",
      "metadata": {
        "execution": {},
        "id": "uDF1qL-RMVgY"
      },
      "source": [
        "We now have a model with its corresponding trainable parameters as well as an objective to optimize. Where do we go to next? How do we find a 'good' configuration of parameters?\n",
        "\n",
        "One idea is to choose a random direction and move only if the objective is reduced. However, this is inefficient in high dimensions and you will see how gradient descent (with a suitable step-size) can guarantee consistent improvement in terms of the objective function."
      ]
    },
    {
      "cell_type": "code",
      "metadata": {
        "cellView": "form",
        "execution": {},
        "id": "5X5uS-1TMVgY",
        "colab": {
          "base_uri": "https://localhost:8080/",
          "height": 581,
          "referenced_widgets": [
            "7090f18d36c54545a67349aaad0b6fbf",
            "81bbccb082c3468b92d26ffbd5efda4a",
            "a77356bfbdb149e988df9bbb27a5df47",
            "3d3dc009ea124c3292a494d505f19791",
            "c0a0454246314a848308cd341d11896c",
            "e7293f9441f34c3b97f843df3a34b97f"
          ]
        },
        "outputId": "88e4ffb7-68d4-41d3-d8d8-0e48909487da"
      },
      "source": [
        "# @title Video 3: Optimization of an Objective Function\n",
        "from ipywidgets import widgets\n",
        "\n",
        "out2 = widgets.Output()\n",
        "with out2:\n",
        "  from IPython.display import IFrame\n",
        "  class BiliVideo(IFrame):\n",
        "    def __init__(self, id, page=1, width=400, height=300, **kwargs):\n",
        "      self.id=id\n",
        "      src = \"https://player.bilibili.com/player.html?bvid={0}&page={1}\".format(id, page)\n",
        "      super(BiliVideo, self).__init__(src, width, height, **kwargs)\n",
        "\n",
        "  video = BiliVideo(id=f\"BV1aL411H7Ce\", width=854, height=480, fs=1)\n",
        "  print(\"Video available at https://www.bilibili.com/video/{0}\".format(video.id))\n",
        "  display(video)\n",
        "\n",
        "out1 = widgets.Output()\n",
        "with out1:\n",
        "  from IPython.display import YouTubeVideo\n",
        "  video = YouTubeVideo(id=f\"aSJTRdjRvvw\", width=854, height=480, fs=1, rel=0)\n",
        "  print(\"Video available at https://youtube.com/watch?v=\" + video.id)\n",
        "  display(video)\n",
        "\n",
        "out = widgets.Tab([out1, out2])\n",
        "out.set_title(0, 'Youtube')\n",
        "out.set_title(1, 'Bilibili')\n",
        "\n",
        "# add event to airtable\n",
        "atform.add_event('Video 3: Optimization of an Objective Function')\n",
        "\n",
        "display(out)"
      ],
      "execution_count": 48,
      "outputs": [
        {
          "output_type": "display_data",
          "data": {
            "application/vnd.jupyter.widget-view+json": {
              "model_id": "7090f18d36c54545a67349aaad0b6fbf",
              "version_minor": 0,
              "version_major": 2
            },
            "text/plain": [
              "Tab(children=(Output(), Output()), _titles={'0': 'Youtube', '1': 'Bilibili'})"
            ]
          },
          "metadata": {
            "tags": []
          }
        }
      ]
    },
    {
      "cell_type": "markdown",
      "metadata": {
        "execution": {},
        "id": "a8AXbu3-MVgY"
      },
      "source": [
        "## Coding Exercise 3: Implement gradient descent\n",
        "\n",
        "In this exercise you will use PyTorch automatic differentiation capabilities to compute the gradient of the loss with respect to the parameters of the model. You will then use these gradients to implement the update performed by the gradient descent method.  "
      ]
    },
    {
      "cell_type": "code",
      "metadata": {
        "execution": {},
        "id": "KyffpnRhMVgY"
      },
      "source": [
        "def zero_grad(params):\n",
        "  \"\"\"Clear up gradients as Pytorch automatically accumulates gradients from\n",
        "  successive backward calls\n",
        "  \"\"\"\n",
        "  for par in params:\n",
        "    if not(par.grad is None):\n",
        "      par.grad.data.zero_()\n",
        "\n",
        "\n",
        "def random_update(model, noise_scale=0.1, normalized=False):\n",
        "  \"\"\" Performs a random update on the parameters of the model\n",
        "  \"\"\"\n",
        "  for par in model.parameters():\n",
        "    noise = torch.randn_like(par)\n",
        "    if normalized:\n",
        "      noise /= torch.norm(noise)\n",
        "    par.data +=  noise_scale * noise"
      ],
      "execution_count": 49,
      "outputs": []
    },
    {
      "cell_type": "code",
      "metadata": {
        "execution": {},
        "id": "gQFpP4LIMVgZ",
        "colab": {
          "base_uri": "https://localhost:8080/"
        },
        "outputId": "3ecb1fa6-ca7a-4e71-9bf2-3a04e4579db6"
      },
      "source": [
        "def gradient_update(loss, params, lr=1e-3):\n",
        "  \"\"\"Perform a gradient descent update on a given loss over a collection of parameters\n",
        "\n",
        "  Args:\n",
        "    loss (tensor): A scalar tensor containing the loss whose gradient will be computed\n",
        "    params (iterable): Collection of parameters with respect to which we compute gradients\n",
        "    lr (float): Scalar specifying the learning rate or step-size for the update\n",
        "  \"\"\"\n",
        "  # Clear up gradients as Pytorch automatically accumulates gradients from\n",
        "  # successive backward calls\n",
        "  zero_grad(params)\n",
        "\n",
        "  # Compute gradients on given objective\n",
        "  loss.backward()\n",
        "\n",
        "  with torch.no_grad():\n",
        "    for par in params:\n",
        "      #################################################\n",
        "      ## TODO for students: update the value of the parameter ##\n",
        "      # raise NotImplementedError(\"Student exercise: implement gradient update\")\n",
        "      #################################################\n",
        "      # Here we work with the 'data' attribute of the parameter rather than the\n",
        "      # parameter itself.\n",
        "      par.data -= lr * par.grad\n",
        "\n",
        "\n",
        "# add event to airtable\n",
        "atform.add_event('Coding Exercise 3: Implement gradient descent')\n",
        "\n",
        "\n",
        "set_seed(seed=SEED)\n",
        "model1 = MLP(in_dim=784, out_dim=10, hidden_dims=[])\n",
        "print('\\n The model1 parameters before the update are: \\n')\n",
        "print_params(model1)\n",
        "loss = loss_fn(model1(X), y)\n",
        "\n",
        "## Uncomment below to test your function\n",
        "gradient_update(loss, list(model1.parameters()), lr=1e-1)\n",
        "print('\\n The model1 parameters after the update are: \\n')\n",
        "print_params(model1)"
      ],
      "execution_count": 50,
      "outputs": [
        {
          "output_type": "stream",
          "text": [
            "Random seed 2021 has been set.\n",
            "\n",
            " The model1 parameters before the update are: \n",
            "\n",
            "main.0.weight tensor([[-0.0264,  0.0010,  0.0173,  ...,  0.0297,  0.0278, -0.0221],\n",
            "        [-0.0040, -0.0295, -0.0086,  ..., -0.0070,  0.0254, -0.0233],\n",
            "        [ 0.0240, -0.0231,  0.0342,  ...,  0.0124,  0.0270, -0.0180],\n",
            "        ...,\n",
            "        [-0.0005,  0.0157,  0.0111,  ...,  0.0144, -0.0301, -0.0144],\n",
            "        [ 0.0181,  0.0303,  0.0255,  ..., -0.0110, -0.0175,  0.0205],\n",
            "        [ 0.0208, -0.0353, -0.0183,  ..., -0.0271,  0.0099,  0.0003]])\n",
            "main.0.bias tensor([-0.0290, -0.0033,  0.0100, -0.0320,  0.0022,  0.0221,  0.0307,  0.0243,\n",
            "         0.0159, -0.0064])\n",
            "\n",
            " The model1 parameters after the update are: \n",
            "\n",
            "main.0.weight tensor([[-0.0263,  0.0010,  0.0174,  ...,  0.0298,  0.0278, -0.0220],\n",
            "        [-0.0047, -0.0302, -0.0093,  ..., -0.0077,  0.0248, -0.0240],\n",
            "        [ 0.0234, -0.0237,  0.0335,  ...,  0.0117,  0.0263, -0.0187],\n",
            "        ...,\n",
            "        [-0.0006,  0.0156,  0.0110,  ...,  0.0143, -0.0302, -0.0145],\n",
            "        [ 0.0164,  0.0286,  0.0238,  ..., -0.0127, -0.0191,  0.0188],\n",
            "        [ 0.0206, -0.0354, -0.0184,  ..., -0.0272,  0.0098,  0.0002]])\n",
            "main.0.bias tensor([-0.0292, -0.0018,  0.0115, -0.0370,  0.0054,  0.0155,  0.0317,  0.0246,\n",
            "         0.0198, -0.0061])\n"
          ],
          "name": "stdout"
        }
      ]
    },
    {
      "cell_type": "markdown",
      "metadata": {
        "execution": {},
        "id": "OKJf9n5FMVga"
      },
      "source": [
        "[*Click for solution*](https://github.com/NeuromatchAcademy/course-content-dl/tree/main//tutorials/W1D4_Optimization/solutions/W1D4_Tutorial1_Solution_1c2b3d1a.py)\n",
        "\n"
      ]
    },
    {
      "cell_type": "markdown",
      "metadata": {
        "execution": {},
        "id": "pamUq8FkMVga"
      },
      "source": [
        "```\n",
        " The model1 parameters after the update are: \n",
        "\n",
        "main.0.weight tensor([[-0.0263,  0.0010,  0.0174,  ...,  0.0298,  0.0278, -0.0220],\n",
        "        [-0.0047, -0.0302, -0.0093,  ..., -0.0077,  0.0248, -0.0240],\n",
        "        [ 0.0234, -0.0237,  0.0335,  ...,  0.0117,  0.0263, -0.0187],\n",
        "        ...,\n",
        "        [-0.0006,  0.0156,  0.0110,  ...,  0.0143, -0.0302, -0.0145],\n",
        "        [ 0.0164,  0.0286,  0.0238,  ..., -0.0127, -0.0191,  0.0188],\n",
        "        [ 0.0206, -0.0354, -0.0184,  ..., -0.0272,  0.0098,  0.0002]])\n",
        "main.0.bias tensor([-0.0292, -0.0018,  0.0115, -0.0370,  0.0054,  0.0155,  0.0317,  0.0246,\n",
        "         0.0198, -0.0061])\n",
        "```"
      ]
    },
    {
      "cell_type": "markdown",
      "metadata": {
        "execution": {},
        "id": "szGyuax8MVga"
      },
      "source": [
        "## Comparing updates\n",
        "\n",
        "These plots compare the effectiveness of updating random directions for the problem of optimizing the parameters of a high-dimensional linear model. We contrast the behavior at initialization and during an intermediate stage of training by showing the histograms of change in loss over 100 different random directions vs the changed in loss induced by the gradient descent update\n",
        "\n",
        "**Remember:** since we are trying to minimize, here negative is better!\n"
      ]
    },
    {
      "cell_type": "code",
      "metadata": {
        "execution": {},
        "id": "Q2OQGtxjMVga",
        "colab": {
          "base_uri": "https://localhost:8080/",
          "height": 311
        },
        "outputId": "d0c23161-1518-43b0-9f0c-c2a9cbdc4752"
      },
      "source": [
        "# @markdown _Run this cell_ to visualize the results\n",
        "fig, axs = plt.subplots(1, 2, figsize=(10, 4))\n",
        "\n",
        "for id, (model_name, my_model) in enumerate([('Initialization', model),\n",
        "                                              ('Partially trained', partial_trained_model)]):\n",
        "  # Compue the loss we will be comparing to\n",
        "  base_loss = loss_fn(my_model(X), y)\n",
        "\n",
        "  # Compute the improvement via gradient descent\n",
        "  dummy_model = copy.deepcopy(my_model)\n",
        "  loss1 = loss_fn(dummy_model(X), y)\n",
        "  gradient_update(loss1, list(dummy_model.parameters()), lr=1e-2)\n",
        "  gd_delta = loss_fn(dummy_model(X), y) - base_loss\n",
        "\n",
        "  deltas = []\n",
        "  for trial_id in range(100):\n",
        "    # Compute the improvement obtained with a random direction\n",
        "    dummy_model = copy.deepcopy(my_model)\n",
        "    random_update(dummy_model, noise_scale=1e-2)\n",
        "    deltas.append((loss_fn(dummy_model(X), y) - base_loss).item())\n",
        "\n",
        "  # Plot histogram for random direction and vertical line for gradient descent\n",
        "  axs[id].hist(deltas, label='Random Directions', bins=20)\n",
        "  axs[id].set_title(model_name)\n",
        "  axs[id].set_xlabel('Change in loss')\n",
        "  axs[id].set_ylabel('% samples')\n",
        "  axs[id].axvline(0, c='green', alpha=0.5)\n",
        "  axs[id].axvline(gd_delta.item(), linestyle='--', c='red', alpha=1,\n",
        "                  label='Gradient Descent')\n",
        "\n",
        "\n",
        "handles, labels = axs[id].get_legend_handles_labels()\n",
        "fig.legend(handles, labels, loc='upper center',\n",
        "           bbox_to_anchor=(0.5, 1.05),\n",
        "           fancybox=False, shadow=False, ncol=2)\n",
        "\n",
        "plt.show()"
      ],
      "execution_count": 51,
      "outputs": [
        {
          "output_type": "display_data",
          "data": {
            "image/png": "[encoded data removed]",
            "text/plain": [
              "<Figure size 720x288 with 2 Axes>"
            ]
          },
          "metadata": {
            "tags": [],
            "image/png": {
              "width": 701,
              "height": 294
            },
            "needs_background": "light"
          }
        }
      ]
    },
    {
      "cell_type": "markdown",
      "metadata": {
        "execution": {},
        "id": "LlsVTYQaMVga"
      },
      "source": [
        "## Think! 3: Gradient descent vs. random search\n",
        "\n",
        "Compare the behavior of gradient descent and random search based on the histograms above. Is any of the two methods more reliable? How can you explain the changes between behavior of the methods at initialization vs during training?"
      ]
    },
    {
      "cell_type": "code",
      "metadata": {
        "cellView": "form",
        "execution": {},
        "id": "zn0_0rNKMVgb",
        "colab": {
          "base_uri": "https://localhost:8080/",
          "height": 112,
          "referenced_widgets": [
            "7046d6371d47426eb2e9db34b4cd6e83",
            "7d7a00bcbe174c1e9873cb1e35fcdfb4",
            "7de3985f89494ba69b7a652337e7e78b",
            "9aeb158ce165416b9a3fc088834d3f2b",
            "b96e930afef94339bb54786ca7329b1f",
            "dcc09accdaf44bfb9b25bb0813424c31"
          ]
        },
        "outputId": "425a3a5f-ab11-452e-b476-6805f0dc2a9d"
      },
      "source": [
        "# @title Student Response\n",
        "from ipywidgets import widgets\n",
        "\n",
        "\n",
        "text=widgets.Textarea(\n",
        "   value='Type your answer here and click on `Submit!`',\n",
        "   placeholder='Type something',\n",
        "   description='',\n",
        "   disabled=False\n",
        ")\n",
        "\n",
        "button = widgets.Button(description=\"Submit!\")\n",
        "\n",
        "display(text,button)\n",
        "\n",
        "def on_button_clicked(b):\n",
        "   atform.add_answer('q1' , text.value)\n",
        "   print(\"Submission successful!\")\n",
        "\n",
        "\n",
        "button.on_click(on_button_clicked)"
      ],
      "execution_count": 52,
      "outputs": [
        {
          "output_type": "display_data",
          "data": {
            "application/vnd.jupyter.widget-view+json": {
              "model_id": "7046d6371d47426eb2e9db34b4cd6e83",
              "version_minor": 0,
              "version_major": 2
            },
            "text/plain": [
              "Textarea(value='Type your answer here and click on `Submit!`', placeholder='Type something')"
            ]
          },
          "metadata": {
            "tags": []
          }
        },
        {
          "output_type": "display_data",
          "data": {
            "application/vnd.jupyter.widget-view+json": {
              "model_id": "9aeb158ce165416b9a3fc088834d3f2b",
              "version_minor": 0,
              "version_major": 2
            },
            "text/plain": [
              "Button(description='Submit!', style=ButtonStyle())"
            ]
          },
          "metadata": {
            "tags": []
          }
        }
      ]
    },
    {
      "cell_type": "markdown",
      "metadata": {
        "execution": {},
        "id": "w3BSumRkMVgb"
      },
      "source": [
        "[*Click for solution*](https://github.com/NeuromatchAcademy/course-content-dl/tree/main//tutorials/W1D4_Optimization/solutions/W1D4_Tutorial1_Solution_2de57667.py)\n",
        "\n"
      ]
    },
    {
      "cell_type": "markdown",
      "metadata": {
        "execution": {},
        "id": "frdkfducMVgb"
      },
      "source": [
        "---\n",
        "# Section 4: Poor conditioning\n",
        "\n",
        "*Time estimate: ~30 mins*"
      ]
    },
    {
      "cell_type": "markdown",
      "metadata": {
        "execution": {},
        "id": "L2tSd4ouMVgb"
      },
      "source": [
        "Already in this 'simple' logistic regression problem, the issue of bad conditioning is haunting us. Not all parameters are created equal and the sensitivity of the network to changes on the parameters will have a big impact in the dynamics of the optimization.\n"
      ]
    },
    {
      "cell_type": "code",
      "metadata": {
        "cellView": "form",
        "execution": {},
        "id": "T5TdgHZjMVgb",
        "colab": {
          "base_uri": "https://localhost:8080/",
          "height": 581,
          "referenced_widgets": [
            "5e9fada5960a4860bf019c4e06ab74f9",
            "3b2a7179cba64b0183855076d9d8fe35",
            "010f021d6f114db797f051a34963c7a1",
            "ff8e1068e1f94d06b228120d5acef195",
            "51ebbd4eeeb4479494ba165b1e9a4397",
            "5d536e0452c846c4a2b7b561244051aa"
          ]
        },
        "outputId": "3c9e2662-b7d2-4646-da47-bb1757931e86"
      },
      "source": [
        "# @title Video 4: Momentum\n",
        "from ipywidgets import widgets\n",
        "\n",
        "out2 = widgets.Output()\n",
        "with out2:\n",
        "  from IPython.display import IFrame\n",
        "  class BiliVideo(IFrame):\n",
        "    def __init__(self, id, page=1, width=400, height=300, **kwargs):\n",
        "      self.id=id\n",
        "      src = \"https://player.bilibili.com/player.html?bvid={0}&page={1}\".format(id, page)\n",
        "      super(BiliVideo, self).__init__(src, width, height, **kwargs)\n",
        "\n",
        "  video = BiliVideo(id=f\"BV1NL411H71t\", width=854, height=480, fs=1)\n",
        "  print(\"Video available at https://www.bilibili.com/video/{0}\".format(video.id))\n",
        "  display(video)\n",
        "\n",
        "out1 = widgets.Output()\n",
        "with out1:\n",
        "  from IPython.display import YouTubeVideo\n",
        "  video = YouTubeVideo(id=f\"3ES5O58Y_2M\", width=854, height=480, fs=1, rel=0)\n",
        "  print(\"Video available at https://youtube.com/watch?v=\" + video.id)\n",
        "  display(video)\n",
        "\n",
        "out = widgets.Tab([out1, out2])\n",
        "out.set_title(0, 'Youtube')\n",
        "out.set_title(1, 'Bilibili')\n",
        "\n",
        "# add event to airtable\n",
        "atform.add_event('Video 4: Momentum')\n",
        "\n",
        "display(out)"
      ],
      "execution_count": 53,
      "outputs": [
        {
          "output_type": "display_data",
          "data": {
            "application/vnd.jupyter.widget-view+json": {
              "model_id": "5e9fada5960a4860bf019c4e06ab74f9",
              "version_minor": 0,
              "version_major": 2
            },
            "text/plain": [
              "Tab(children=(Output(), Output()), _titles={'0': 'Youtube', '1': 'Bilibili'})"
            ]
          },
          "metadata": {
            "tags": []
          }
        }
      ]
    },
    {
      "cell_type": "markdown",
      "metadata": {
        "execution": {},
        "id": "BD5ANB_NMVgb"
      },
      "source": [
        "We illustrate this issue in a 2-dimensional setting. We freeze all but two parameters of the network: one of them is an element of the weight matrix (filter) for class 0, while the other is the bias for class 7. This results in an optimization with two decision variables.\n",
        "\n",
        "How much difference is there in the behavior of these two parameters under gradient descent? What is the effect of momentum in bridging that gap?\n"
      ]
    },
    {
      "cell_type": "code",
      "metadata": {
        "execution": {},
        "id": "f9jM0OfKMVgc"
      },
      "source": [
        "# @markdown _Run this cell_ to setup some helper functions.\n",
        "\n",
        "def loss_2d(model, u, v, mask_idx=(0, 378), bias_id=7):\n",
        "  \"\"\"Defines a 2-dim function by freezing all but two parameters of a linear\n",
        "  model.\n",
        "\n",
        "  Args:\n",
        "    model (torch module): a pytorch 0-hidden layer (linear) model\n",
        "    u (scalar): first free parameter\n",
        "    v (scalar): second free parameter\n",
        "    mask_idx (tuple): selects parameter in weight matrix replaced by u\n",
        "    bias_idx (int): selects parameter in bias vector replaced by v\n",
        "\n",
        "  Returns:\n",
        "    scalar: loss of the 'new' model over inputs X, y (defined externally)\n",
        "  \"\"\"\n",
        "\n",
        "  # We zero out the element of the weight tensor that will be\n",
        "  # replaced by u\n",
        "  mask = torch.ones_like(model.main[0].weight)\n",
        "  mask[mask_idx[0], mask_idx[1]] = 0.\n",
        "  masked_weights = model.main[0].weight * mask\n",
        "\n",
        "  # u is replacing an element of the weight matrix\n",
        "  masked_weights[mask_idx[0], mask_idx[1]] = u\n",
        "\n",
        "  res = X.reshape(-1, 784) @ masked_weights.T + model.main[0].bias\n",
        "\n",
        "  # v is replacing a bias for class 7\n",
        "  res[:, 7] += v - model.main[0].bias[7]\n",
        "  res =  F.log_softmax(res, dim=1)\n",
        "\n",
        "  return loss_fn(res, y)\n",
        "\n",
        "\n",
        "def plot_surface(U, V, Z, fig):\n",
        "  \"\"\" Plot a 3D loss surface given meshed inputs U, V and values Z\n",
        "  \"\"\"\n",
        "  ax = fig.add_subplot(1, 2, 2, projection='3d')\n",
        "  ax.view_init(45, -130)\n",
        "\n",
        "  surf = ax.plot_surface(U, V, Z, cmap=plt.cm.coolwarm,\n",
        "                      linewidth=0, antialiased=True, alpha=0.5)\n",
        "\n",
        "  # Select certain level contours to plot\n",
        "  # levels = Z.min() * np.array([1.005, 1.1, 1.3, 1.5, 2.])\n",
        "  # plt.contour(U, V, Z)# levels=levels, alpha=0.5)\n",
        "\n",
        "  ax.set_xlabel('Weight')\n",
        "  ax.set_ylabel('Bias')\n",
        "  ax.set_zlabel('Loss', rotation=90)\n",
        "\n",
        "  return ax\n",
        "\n",
        "\n",
        "def plot_param_distance(best_u, best_v, trajs, fig, styles, labels,\n",
        "                        use_log=False, y_min_v=-12.0, y_max_v=1.5):\n",
        "  \"\"\" Plot the distance to each of the two parameters for a collection of 'trajectories'\n",
        "  \"\"\"\n",
        "  ax = fig.add_subplot(1, 1, 1)\n",
        "\n",
        "  for traj, style, label in zip(trajs, styles, labels):\n",
        "    d0 = np.array([np.abs(_[0] - best_u) for _ in traj])\n",
        "    d1 = np.array([np.abs(_[1] - best_v) for _ in traj])\n",
        "    if use_log:\n",
        "      d0 = np.log(1e-16 + d0)\n",
        "      d1 = np.log(1e-16 + d1)\n",
        "    ax.plot(range(len(traj)), d0, style, label='weight - ' + label)\n",
        "    ax.plot(range(len(traj)), d1, style, label='bias - ' + label)\n",
        "  ax.set_xlabel('Iteration')\n",
        "  if use_log:\n",
        "    ax.set_ylabel('Log distance to optimum (per dimension)')\n",
        "    ax.set_ylim(y_min_v, y_max_v)\n",
        "  else:\n",
        "    ax.set_ylabel('Abs distance to optimum (per dimension)')\n",
        "  ax.legend(loc='right', bbox_to_anchor=(1.5, 0.5),\n",
        "            fancybox=False, shadow=False, ncol=1)\n",
        "\n",
        "  return ax\n",
        "\n",
        "\n",
        "def run_optimizer(inits, eval_fn, update_fn, max_steps=500,\n",
        "                  optim_kwargs={'lr':1e-2}, log_traj=True):\n",
        "  \"\"\"Runs an optimizer on a given objective and logs parameter trajectory\n",
        "\n",
        "  Args:\n",
        "      inits list(scalar): initialization of parameters\n",
        "      eval_fn (callable): function computing the objective to be minimized\n",
        "      update_fn (callable): function executing parameter update\n",
        "      max_steps (int): number of iterations to run\n",
        "      optim_kwargs (dict): customize optimizer hyperparameters\n",
        "\n",
        "  Returns:\n",
        "      list[list]: trajectory information [*params, loss] for each optimization step\n",
        "  \"\"\"\n",
        "\n",
        "  # Initialize parameters and optimizer\n",
        "  params = [nn.Parameter(torch.tensor(_)) for _ in inits]\n",
        "  # Methods like momentum and rmsprop keep and auxiliary vector of parameters\n",
        "  aux_tensors = [torch.zeros_like(_) for _ in params]\n",
        "  if log_traj:\n",
        "    traj = np.zeros((max_steps, len(params)+1))\n",
        "  for _ in range(max_steps):\n",
        "    # Evaluate loss\n",
        "    loss = eval_fn(*params)\n",
        "    # Store 'trajectory' information\n",
        "    if log_traj:\n",
        "      traj[_, :] = [_.item() for _ in params] + [loss.item()]\n",
        "    # Perform update\n",
        "    if update_fn == gradient_update:\n",
        "      gradient_update(loss, params, **optim_kwargs)\n",
        "    else:\n",
        "      update_fn(loss, params, aux_tensors, **optim_kwargs)\n",
        "  if log_traj:\n",
        "    return traj\n",
        "\n",
        "\n",
        "L = 4.\n",
        "xs = np.linspace(-L, L, 30)\n",
        "ys = np.linspace(-L, L, 30)\n",
        "U, V = np.meshgrid(xs, ys)"
      ],
      "execution_count": 54,
      "outputs": []
    },
    {
      "cell_type": "markdown",
      "metadata": {
        "execution": {},
        "id": "t-LJqsrPMVgc"
      },
      "source": [
        "## Coding Exercise 4: Implement momentum\n",
        "\n",
        "In this exercise you will implement the momentum update given by:\n",
        "\n",
        "\\begin{equation}\n",
        "w_{t+1} = w_t - \\eta \\nabla J(w_t) + \\beta (w_t - w_{t-1})\n",
        "\\end{equation}\n",
        "\n",
        "It is convenient to re-express this update rule in terms of a recursion. For that, we define 'velocity' as the quantity:\n",
        "\\begin{equation}\n",
        "v_{t-1} := w_{t} - w_{t-1}\n",
        "\\end{equation}\n",
        "\n",
        "which leads to the two-step update rule:\n",
        "\n",
        "\\begin{equation}\n",
        "v_t = - \\eta \\nabla J(w_t) + \\beta (\\underbrace{w_t - w_{t-1}}_{v_{t-1}})\n",
        "\\end{equation}\n",
        "\n",
        "\\begin{equation}\n",
        "w_{t+1} \\leftarrow w_t + v_{t}\n",
        "\\end{equation}\n",
        "\n",
        "Pay attention to the positive sign of the update in the last equation, given the definition of $v_t$, above. "
      ]
    },
    {
      "cell_type": "code",
      "metadata": {
        "execution": {},
        "id": "-aLQtw56MVgc",
        "colab": {
          "base_uri": "https://localhost:8080/"
        },
        "outputId": "1a0f8e67-20ca-44e0-8c97-f9d56cbe85f2"
      },
      "source": [
        "def momentum_update(loss, params, grad_vel, lr=1e-3, beta=0.8):\n",
        "  \"\"\"Perform a momentum update over a collection of parameters given a loss and 'velocities'\n",
        "\n",
        "  Args:\n",
        "    loss (tensor): A scalar tensor containing the loss whose gradient will be computed\n",
        "    params (iterable): Collection of parameters with respect to which we compute gradients\n",
        "    grad_vel (iterable): Collection containing the 'velocity' v_t for each parameter\n",
        "    lr (float): Scalar specifying the learning rate or step-size for the update\n",
        "    beta (float): Scalar 'momentum' parameter\n",
        "  \"\"\"\n",
        "  # Clear up gradients as Pytorch automatically accumulates gradients from\n",
        "  # successive backward calls\n",
        "  zero_grad(params)\n",
        "  # Compute gradients on given objective\n",
        "  loss.backward()\n",
        "\n",
        "  with torch.no_grad():\n",
        "    for (par, vel) in zip(params, grad_vel):\n",
        "      #################################################\n",
        "      ## TODO for students: update the value of the parameter ##\n",
        "      # raise NotImplementedError(\"Student exercise: implement momentum update\")\n",
        "      #################################################\n",
        "      # Update 'velocity'\n",
        "      vel.data = -lr * par.grad.data + beta * vel.data\n",
        "      # Update parameters\n",
        "      par.data += vel.data\n",
        "\n",
        "\n",
        "# add event to airtable\n",
        "atform.add_event('Coding Exercise 4: Implement momentum')\n",
        "\n",
        "\n",
        "set_seed(seed=SEED)\n",
        "model2 = MLP(in_dim=784, out_dim=10, hidden_dims=[])\n",
        "print('\\n The model2 parameters before the update are: \\n')\n",
        "print_params(model2)\n",
        "loss = loss_fn(model2(X), y)\n",
        "initial_vel = [torch.randn_like(p) for p in model2.parameters()]\n",
        "\n",
        "## Uncomment below to test your function\n",
        "momentum_update(loss, list(model2.parameters()), grad_vel=initial_vel, lr=1e-1, beta=0.9)\n",
        "print('\\n The model2 parameters after the update are: \\n')\n",
        "print_params(model2)"
      ],
      "execution_count": 55,
      "outputs": [
        {
          "output_type": "stream",
          "text": [
            "Random seed 2021 has been set.\n",
            "\n",
            " The model2 parameters before the update are: \n",
            "\n",
            "main.0.weight tensor([[-0.0264,  0.0010,  0.0173,  ...,  0.0297,  0.0278, -0.0221],\n",
            "        [-0.0040, -0.0295, -0.0086,  ..., -0.0070,  0.0254, -0.0233],\n",
            "        [ 0.0240, -0.0231,  0.0342,  ...,  0.0124,  0.0270, -0.0180],\n",
            "        ...,\n",
            "        [-0.0005,  0.0157,  0.0111,  ...,  0.0144, -0.0301, -0.0144],\n",
            "        [ 0.0181,  0.0303,  0.0255,  ..., -0.0110, -0.0175,  0.0205],\n",
            "        [ 0.0208, -0.0353, -0.0183,  ..., -0.0271,  0.0099,  0.0003]])\n",
            "main.0.bias tensor([-0.0290, -0.0033,  0.0100, -0.0320,  0.0022,  0.0221,  0.0307,  0.0243,\n",
            "         0.0159, -0.0064])\n",
            "\n",
            " The model2 parameters after the update are: \n",
            "\n",
            "main.0.weight tensor([[ 1.5898,  0.0116, -2.0239,  ..., -1.0871,  0.4030, -0.9577],\n",
            "        [ 0.4653,  0.6022, -0.7363,  ...,  0.5485, -0.2747, -0.6539],\n",
            "        [-1.4117, -1.1045,  0.6492,  ..., -1.0201,  0.6503,  0.1310],\n",
            "        ...,\n",
            "        [-0.5098,  0.5075, -0.0718,  ...,  1.1192,  0.2900, -0.9657],\n",
            "        [-0.4405, -0.1174,  0.7542,  ...,  0.0792, -0.1857,  0.3537],\n",
            "        [-1.0824,  1.0080, -0.4254,  ..., -0.3760, -1.7491,  0.6025]])\n",
            "main.0.bias tensor([ 0.4147, -1.0440,  0.8720, -1.6201, -0.9632,  0.9430, -0.5180,  1.3417,\n",
            "         0.6574,  0.3677])\n"
          ],
          "name": "stdout"
        }
      ]
    },
    {
      "cell_type": "markdown",
      "metadata": {
        "execution": {},
        "id": "aL_i_1mHMVgd"
      },
      "source": [
        "[*Click for solution*](https://github.com/NeuromatchAcademy/course-content-dl/tree/main//tutorials/W1D4_Optimization/solutions/W1D4_Tutorial1_Solution_ba72f88a.py)\n",
        "\n"
      ]
    },
    {
      "cell_type": "markdown",
      "metadata": {
        "execution": {},
        "id": "d4gwdN0DMVgd"
      },
      "source": [
        "```\n",
        " The model2 parameters after the update are: \n",
        "\n",
        "main.0.weight tensor([[ 1.5898,  0.0116, -2.0239,  ..., -1.0871,  0.4030, -0.9577],\n",
        "        [ 0.4653,  0.6022, -0.7363,  ...,  0.5485, -0.2747, -0.6539],\n",
        "        [-1.4117, -1.1045,  0.6492,  ..., -1.0201,  0.6503,  0.1310],\n",
        "        ...,\n",
        "        [-0.5098,  0.5075, -0.0718,  ...,  1.1192,  0.2900, -0.9657],\n",
        "        [-0.4405, -0.1174,  0.7542,  ...,  0.0792, -0.1857,  0.3537],\n",
        "        [-1.0824,  1.0080, -0.4254,  ..., -0.3760, -1.7491,  0.6025]])\n",
        "main.0.bias tensor([ 0.4147, -1.0440,  0.8720, -1.6201, -0.9632,  0.9430, -0.5180,  1.3417,\n",
        "         0.6574,  0.3677])\n",
        "```"
      ]
    },
    {
      "cell_type": "markdown",
      "metadata": {
        "execution": {},
        "id": "3TfawC2FMVgd"
      },
      "source": [
        "## Interactive Demo 4: Momentum vs. GD\n",
        "\n",
        "The plots below show the distance to the optimum for both variables across the two methods, as well as the parameter trajectory over the loss surface."
      ]
    },
    {
      "cell_type": "code",
      "metadata": {
        "cellView": "form",
        "execution": {},
        "id": "b6soGuHPMVgd",
        "colab": {
          "base_uri": "https://localhost:8080/",
          "height": 214,
          "referenced_widgets": [
            "74f2d3597b3c4e7eb7d4cf937ac8d32a",
            "dbe976d0aea64210834d1083d96b7cf9",
            "7c1bc2d1fc724fb7807e328db6841d01",
            "255437892b5f47ddb1962ce6f7976b18",
            "78d03a506ad043b8b4eae7f75c0c34f0",
            "ef98d7faeacf4068982c03852face537",
            "18ab34ce67874d67a7f78db2f4c91e09",
            "f467fde001cf4451a2cafa51962d5399",
            "5d739f7ff5b9476a92318ce4cacdec7d",
            "7af4a6e452974a1f8ec5c8f54734c8fb",
            "85c10bd41efc48f69656a755c5f196a3",
            "b703913c2b5a405e947ad67c088ef8ff",
            "0b2767c83bb14b9a9c1742f19483c44e",
            "84982cd8054f4b19ad560e7c7684b5e4",
            "19dbc64e7f464391a0edfcee253f1b10",
            "32cfaec559914ba0aaadec661e956332",
            "ae08dc794e744176acb06b3bdeffe3bc",
            "d0142d8b48ee43fabcfd8ed361ce7b56",
            "0ae11d70f16744789fb2e05369841605",
            "aff7b1585c29495bada3130682319184",
            "508dab6fe1a14bdd835f2b9a4a2c0364",
            "d6145995b6364f319d867dd16c558764",
            "4945fb6943124d8ea81f9a21fee10c3e",
            "c456a7a9fa384ae69c069b7aebd645cc"
          ]
        },
        "outputId": "b530558f-01ac-4083-c659-8db425c5be81"
      },
      "source": [
        "# @markdown Run this cell to enable the widget!\n",
        "from matplotlib.lines import Line2D\n",
        "\n",
        "# Find the optimum of this 2D problem using Newton's method\n",
        "def run_newton(func, init_list=[0., 0.], max_iter=200):\n",
        "\n",
        "  par_tensor = torch.tensor(init_list, requires_grad=True)\n",
        "  t_g = lambda par_tensor: func(par_tensor[0], par_tensor[1])\n",
        "\n",
        "  for _ in tqdm(range(max_iter)):\n",
        "    eval_loss = t_g(par_tensor)\n",
        "    eval_grad = torch.autograd.grad(eval_loss, [par_tensor])[0]\n",
        "    eval_hess = torch.autograd.functional.hessian(t_g, par_tensor)\n",
        "    # Newton's update is:  - inverse(Hessian) x gradient\n",
        "    par_tensor.data -= torch.inverse(eval_hess) @ eval_grad\n",
        "\n",
        "  return par_tensor.data.numpy()\n",
        "\n",
        "\n",
        "set_seed(2021)\n",
        "model = MLP(in_dim=784, out_dim=10, hidden_dims=[])\n",
        "# Define 2d loss objectives and surface values\n",
        "g = lambda u, v: loss_2d(copy.deepcopy(model), u, v)\n",
        "Z = np.fromiter(map(g, U.ravel(), V.ravel()), U.dtype).reshape(V.shape)\n",
        "\n",
        "best_u, best_v  = run_newton(func=g)\n",
        "\n",
        "# Initialization of the variables\n",
        "INITS = [2.5, 3.7]\n",
        "\n",
        "# Used for plotting\n",
        "LABELS = ['GD', 'Momentum']\n",
        "COLORS = ['black', 'red']\n",
        "LSTYLES = ['-', '--']\n",
        "\n",
        "\n",
        "@widgets.interact_manual\n",
        "def momentum_experiment(max_steps=widgets.IntSlider(300, 50, 500, 5),\n",
        "                        lr=widgets.FloatLogSlider(value=1e-1, min=-3, max=0.7, step=0.1),\n",
        "                        beta=widgets.FloatSlider(value=9e-1, min=0, max=1., step=0.01)\n",
        "                        ):\n",
        "\n",
        "  # Execute both optimizers\n",
        "  sgd_traj = run_optimizer(INITS, eval_fn=g, update_fn=gradient_update,\n",
        "                           max_steps=max_steps, optim_kwargs={'lr': lr})\n",
        "  mom_traj = run_optimizer(INITS, eval_fn=g, update_fn=momentum_update,\n",
        "                           max_steps=max_steps, optim_kwargs={'lr': lr, 'beta':beta})\n",
        "\n",
        "  TRAJS = [sgd_traj, mom_traj]\n",
        "\n",
        "  # Plot distances\n",
        "  fig = plt.figure(figsize=(9,4))\n",
        "  plot_param_distance(best_u, best_v, TRAJS, fig,\n",
        "                      LSTYLES, LABELS, use_log=True, y_min_v=-12.0, y_max_v=1.5)\n",
        "\n",
        "  # # Plot trajectories\n",
        "  fig = plt.figure(figsize=(12, 5))\n",
        "  ax = plot_surface(U, V, Z, fig)\n",
        "  for traj, c, label in zip(TRAJS, COLORS, LABELS):\n",
        "    ax.plot3D(*traj.T, c, linewidth=0.3, label=label)\n",
        "    ax.scatter3D(*traj.T, '.-', s=1, c=c)\n",
        "\n",
        "  # Plot optimum point\n",
        "  ax.scatter(best_u, best_v, Z.min(), marker='*', s=80, c='lime', label='Opt.');\n",
        "  lines = [Line2D([0], [0],\n",
        "                  color=c,\n",
        "                  linewidth=3,\n",
        "                  linestyle='--') for c in COLORS]\n",
        "  lines.append(Line2D([0], [0], color='lime', linewidth=0, marker='*'))\n",
        "  ax.legend(lines, LABELS + ['Optimum'], loc='right',\n",
        "            bbox_to_anchor=(.8, -0.1), ncol=len(LABELS) + 1)"
      ],
      "execution_count": 56,
      "outputs": [
        {
          "output_type": "stream",
          "text": [
            "Random seed 2021 has been set.\n"
          ],
          "name": "stdout"
        },
        {
          "output_type": "display_data",
          "data": {
            "application/vnd.jupyter.widget-view+json": {
              "model_id": "74f2d3597b3c4e7eb7d4cf937ac8d32a",
              "version_minor": 0,
              "version_major": 2
            },
            "text/plain": [
              "HBox(children=(FloatProgress(value=0.0, max=200.0), HTML(value='')))"
            ]
          },
          "metadata": {
            "tags": []
          }
        },
        {
          "output_type": "stream",
          "text": [
            "\n"
          ],
          "name": "stdout"
        },
        {
          "output_type": "display_data",
          "data": {
            "application/vnd.jupyter.widget-view+json": {
              "model_id": "5d739f7ff5b9476a92318ce4cacdec7d",
              "version_minor": 0,
              "version_major": 2
            },
            "text/plain": [
              "interactive(children=(IntSlider(value=300, description='max_steps', max=500, min=50, step=5), FloatLogSlider(v…"
            ]
          },
          "metadata": {
            "tags": []
          }
        }
      ]
    },
    {
      "cell_type": "markdown",
      "metadata": {
        "execution": {},
        "id": "vU-KfEkkMVge"
      },
      "source": [
        "## Think! 4: Momentum and oscillations\n",
        "\n",
        "- Discuss how this specific example illustrates the issue of poor conditioning in optimization? How does momentum help resolve these difficulties?\n",
        "\n",
        "- Do you see oscillations for any of these methods? Why does this happen?\n",
        "\n",
        "- Finally, tune the learning rate and momentum parameters to achieve a loss below $10^{-6}$ (for both dimensions) within 100 iterations."
      ]
    },
    {
      "cell_type": "code",
      "metadata": {
        "cellView": "form",
        "execution": {},
        "id": "yqrJD9Q2MVge",
        "colab": {
          "base_uri": "https://localhost:8080/",
          "height": 112,
          "referenced_widgets": [
            "e6c2ad47a8a64757a7d909e72b609c8c",
            "857dc638fefb471f9f5339ac4086b2b2",
            "d0d827c1cb514321aea95629e9aa8058",
            "eb40f70937cc4bc3926854d396a72cda",
            "2b1faedce629401289de1bcc0c1bd197",
            "7c32e69e94284955abe72ec4f91a7410"
          ]
        },
        "outputId": "3c242a54-519d-47f1-ea1c-a5660835784b"
      },
      "source": [
        "# @title Student Response\n",
        "from ipywidgets import widgets\n",
        "\n",
        "\n",
        "text=widgets.Textarea(\n",
        "   value='Type your answer here and click on `Submit!`',\n",
        "   placeholder='Type something',\n",
        "   description='',\n",
        "   disabled=False\n",
        ")\n",
        "\n",
        "button = widgets.Button(description=\"Submit!\")\n",
        "\n",
        "display(text,button)\n",
        "\n",
        "def on_button_clicked(b):\n",
        "   atform.add_answer('q2' , text.value)\n",
        "   print(\"Submission successful!\")\n",
        "\n",
        "\n",
        "button.on_click(on_button_clicked)"
      ],
      "execution_count": 57,
      "outputs": [
        {
          "output_type": "display_data",
          "data": {
            "application/vnd.jupyter.widget-view+json": {
              "model_id": "e6c2ad47a8a64757a7d909e72b609c8c",
              "version_minor": 0,
              "version_major": 2
            },
            "text/plain": [
              "Textarea(value='Type your answer here and click on `Submit!`', placeholder='Type something')"
            ]
          },
          "metadata": {
            "tags": []
          }
        },
        {
          "output_type": "display_data",
          "data": {
            "application/vnd.jupyter.widget-view+json": {
              "model_id": "eb40f70937cc4bc3926854d396a72cda",
              "version_minor": 0,
              "version_major": 2
            },
            "text/plain": [
              "Button(description='Submit!', style=ButtonStyle())"
            ]
          },
          "metadata": {
            "tags": []
          }
        }
      ]
    },
    {
      "cell_type": "markdown",
      "metadata": {
        "execution": {},
        "id": "fLzP5fRzMVge"
      },
      "source": [
        "[*Click for solution*](https://github.com/NeuromatchAcademy/course-content-dl/tree/main//tutorials/W1D4_Optimization/solutions/W1D4_Tutorial1_Solution_5eaa9306.py)\n",
        "\n"
      ]
    },
    {
      "cell_type": "markdown",
      "metadata": {
        "execution": {},
        "id": "9-BfxFNpMVge"
      },
      "source": [
        "---\n",
        "# Section 5: Non-convexity\n",
        "\n",
        "*Time estimate: ~30 mins*"
      ]
    },
    {
      "cell_type": "markdown",
      "metadata": {
        "execution": {},
        "id": "NvnDIKNqMVge"
      },
      "source": [
        "The introduction of even just 1 hidden layer in the neural network transforms the previous convex optimization problem into a non-convex one. And with great non-convexity, comes great responsibility... (Sorry, we couldn't help it!)\n",
        "\n",
        "**Note:** From this section onwards we will be dealing with non-convex optimization problems for the remaining of the tutorial. "
      ]
    },
    {
      "cell_type": "code",
      "metadata": {
        "cellView": "form",
        "execution": {},
        "id": "tYcLyK9jMVgf",
        "colab": {
          "base_uri": "https://localhost:8080/",
          "height": 581,
          "referenced_widgets": [
            "219b3447d2ea4d938efc8bdcfb97a64c",
            "45730b62d5cc4eb7a1050e4c0fce44e5",
            "344c75bc3f7e46cfa0a5f9865b2ed6a1",
            "b9ef4d7982884857adaa4c362cd682e1",
            "a0b5764d797c4685b8a637b1243be976",
            "f84dc1d6ed6d449aac277bd71251b3c6"
          ]
        },
        "outputId": "b5cf29ab-7557-4dfe-d4dd-f0fe866c2d2d"
      },
      "source": [
        "# @title Video 5: Overparametrization\n",
        "from ipywidgets import widgets\n",
        "\n",
        "out2 = widgets.Output()\n",
        "with out2:\n",
        "  from IPython.display import IFrame\n",
        "  class BiliVideo(IFrame):\n",
        "    def __init__(self, id, page=1, width=400, height=300, **kwargs):\n",
        "      self.id=id\n",
        "      src = \"https://player.bilibili.com/player.html?bvid={0}&page={1}\".format(id, page)\n",
        "      super(BiliVideo, self).__init__(src, width, height, **kwargs)\n",
        "\n",
        "  video = BiliVideo(id=f\"BV16h41167Jr\", width=854, height=480, fs=1)\n",
        "  print(\"Video available at https://www.bilibili.com/video/{0}\".format(video.id))\n",
        "  display(video)\n",
        "\n",
        "out1 = widgets.Output()\n",
        "with out1:\n",
        "  from IPython.display import YouTubeVideo\n",
        "  video = YouTubeVideo(id=f\"7vUpUEKKl5o\", width=854, height=480, fs=1, rel=0)\n",
        "  print(\"Video available at https://youtube.com/watch?v=\" + video.id)\n",
        "  display(video)\n",
        "\n",
        "out = widgets.Tab([out1, out2])\n",
        "out.set_title(0, 'Youtube')\n",
        "out.set_title(1, 'Bilibili')\n",
        "\n",
        "# add event to airtable\n",
        "atform.add_event(\"Video 5: Overparametrization\")\n",
        "\n",
        "display(out)"
      ],
      "execution_count": 58,
      "outputs": [
        {
          "output_type": "display_data",
          "data": {
            "application/vnd.jupyter.widget-view+json": {
              "model_id": "219b3447d2ea4d938efc8bdcfb97a64c",
              "version_minor": 0,
              "version_major": 2
            },
            "text/plain": [
              "Tab(children=(Output(), Output()), _titles={'0': 'Youtube', '1': 'Bilibili'})"
            ]
          },
          "metadata": {
            "tags": []
          }
        }
      ]
    },
    {
      "cell_type": "markdown",
      "metadata": {
        "execution": {},
        "id": "nv1NDzC6MVgf"
      },
      "source": [
        "Take a couple of minutes to play with a more complex 3D visualization of the loss landscape of a neural network on a non-convex problem. Visit https://losslandscape.com/explorer.\n",
        "\n",
        "1. Explore the features on the bottom left corner. You can see an explanation for each icon by clicking on the [i] button located on the top right corner.\n",
        "2. Use the 'gradient descent' feature to perform a thought experiment:\n",
        "    -   Choose an initialization\n",
        "    -   Choose the learning rate\n",
        "    -   Mentally formulate your hypothesis about what kind of trajectory you expect to observe \n",
        "3. Run the experiment and contrast your intuition with the observed behavior.\n",
        "4. Repeat this experiment a handful of times for several initialization/learning rate configurations\n"
      ]
    },
    {
      "cell_type": "markdown",
      "metadata": {
        "execution": {},
        "id": "eg8sbodAMVgf"
      },
      "source": [
        "## Interactive Demo 5: Overparametrization to the rescue!\n",
        "\n",
        "As you may have seen, the non-convex nature of the surface can lead the optimization process to get stuck in undesirable local-optima. There is ample empirical evidence supporting the claim that 'overparameterized' models are easier to train.\n",
        "\n",
        "We will explore this assertion in the context of our MLP training. For this, we initialize a fixed model and construct several models by small random perturbations to the original initialized weights. Now, we train each of these perturbed models and see how the loss evolves. If we were in the convex setting, we should reach very similar objective values upon convergence since all these models were very close at the beginning of training, and in convex problems, every local optimum is also a global optimum.\n",
        "\n",
        "Use the interactive plot below to visualize the loss progression for these perturbed models:\n",
        "\n",
        "1. Select different settings from the `hidden_dims` drop-down menu.\n",
        "2. Explore the effect of the number of steps and learning rate."
      ]
    },
    {
      "cell_type": "code",
      "metadata": {
        "cellView": "form",
        "execution": {},
        "id": "0LS9IP1mMVgf",
        "colab": {
          "base_uri": "https://localhost:8080/",
          "height": 177,
          "referenced_widgets": [
            "50b1b7bb7c974044bbff95ab8b93cdca",
            "9179e1afe7fd4943b45056d985ee139f",
            "e95f9f65b6e047a087e12e236c3fee76",
            "25b3323ac4da4bc795227eada842491d",
            "7b5b6bf175254bc1951c70c36dcf8ed2",
            "1296f26ff1334d27874aa6db22683496",
            "25666c6bfef1462dbda58a1df7d319e7",
            "a0f1d81ffaf64f2792ee9bd3afd5887a",
            "4a3f9b6a740b478395741682799e40a7",
            "7208fc4ed1b949ffa92e15446f441d6c",
            "924cd3380e264925b3ce2269750c4299",
            "90f894f438aa48cfa8a3dcd6789c30cf",
            "fc465b92fe0a4075a74f10de48bb3555",
            "769deed2efa04b48bb9c5a5c4096fec5",
            "6637266534e94ce894b4b5165d69bcec",
            "07aaddb91e7e44c784692a227cec011f",
            "5c715702d3e14a2d8d02cff3f4ce68f8",
            "f343023d1873475ba265cab6297459a9",
            "4bd9af1860ae44c1bf81e29356a76127"
          ]
        },
        "outputId": "6cfaab27-e45d-47be-c69b-ef2713951b7e"
      },
      "source": [
        "# @markdown Execute this cell to enable the widget!\n",
        "\n",
        "@widgets.interact_manual\n",
        "def overparam(max_steps=widgets.IntSlider(150, 50, 500, 5),\n",
        "              hidden_dims=widgets.Dropdown(options=[\"10\", \"20, 20\", \"100, 100\"],\n",
        "                                           value=\"10\"),\n",
        "              lr=widgets.FloatLogSlider(value=5e-2, min=-3, max=0, step=0.1),\n",
        "              num_inits=widgets.IntSlider(7, 5, 10, 1)):\n",
        "\n",
        "    X, y = train_set.data[subset_index, :], train_set.targets[subset_index]\n",
        "\n",
        "    hdims = [int(s) for s in hidden_dims.split(',')]\n",
        "    base_model = MLP(in_dim=784, out_dim=10, hidden_dims=hdims)\n",
        "\n",
        "    fig, axs = plt.subplots(1, 1, figsize=(5, 4))\n",
        "\n",
        "    for _ in tqdm(range(num_inits)):\n",
        "      model = copy.deepcopy(base_model)\n",
        "      random_update(model, noise_scale=2e-1)\n",
        "\n",
        "      loss_hist = np.zeros((max_steps, 2))\n",
        "      for step in range(max_steps):\n",
        "        loss = loss_fn(model(X), y)\n",
        "        gradient_update(loss, list(model.parameters()), lr=lr)\n",
        "        loss_hist[step] = np.array([step, loss.item()])\n",
        "\n",
        "      plt.plot(loss_hist[:, 0], loss_hist[:, 1])\n",
        "\n",
        "    plt.xlabel('Iteration')\n",
        "    plt.ylabel('Loss')\n",
        "    plt.ylim(0, 3)\n",
        "    plt.show()\n",
        "\n",
        "    num_params = sum([np.prod(_.shape) for _ in model.parameters()])\n",
        "    print('Number of paramaters in model:  ' + str(num_params))"
      ],
      "execution_count": 59,
      "outputs": [
        {
          "output_type": "display_data",
          "data": {
            "application/vnd.jupyter.widget-view+json": {
              "model_id": "50b1b7bb7c974044bbff95ab8b93cdca",
              "version_minor": 0,
              "version_major": 2
            },
            "text/plain": [
              "interactive(children=(IntSlider(value=150, description='max_steps', max=500, min=50, step=5), Dropdown(descrip…"
            ]
          },
          "metadata": {
            "tags": []
          }
        }
      ]
    },
    {
      "cell_type": "markdown",
      "metadata": {
        "execution": {},
        "id": "axLaNR2uMVgf"
      },
      "source": [
        "### Think! 5.1: Width and depth of the network\n",
        "\n",
        "- We see that as we increase the width/depth of the network, training becomes faster and more consistent across different initializations. What might be the reasons for this behavior? \n",
        "\n",
        "- What are some potential downsides of this approach to dealing with non-convexity? \n"
      ]
    },
    {
      "cell_type": "code",
      "metadata": {
        "cellView": "form",
        "execution": {},
        "id": "sedJJTUsMVgf",
        "colab": {
          "base_uri": "https://localhost:8080/",
          "height": 112,
          "referenced_widgets": [
            "f1f1d76d39244846a9131e5f5413ec3d",
            "ac53afb46c5247418777d979e6bd1832",
            "54c1791f15104b36a8c7c25ccd0fd6f2",
            "85bac221c7e74359ab8638b84cbfba60",
            "63dfde3e4c5347639e05b287160e4ac2",
            "55cd3b1beeff42ecb777c63c7eae479e"
          ]
        },
        "outputId": "3316035e-790a-4a8f-e056-2f572b8e702e"
      },
      "source": [
        "# @title Student Response\n",
        "from ipywidgets import widgets\n",
        "\n",
        "\n",
        "text=widgets.Textarea(\n",
        "   value='Type your answer here and click on `Submit!`',\n",
        "   placeholder='Type something',\n",
        "   description='',\n",
        "   disabled=False\n",
        ")\n",
        "\n",
        "button = widgets.Button(description=\"Submit!\")\n",
        "\n",
        "display(text,button)\n",
        "\n",
        "def on_button_clicked(b):\n",
        "   atform.add_answer('q3' , text.value)\n",
        "   print(\"Submission successful!\")"
      ],
      "execution_count": 60,
      "outputs": [
        {
          "output_type": "display_data",
          "data": {
            "application/vnd.jupyter.widget-view+json": {
              "model_id": "f1f1d76d39244846a9131e5f5413ec3d",
              "version_minor": 0,
              "version_major": 2
            },
            "text/plain": [
              "Textarea(value='Type your answer here and click on `Submit!`', placeholder='Type something')"
            ]
          },
          "metadata": {
            "tags": []
          }
        },
        {
          "output_type": "display_data",
          "data": {
            "application/vnd.jupyter.widget-view+json": {
              "model_id": "85bac221c7e74359ab8638b84cbfba60",
              "version_minor": 0,
              "version_major": 2
            },
            "text/plain": [
              "Button(description='Submit!', style=ButtonStyle())"
            ]
          },
          "metadata": {
            "tags": []
          }
        }
      ]
    },
    {
      "cell_type": "markdown",
      "metadata": {
        "execution": {},
        "id": "Y24m_bMSMVgg"
      },
      "source": [
        "[*Click for solution*](https://github.com/NeuromatchAcademy/course-content-dl/tree/main//tutorials/W1D4_Optimization/solutions/W1D4_Tutorial1_Solution_d69ca8d7.py)\n",
        "\n"
      ]
    },
    {
      "cell_type": "markdown",
      "metadata": {
        "execution": {},
        "id": "fJyUp0KbMVgg"
      },
      "source": [
        "---\n",
        "# Section 6: Full gradients are expensive\n",
        "\n",
        "*Time estimate: ~25 mins*"
      ]
    },
    {
      "cell_type": "markdown",
      "metadata": {
        "execution": {},
        "id": "_tV6zH8UMVgg"
      },
      "source": [
        "So far we have used only a small (fixed) subset of 500 training examples to perform the updates on the model parameters in our quest to minimize the loss. But what if we decided to use the training set? Do our current approach scale to datasets with tens of thousands, or millions of datapoints?\n",
        "\n",
        "In this section we explore an efficient alternative to avoid having to perform computations on all the training examples before performing a parameter update."
      ]
    },
    {
      "cell_type": "code",
      "metadata": {
        "cellView": "form",
        "execution": {},
        "id": "A4JZ3GP2MVgg",
        "colab": {
          "base_uri": "https://localhost:8080/",
          "height": 581,
          "referenced_widgets": [
            "ca297d081b584310be94e331f99ff653",
            "eb709c084a6a466490393cc05bc51237",
            "32e98f4d597e4ebc9a73a04b13f3064e",
            "ec5f9e0d362b46b88b2c827050c20013",
            "0152a531e4e540b18e5cec3b6e03ac45",
            "4d1860fdb3ef45d099a06c4b7c5f676d"
          ]
        },
        "outputId": "75e0ab45-2f11-46c3-f846-a2283e96358a"
      },
      "source": [
        "# @title Video 6: Mini-batches\n",
        "from ipywidgets import widgets\n",
        "\n",
        "out2 = widgets.Output()\n",
        "with out2:\n",
        "  from IPython.display import IFrame\n",
        "  class BiliVideo(IFrame):\n",
        "    def __init__(self, id, page=1, width=400, height=300, **kwargs):\n",
        "      self.id=id\n",
        "      src = \"https://player.bilibili.com/player.html?bvid={0}&page={1}\".format(id, page)\n",
        "      super(BiliVideo, self).__init__(src, width, height, **kwargs)\n",
        "\n",
        "  video = BiliVideo(id=f\"BV1ty4y1T7Uh\", width=854, height=480, fs=1)\n",
        "  print(\"Video available at https://www.bilibili.com/video/{0}\".format(video.id))\n",
        "  display(video)\n",
        "\n",
        "out1 = widgets.Output()\n",
        "with out1:\n",
        "  from IPython.display import YouTubeVideo\n",
        "  video = YouTubeVideo(id=f\"hbqUxpNBUGk\", width=854, height=480, fs=1, rel=0)\n",
        "  print(\"Video available at https://youtube.com/watch?v=\" + video.id)\n",
        "  display(video)\n",
        "\n",
        "out = widgets.Tab([out1, out2])\n",
        "out.set_title(0, 'Youtube')\n",
        "out.set_title(1, 'Bilibili')\n",
        "\n",
        "# add event to airtable\n",
        "atform.add_event(\"Video 6: Mini-batches\")\n",
        "\n",
        "display(out)"
      ],
      "execution_count": 61,
      "outputs": [
        {
          "output_type": "display_data",
          "data": {
            "application/vnd.jupyter.widget-view+json": {
              "model_id": "ca297d081b584310be94e331f99ff653",
              "version_minor": 0,
              "version_major": 2
            },
            "text/plain": [
              "Tab(children=(Output(), Output()), _titles={'0': 'Youtube', '1': 'Bilibili'})"
            ]
          },
          "metadata": {
            "tags": []
          }
        }
      ]
    },
    {
      "cell_type": "markdown",
      "metadata": {
        "execution": {},
        "id": "cdE14amQMVgh"
      },
      "source": [
        "## Interactive Demo 6.1: Cost of computation\n",
        "\n",
        "Evaluating a neural network is a relatively fast process. However, when repeated millions of times, the computational cost of performing forward and backward passes through the network starts to become significant.\n",
        "\n",
        "In the visualization below, we show the time (averaged over 5 runs) of computing a forward and backward pass with a changing number of input examples. Choose from the different options in the drop-down box and note how the vertical scale changes depending on the size of the network. \n",
        "\n",
        "**Remarks:** Note that the computational cost of a forward pass shows a clear linear relationship with the number of input examples, and the cost of the corresponding backward pass exhibits a similar computational complexity."
      ]
    },
    {
      "cell_type": "code",
      "metadata": {
        "cellView": "form",
        "execution": {},
        "id": "ZB35-pzaMVgh",
        "colab": {
          "base_uri": "https://localhost:8080/",
          "height": 319,
          "referenced_widgets": [
            "83b4b6536bf94df28377a56cc9e7b047",
            "2d4efee6d86c4d53b30932ebb7f1ccb7",
            "25d752e5cba941cdae599c6839147b48",
            "18e2a7f5527c4e53a44dc14360c24db9",
            "294f9ba48ac14f5d88bd0eb3416cd1ce",
            "35824c831a7540738d10ce6e0353eec2",
            "d39077f95ec84e668a46ac9eedf3967d"
          ]
        },
        "outputId": "637f4037-5fe1-4f73-9436-3715ba724b50"
      },
      "source": [
        "# @markdown Execute this cell to enable the widget!\n",
        "\n",
        "def measure_update_time(model, num_points):\n",
        "  X, y = train_set.data[:num_points], train_set.targets[:num_points]\n",
        "  start_time = time.time()\n",
        "  loss = loss_fn(model(X), y)\n",
        "  loss_time = time.time()\n",
        "  gradient_update(loss, list(model.parameters()), lr=0)\n",
        "  gradient_time = time.time()\n",
        "  return loss_time - start_time, gradient_time - loss_time\n",
        "\n",
        "\n",
        "@widgets.interact\n",
        "def computation_time(hidden_dims=widgets.Dropdown(options=[\"1\", \"100\", \"50, 50\"],\n",
        "                                                  value=\"100\")):\n",
        "\n",
        "  hdims = [int(s) for s in hidden_dims.split(',')]\n",
        "  model = MLP(in_dim=784, out_dim=10, hidden_dims=hdims)\n",
        "\n",
        "  NUM_POINTS = [1, 5, 10, 100, 200, 500, 1000, 5000, 10000, 20000, 30000, 50000]\n",
        "  times_list = []\n",
        "  for _ in range(5):\n",
        "    times_list.append(np.array([measure_update_time(model, _) for _ in NUM_POINTS]))\n",
        "\n",
        "  times = np.array(times_list).mean(axis=0)\n",
        "\n",
        "  fig, axs = plt.subplots(1, 1, figsize=(5,4))\n",
        "  plt.plot(NUM_POINTS, times[:, 0], label='Forward')\n",
        "  plt.plot(NUM_POINTS, times[:, 1], label='Backward')\n",
        "  plt.xlabel('Number of data points')\n",
        "  plt.ylabel('Seconds')\n",
        "  plt.legend()"
      ],
      "execution_count": 62,
      "outputs": [
        {
          "output_type": "display_data",
          "data": {
            "application/vnd.jupyter.widget-view+json": {
              "model_id": "83b4b6536bf94df28377a56cc9e7b047",
              "version_minor": 0,
              "version_major": 2
            },
            "text/plain": [
              "interactive(children=(Dropdown(description='hidden_dims', index=1, options=('1', '100', '50, 50'), value='100'…"
            ]
          },
          "metadata": {
            "tags": []
          }
        }
      ]
    },
    {
      "cell_type": "markdown",
      "metadata": {
        "execution": {},
        "id": "sFSIY-kNMVgh"
      },
      "source": [
        "## Coding Exercise 6: Implement minibatch sampling\n",
        "\n",
        "Complete the code in `sample_minibatch` so as to produce IID subsets of the training set of the desired size. (This is _not_ a trick question.) "
      ]
    },
    {
      "cell_type": "code",
      "metadata": {
        "execution": {},
        "id": "WEX_i8J2MVgh",
        "colab": {
          "base_uri": "https://localhost:8080/"
        },
        "outputId": "647a4366-3b94-4ea3-bafc-f89b112a2d05"
      },
      "source": [
        "def sample_minibatch(input_data, target_data, num_points=100):\n",
        "  \"\"\"Sample a minibatch of size num_point from the provided input-target data\n",
        "\n",
        "  Args:\n",
        "    input_data (tensor): Multi-dimensional tensor containing the input data\n",
        "    target_data (tensor): 1D tensor containing the class labels\n",
        "    num_points (int): Number of elements to be included in minibatch\n",
        "\n",
        "  Returns:\n",
        "    batch_inputs (tensor): Minibatch inputs\n",
        "    batch_targets (tensor): Minibatch targets\n",
        "  \"\"\"\n",
        "  #################################################\n",
        "  ## TODO for students: sample minibatch of data ##\n",
        "  # raise NotImplementedError(\"Student exercise: implement gradient update\")\n",
        "  #################################################\n",
        "  # Sample a collection of IID indices from the existing data\n",
        "  batch_indices = np.random.choice(len(input_data),num_points)\n",
        "  # Use batch_indices to extract entries from the input and target data tensors\n",
        "  batch_inputs = input_data[batch_indices,:]\n",
        "  batch_targets = target_data[batch_indices]\n",
        "\n",
        "  return batch_inputs, batch_targets\n",
        "\n",
        "# add event to airtable\n",
        "atform.add_event('Coding Exercise 6: Implement minibatch sampling')\n",
        "\n",
        "\n",
        "## Uncomment to test your function\n",
        "x_batch, y_batch = sample_minibatch(X, y, num_points=100)\n",
        "print(f\"The input shape is {x_batch.shape} and the target shape is: {y_batch.shape}\")"
      ],
      "execution_count": 63,
      "outputs": [
        {
          "output_type": "stream",
          "text": [
            "The input shape is torch.Size([100, 28, 28]) and the target shape is: torch.Size([100])\n"
          ],
          "name": "stdout"
        }
      ]
    },
    {
      "cell_type": "markdown",
      "metadata": {
        "execution": {},
        "id": "mBVaoMboMVgh"
      },
      "source": [
        "[*Click for solution*](https://github.com/NeuromatchAcademy/course-content-dl/tree/main//tutorials/W1D4_Optimization/solutions/W1D4_Tutorial1_Solution_6bf245d5.py)\n",
        "\n"
      ]
    },
    {
      "cell_type": "markdown",
      "metadata": {
        "execution": {},
        "id": "sgUS6dtwMVgi"
      },
      "source": [
        "```\n",
        "The input shape is torch.Size([100, 28, 28]) and the target shape is: torch.Size([100])\n",
        "```"
      ]
    },
    {
      "cell_type": "markdown",
      "metadata": {
        "execution": {},
        "id": "T1uqQ36bMVgi"
      },
      "source": [
        "## Interactive Demo 6.2: *Compare* different minibatch sizes\n",
        "\n",
        "What are the trade-offs induced by the choice of minibatch size? The interactive plot below shows the training evolution of a 2-hidden layer MLP with 100 hidden units in each hidden layer. Different plots correspond to a different choice of minibatch size. We have a fixed time budget for all the cases, reflected in the horizontal axes of these plots."
      ]
    },
    {
      "cell_type": "code",
      "metadata": {
        "cellView": "form",
        "execution": {},
        "id": "lr5vCOj3MVgi",
        "colab": {
          "base_uri": "https://localhost:8080/",
          "height": 146,
          "referenced_widgets": [
            "227b74c9f4334cb8a4f443f9cb91c8b4",
            "d7e06f35946247819baa64c137046b1e",
            "a67fe5fb9d3b4689b61c838c3b2812a7",
            "ffe03b08cb2c40e4906e496e996a051c",
            "54b15d1268a942eeadad013a87772bae",
            "86a314c1f0434f3c8ad8833bb957ecac",
            "50783c985f6b4e6fa69ca8ee349dbc3c",
            "4207fb767b2c45d5bf1ff2d479ae4559",
            "5c761e9547184a4a86e55ff95ccc2206",
            "23b73f1dd6df4f438444d36cf37a5408",
            "25cdf8335b614e089a1701ae17228d15",
            "3d41c233ab644fb4a77e3667c1149f2a",
            "a574d695beb3467c82fcb4d25a3b0ea4",
            "2b7fd0dfd7974012ad64079e9a760e47",
            "7fa59c64bced4b7d8e68a35087ad9fad",
            "ddb7719d92404534954d4518175d0f25"
          ]
        },
        "outputId": "8a65332a-f036-4029-aff7-bb42821fb8c7"
      },
      "source": [
        "# @markdown Execute this cell to enable the widget!\n",
        "\n",
        "@widgets.interact_manual\n",
        "def minibatch_experiment(batch_sizes='20, 250, 1000',\n",
        "                         lrs='5e-3, 5e-3, 5e-3',\n",
        "                         time_budget=widgets.Dropdown(options=[\"2.5\", \"5\", \"10\"],\n",
        "                                                      value=\"2.5\")):\n",
        "\n",
        "  batch_sizes = [int(s) for s in batch_sizes.split(',')]\n",
        "  lrs = [float(s) for s in lrs.split(',')]\n",
        "\n",
        "  LOSS_HIST = {_:[] for _ in batch_sizes}\n",
        "\n",
        "  X, y = train_set.data, train_set.targets\n",
        "  base_model = MLP(in_dim=784, out_dim=10, hidden_dims=[100, 100])\n",
        "\n",
        "  for id, batch_size in enumerate(tqdm(batch_sizes)):\n",
        "    start_time = time.time()\n",
        "    # Create a new copy of the model for each batch size\n",
        "    model = copy.deepcopy(base_model)\n",
        "    params = list(model.parameters())\n",
        "    lr = lrs[id]\n",
        "    # Fixed budget per choice of batch size\n",
        "    while (time.time() - start_time) < float(time_budget):\n",
        "      data, labels = sample_minibatch(X, y, batch_size)\n",
        "      loss = loss_fn(model(data), labels)\n",
        "      gradient_update(loss, params, lr=lr)\n",
        "      LOSS_HIST[batch_size].append([time.time() - start_time,\n",
        "                                    loss.item()])\n",
        "\n",
        "  fig, axs = plt.subplots(1, len(batch_sizes), figsize=(10, 3))\n",
        "  for ax, batch_size in zip(axs, batch_sizes):\n",
        "    plot_data = np.array(LOSS_HIST[batch_size])\n",
        "    ax.plot(plot_data[:, 0], plot_data[:, 1], label=batch_size,\n",
        "            alpha=0.8)\n",
        "    ax.set_title('Batch size: ' + str(batch_size))\n",
        "    ax.set_xlabel('Seconds')\n",
        "    ax.set_ylabel('Loss')\n",
        "  plt.show()"
      ],
      "execution_count": 64,
      "outputs": [
        {
          "output_type": "display_data",
          "data": {
            "application/vnd.jupyter.widget-view+json": {
              "model_id": "227b74c9f4334cb8a4f443f9cb91c8b4",
              "version_minor": 0,
              "version_major": 2
            },
            "text/plain": [
              "interactive(children=(Text(value='20, 250, 1000', description='batch_sizes'), Text(value='5e-3, 5e-3, 5e-3', d…"
            ]
          },
          "metadata": {
            "tags": []
          }
        }
      ]
    },
    {
      "cell_type": "markdown",
      "metadata": {
        "execution": {},
        "id": "andBowPDMVgi"
      },
      "source": [
        "**Remarks:** SGD works! We have an algorithm that can be applied (with the due precautions) to learn datasets of arbitrary size. \n",
        "\n",
        "However, **note the diference in the vertical scale** across the plots above. When using a larger minibatch, we can perform fewer parameter updates as the forward and backward passes are more expensive.\n",
        "\n",
        "This highlights the interplay between the minibatch size and the learning rate: when our minibatch is larger, we have a more confident estimator of the direction to move, and thus can afford a larger learning rate. On the other hand, extremely small minibatches are very fast computationally but are not representative of the data distribution and yield estimations of the gradient with high variance.\n",
        "\n",
        "We encourage you to tune the value of the learning rate for each of the minibatch sizes in the previous demo, to achieve a training loss steadily below 0.5 within 5 seconds."
      ]
    },
    {
      "cell_type": "markdown",
      "metadata": {
        "execution": {},
        "id": "_P2NC_A9MVgi"
      },
      "source": [
        "---\n",
        "# Section 7: Adaptive methods\n",
        "\n",
        "*Time estimate: ~25 mins*"
      ]
    },
    {
      "cell_type": "markdown",
      "metadata": {
        "execution": {},
        "id": "23gS9bo0MVgj"
      },
      "source": [
        "As of now, you should be aware that there are many knobs to turn when working on a machine learning problem. Some of these relate to the optimization algorithm, to the choice of model, or to the objective to minimize. Here are some prototypical examples:\n",
        "\n",
        "- Problem: loss function, regularization coefficients (Day 5)\n",
        "- Model: architecture, activations function\n",
        "- Optimizer: learning rate, batch size, momentum coefficient\n",
        "\n",
        "We concentrate on the choices that are directly related with optimization. In particular, we will explore some _automatic_ methods for setting the learning rate, in a way that fixes the poor-conditioning problem and is robust across different problems."
      ]
    },
    {
      "cell_type": "code",
      "metadata": {
        "cellView": "form",
        "execution": {},
        "id": "TOxU3Rj8MVgj",
        "colab": {
          "base_uri": "https://localhost:8080/",
          "height": 581,
          "referenced_widgets": [
            "9f75778137ca4c8995c8e820689d9727",
            "226872e4f95948a5afa4579aedd6766e",
            "06d1f5260f934919a5a3bc2f505c6365",
            "f201914f365a4895bf74b92e655c4841",
            "1f5940926c564696ac8e1eb18a8b8b8f",
            "add01495478247e19dc5264f2d707b36"
          ]
        },
        "outputId": "69d784d9-1fae-4e21-d707-386fab970bbb"
      },
      "source": [
        "# @title Video 7: Adaptive Methods\n",
        "from ipywidgets import widgets\n",
        "\n",
        "out2 = widgets.Output()\n",
        "with out2:\n",
        "  from IPython.display import IFrame\n",
        "  class BiliVideo(IFrame):\n",
        "    def __init__(self, id, page=1, width=400, height=300, **kwargs):\n",
        "      self.id=id\n",
        "      src = \"https://player.bilibili.com/player.html?bvid={0}&page={1}\".format(id, page)\n",
        "      super(BiliVideo, self).__init__(src, width, height, **kwargs)\n",
        "\n",
        "  video = BiliVideo(id=f\"BV1eq4y1W7JG\", width=854, height=480, fs=1)\n",
        "  print(\"Video available at https://www.bilibili.com/video/{0}\".format(video.id))\n",
        "  display(video)\n",
        "\n",
        "out1 = widgets.Output()\n",
        "with out1:\n",
        "  from IPython.display import YouTubeVideo\n",
        "  video = YouTubeVideo(id=f\"Zr6r2kfmQUM\", width=854, height=480, fs=1, rel=0)\n",
        "  print(\"Video available at https://youtube.com/watch?v=\" + video.id)\n",
        "  display(video)\n",
        "\n",
        "out = widgets.Tab([out1, out2])\n",
        "out.set_title(0, 'Youtube')\n",
        "out.set_title(1, 'Bilibili')\n",
        "\n",
        "# add event to airtable\n",
        "atform.add_event('Video 7: Adaptive Methods')\n",
        "\n",
        "display(out)"
      ],
      "execution_count": 65,
      "outputs": [
        {
          "output_type": "display_data",
          "data": {
            "application/vnd.jupyter.widget-view+json": {
              "model_id": "9f75778137ca4c8995c8e820689d9727",
              "version_minor": 0,
              "version_major": 2
            },
            "text/plain": [
              "Tab(children=(Output(), Output()), _titles={'0': 'Youtube', '1': 'Bilibili'})"
            ]
          },
          "metadata": {
            "tags": []
          }
        }
      ]
    },
    {
      "cell_type": "markdown",
      "metadata": {
        "execution": {},
        "id": "rzOjxLr6MVgj"
      },
      "source": [
        "## Coding Exercise 7: Implement RMSprop\n",
        "\n",
        "In this exercise you will implement the update of the RMSprop optimizer:\n",
        "\n",
        "\\begin{align}\n",
        "v_{t} &= \\alpha v_{t-1} + (1 - \\alpha) \\nabla J(w_t)^2 \\\\ \\\\\n",
        "w_{t+1} &= w_t - \\eta \\frac{\\nabla J(w_t)}{\\sqrt{v_t + \\epsilon}}\n",
        "\\end{align}\n",
        "\n",
        "where the non-standard operations (division of two vectors, squaring a vector, etc) are to be interpreted as element-wise operations, i.e., the operation is applied to each (pair of) entry[ies] of the vector(s) considered as real number(s).\n",
        "\n",
        "Here, the $\\epsilon$ hyperparameter provides numerical estability to the algorithm, by preventing the learning rate to become too big when $v_t$ is small. Typically, we set $\\epsilon$ to a default small value, like $10^{-8}$.  "
      ]
    },
    {
      "cell_type": "code",
      "metadata": {
        "execution": {},
        "id": "nBYipZe6MVgj",
        "colab": {
          "base_uri": "https://localhost:8080/"
        },
        "outputId": "8086204c-6b40-40b2-c207-d54b13c08789"
      },
      "source": [
        "def rmsprop_update(loss, params, grad_sq, lr=1e-3, alpha=0.8, epsilon=1e-8):\n",
        "  \"\"\"Perform an RMSprop update on a collection of parameters\n",
        "\n",
        "  Args:\n",
        "    loss (tensor): A scalar tensor containing the loss whose gradient will be computed\n",
        "    params (iterable): Collection of parameters with respect to which we compute gradients\n",
        "    grad_sq (iterable): Moving average of squared gradients\n",
        "    lr (float): Scalar specifying the learning rate or step-size for the update\n",
        "    alpha (float): Moving average parameter\n",
        "    epsilon (float): for numerical estability\n",
        "  \"\"\"\n",
        "  # Clear up gradients as Pytorch automatically accumulates gradients from\n",
        "  # successive backward calls\n",
        "  zero_grad(params)\n",
        "  # Compute gradients on given objective\n",
        "  loss.backward()\n",
        "\n",
        "  with torch.no_grad():\n",
        "    for (par, gsq) in zip(params, grad_sq):\n",
        "      #################################################\n",
        "      ## TODO for students: update the value of the parameter ##\n",
        "      # Use gsq.data and par.grad\n",
        "      # raise NotImplementedError(\"Student exercise: implement gradient update\")\n",
        "      #################################################\n",
        "      # Update estimate of gradient variance\n",
        "      gsq.data = alpha * gsq.data + (1 - alpha) * par.grad**2\n",
        "      # Update parameters\n",
        "      par.data -=  lr * (par.grad / (epsilon + gsq.data)**0.5)\n",
        "\n",
        "\n",
        "# add event to airtable\n",
        "atform.add_event('Coding Exercise 7: Implement RMSprop')\n",
        "\n",
        "\n",
        "set_seed(seed=SEED)\n",
        "model3 = MLP(in_dim=784, out_dim=10, hidden_dims=[])\n",
        "print('\\n The model3 parameters before the update are: \\n')\n",
        "print_params(model3)\n",
        "loss = loss_fn(model3(X), y)\n",
        "# Intialize the moving average of squared gradients\n",
        "grad_sq = [1e-6*i for i in list(model3.parameters())]\n",
        "\n",
        "\n",
        "\n",
        "## Uncomment below to test your function\n",
        "rmsprop_update(loss, list(model3.parameters()), grad_sq=grad_sq, lr=1e-3)\n",
        "print('\\n The model3 parameters after the update are: \\n')\n",
        "print_params(model3)"
      ],
      "execution_count": 66,
      "outputs": [
        {
          "output_type": "stream",
          "text": [
            "Random seed 2021 has been set.\n",
            "\n",
            " The model3 parameters before the update are: \n",
            "\n",
            "main.0.weight tensor([[-0.0264,  0.0010,  0.0173,  ...,  0.0297,  0.0278, -0.0221],\n",
            "        [-0.0040, -0.0295, -0.0086,  ..., -0.0070,  0.0254, -0.0233],\n",
            "        [ 0.0240, -0.0231,  0.0342,  ...,  0.0124,  0.0270, -0.0180],\n",
            "        ...,\n",
            "        [-0.0005,  0.0157,  0.0111,  ...,  0.0144, -0.0301, -0.0144],\n",
            "        [ 0.0181,  0.0303,  0.0255,  ..., -0.0110, -0.0175,  0.0205],\n",
            "        [ 0.0208, -0.0353, -0.0183,  ..., -0.0271,  0.0099,  0.0003]])\n",
            "main.0.bias tensor([-0.0290, -0.0033,  0.0100, -0.0320,  0.0022,  0.0221,  0.0307,  0.0243,\n",
            "         0.0159, -0.0064])\n",
            "\n",
            " The model3 parameters after the update are: \n",
            "\n",
            "main.0.weight tensor([[-0.0240,  0.0031,  0.0193,  ...,  0.0316,  0.0297, -0.0198],\n",
            "        [-0.0063, -0.0318, -0.0109,  ..., -0.0093,  0.0232, -0.0255],\n",
            "        [ 0.0218, -0.0253,  0.0320,  ...,  0.0102,  0.0248, -0.0203],\n",
            "        ...,\n",
            "        [-0.0027,  0.0136,  0.0089,  ...,  0.0123, -0.0324, -0.0166],\n",
            "        [ 0.0159,  0.0281,  0.0233,  ..., -0.0133, -0.0197,  0.0182],\n",
            "        [ 0.0186, -0.0376, -0.0205,  ..., -0.0293,  0.0077, -0.0019]])\n",
            "main.0.bias tensor([-0.0313, -0.0011,  0.0122, -0.0342,  0.0045,  0.0199,  0.0329,  0.0265,\n",
            "         0.0182, -0.0041])\n"
          ],
          "name": "stdout"
        }
      ]
    },
    {
      "cell_type": "markdown",
      "metadata": {
        "execution": {},
        "id": "b57yhLhwMVgj"
      },
      "source": [
        "[*Click for solution*](https://github.com/NeuromatchAcademy/course-content-dl/tree/main//tutorials/W1D4_Optimization/solutions/W1D4_Tutorial1_Solution_b4a7e579.py)\n",
        "\n"
      ]
    },
    {
      "cell_type": "markdown",
      "metadata": {
        "execution": {},
        "id": "Z5rDa7EjMVgk"
      },
      "source": [
        "```\n",
        " The model3 parameters after the update are: \n",
        "\n",
        "main.0.weight tensor([[-0.0240,  0.0031,  0.0193,  ...,  0.0316,  0.0297, -0.0198],\n",
        "        [-0.0063, -0.0318, -0.0109,  ..., -0.0093,  0.0232, -0.0255],\n",
        "        [ 0.0218, -0.0253,  0.0320,  ...,  0.0102,  0.0248, -0.0203],\n",
        "        ...,\n",
        "        [-0.0027,  0.0136,  0.0089,  ...,  0.0123, -0.0324, -0.0166],\n",
        "        [ 0.0159,  0.0281,  0.0233,  ..., -0.0133, -0.0197,  0.0182],\n",
        "        [ 0.0186, -0.0376, -0.0205,  ..., -0.0293,  0.0077, -0.0019]])\n",
        "main.0.bias tensor([-0.0313, -0.0011,  0.0122, -0.0342,  0.0045,  0.0199,  0.0329,  0.0265,\n",
        "         0.0182, -0.0041])\n",
        "```"
      ]
    },
    {
      "cell_type": "markdown",
      "metadata": {
        "execution": {},
        "id": "_FitMUqUMVgk"
      },
      "source": [
        "## Interactive Demo 7: Compare optimizers\n",
        "\n",
        "Below, we compare your implementations of SGD, momentum and RMSprop. If you have successfully coded all the exercises so far: congrats! You are now *in the know* of some of the most commonly used and powerful tools of optimization for deep learning. "
      ]
    },
    {
      "cell_type": "code",
      "metadata": {
        "cellView": "form",
        "execution": {},
        "id": "CA0_kDA6MVgk",
        "colab": {
          "base_uri": "https://localhost:8080/",
          "height": 145,
          "referenced_widgets": [
            "85235de842f544848600e6982674937c",
            "1b206212547e4bb4aca6c42d632230bc",
            "4d28f09ced61408895dbec79e5908b84",
            "8d37fe62d533434abd38b62776fb1e23",
            "0a36e4cd60134985953171a06806e33a",
            "bc86f96762134eeeb2f1802ad15098f0",
            "3832942bc56d44c7a0862d9386601ad6",
            "26861dddd76e40439380690c6fc096f2",
            "82d79e2a359c4b8c81afb366d16ac8c8",
            "b5a78c624ad346ddb19a740cd1481238",
            "c384b5169f6b46eb9e841904a730f706",
            "c198c90fce9642a19fc8149eecbff259",
            "bf499f57c35b48138e2c3771ffaea939",
            "14544e9ed4c54e38afae68914b73ab36",
            "68bf0fd977f640fba9e979d892d8159c",
            "b83ce0e267264d8a80b16e63817019a6"
          ]
        },
        "outputId": "b039c8b7-4f2d-4c9f-b777-da76ad24366c"
      },
      "source": [
        "# @markdown Execute this cell to enable the widget!\n",
        "X, y = train_set.data, train_set.targets\n",
        "\n",
        "@widgets.interact_manual\n",
        "def compare_optimizers(\n",
        "    batch_size=(25, 250, 5),\n",
        "    lr=widgets.FloatLogSlider(value=2e-3, min=-5, max=0),\n",
        "    max_steps=(50, 500, 5)):\n",
        "\n",
        "  SGD_DICT = [gradient_update, 'SGD', 'black', '-', {'lr': lr}]\n",
        "  MOM_DICT = [momentum_update, 'Momentum', 'red', '--', {'lr': lr, 'beta': 0.9}]\n",
        "  RMS_DICT = [rmsprop_update, 'RMSprop', 'fuchsia', '-', {'lr': lr, 'alpha': 0.8}]\n",
        "\n",
        "  ALL_DICTS = [SGD_DICT, MOM_DICT, RMS_DICT]\n",
        "\n",
        "  base_model = MLP(in_dim=784, out_dim=10, hidden_dims=[100, 100])\n",
        "\n",
        "  LOSS_HIST = {}\n",
        "\n",
        "  for opt_dict in tqdm(ALL_DICTS):\n",
        "    update_fn, opt_name, color, lstyle, kwargs = opt_dict\n",
        "    LOSS_HIST[opt_name] = []\n",
        "\n",
        "    model = copy.deepcopy(base_model)\n",
        "    params = list(model.parameters())\n",
        "\n",
        "    if opt_name != 'SGD':\n",
        "      aux_tensors = [torch.zeros_like(_) for _ in params]\n",
        "\n",
        "    for step in range(max_steps):\n",
        "      data, labels = sample_minibatch(X, y, batch_size)\n",
        "      loss = loss_fn(model(data), labels)\n",
        "      if opt_name == 'SGD':\n",
        "        update_fn(loss, params, **kwargs)\n",
        "      else:\n",
        "        update_fn(loss, params, aux_tensors, **kwargs)\n",
        "      LOSS_HIST[opt_name].append(loss.item())\n",
        "\n",
        "  fig, axs = plt.subplots(1, len(ALL_DICTS), figsize=(9, 3))\n",
        "  for ax, optim_dict in zip(axs, ALL_DICTS):\n",
        "    opt_name = optim_dict[1]\n",
        "    ax.plot(range(max_steps), LOSS_HIST[opt_name], alpha=0.8)\n",
        "    ax.set_title(opt_name)\n",
        "    ax.set_xlabel('Iteration')\n",
        "    ax.set_ylabel('Loss')\n",
        "    ax.set_ylim(0, 2.5)\n",
        "  plt.show()"
      ],
      "execution_count": 67,
      "outputs": [
        {
          "output_type": "display_data",
          "data": {
            "application/vnd.jupyter.widget-view+json": {
              "model_id": "85235de842f544848600e6982674937c",
              "version_minor": 0,
              "version_major": 2
            },
            "text/plain": [
              "interactive(children=(IntSlider(value=135, description='batch_size', max=250, min=25, step=5), FloatLogSlider(…"
            ]
          },
          "metadata": {
            "tags": []
          }
        }
      ]
    },
    {
      "cell_type": "markdown",
      "metadata": {
        "execution": {},
        "id": "d-pRT7bTMVgl"
      },
      "source": [
        "### **Discussion**\n",
        "\n",
        "Tune the 3 methods above in order to make each individually excel and discuss your findings. How do the methods compare in terms of robustness to small changes of the hyperparameters? How easy was it to find a good hyperparameter configuration? "
      ]
    },
    {
      "cell_type": "markdown",
      "metadata": {
        "execution": {},
        "id": "XVhE1NmDMVgl"
      },
      "source": [
        "\n",
        "**Remarks:** Note that RMSprop is allowing us to use a 'per-dimension' learning rate _without having to tune one learning rate for each dimension **ourselves**_. The method uses information collected about the variance of the gradients throughout training to **adapt** the step size for each of the parameters automatically. The savings in tuning efforts of RMSprop over SGD or 'plain' momentum are undisputed on this task. \n",
        "\n",
        "Moreover, adaptive optimization methods are currently a highly active research domain, with many related algorithms like Adam, AMSgrad, Adagrad being used in practical application and theoretically investigated. "
      ]
    },
    {
      "cell_type": "markdown",
      "metadata": {
        "execution": {},
        "id": "o8Jo_JL2MVgl"
      },
      "source": [
        "### Locality of Gradients\n",
        "As we've seen throught this tutorial, poor conditioning can be a significant burden on convergence to an optimum while using gradient based optimization. Of the methods we've seen to deal with this issue, notice how both momentum and adaptive learning rates incorperate past gradient values into their update schemes. Why do we use past values of our loss function's gradient while updating our current MLP weights?\n",
        "\n",
        "Recall from W1D2 that the gradient of a function, $\\nabla f(w_t)$, is a **local** property and computes the direction of maximum change of $f(w_t)$ at the point $w_t$. However, when we train our MLP model we are hoping to find the __global__ optimum for our training loss. By incorperating past values of our function's gradient into our optimization schemes, we use more information about the overall shape of our function than just a single gradient alone can provide. "
      ]
    },
    {
      "cell_type": "markdown",
      "metadata": {
        "execution": {},
        "id": "FB3eh_9OMVgl"
      },
      "source": [
        "## Think! 7: Loss function and optimization\n",
        "\n",
        "Can you think of other ways we can incorperate more information about our loss function into our optimization schemes?"
      ]
    },
    {
      "cell_type": "code",
      "metadata": {
        "cellView": "form",
        "execution": {},
        "id": "2L1ZJVxzMVgn",
        "colab": {
          "base_uri": "https://localhost:8080/",
          "height": 112,
          "referenced_widgets": [
            "7dde83b6673d4d45bbc5f942918e7d37",
            "c8128dc66abf4657baf3220e3d175766",
            "24a6163527a446eea8231ec32dbb2278",
            "0db7917314d4459794817f88280054d3",
            "c80f4bd44ad748389b0a314adf9f8007",
            "e8970f60047d47e7ae50052bcc369fda"
          ]
        },
        "outputId": "c7eb2dd0-129e-4aba-ea5a-e7b800707c68"
      },
      "source": [
        "# @title Student Response\n",
        "from ipywidgets import widgets\n",
        "\n",
        "\n",
        "text=widgets.Textarea(\n",
        "   value='Type your answer here and click on `Submit!`',\n",
        "   placeholder='Type something',\n",
        "   description='',\n",
        "   disabled=False\n",
        ")\n",
        "\n",
        "button = widgets.Button(description=\"Submit!\")\n",
        "\n",
        "display(text,button)\n",
        "\n",
        "def on_button_clicked(b):\n",
        "   atform.add_answer('q4' , text.value)\n",
        "   print(\"Submission successful!\")"
      ],
      "execution_count": 68,
      "outputs": [
        {
          "output_type": "display_data",
          "data": {
            "application/vnd.jupyter.widget-view+json": {
              "model_id": "7dde83b6673d4d45bbc5f942918e7d37",
              "version_minor": 0,
              "version_major": 2
            },
            "text/plain": [
              "Textarea(value='Type your answer here and click on `Submit!`', placeholder='Type something')"
            ]
          },
          "metadata": {
            "tags": []
          }
        },
        {
          "output_type": "display_data",
          "data": {
            "application/vnd.jupyter.widget-view+json": {
              "model_id": "0db7917314d4459794817f88280054d3",
              "version_minor": 0,
              "version_major": 2
            },
            "text/plain": [
              "Button(description='Submit!', style=ButtonStyle())"
            ]
          },
          "metadata": {
            "tags": []
          }
        }
      ]
    },
    {
      "cell_type": "markdown",
      "metadata": {
        "execution": {},
        "id": "R0GNpuegMVgn"
      },
      "source": [
        "[*Click for solution*](https://github.com/NeuromatchAcademy/course-content-dl/tree/main//tutorials/W1D4_Optimization/solutions/W1D4_Tutorial1_Solution_a3f4354b.py)\n",
        "\n"
      ]
    },
    {
      "cell_type": "markdown",
      "metadata": {
        "execution": {},
        "id": "prPi6fvsMVgn"
      },
      "source": [
        "---\n",
        "# Section 8: Ethical concerns\n",
        "\n",
        "*Time estimate: ~15mins*"
      ]
    },
    {
      "cell_type": "code",
      "metadata": {
        "cellView": "form",
        "execution": {},
        "id": "HwE3CErjMVgn",
        "colab": {
          "base_uri": "https://localhost:8080/",
          "height": 581,
          "referenced_widgets": [
            "e7c40c202f854bd0b87398900fd14e11",
            "59f90500a27a4578947813a69d9fac10",
            "4b51c4d98dca4250a8c97954f740e247",
            "0dc61dbab5f24fc6987345168cd17052",
            "1f2a4034b4eb4f2f9986aee56987a53f",
            "6ad64fcde85e4e4895ad2a58aa306154"
          ]
        },
        "outputId": "d2112b87-ea6f-4fd3-e880-3206760c4e2a"
      },
      "source": [
        "# @title Video 8: Ethical concerns\n",
        "from ipywidgets import widgets\n",
        "\n",
        "out2 = widgets.Output()\n",
        "with out2:\n",
        "  from IPython.display import IFrame\n",
        "  class BiliVideo(IFrame):\n",
        "    def __init__(self, id, page=1, width=400, height=300, **kwargs):\n",
        "      self.id=id\n",
        "      src = \"https://player.bilibili.com/player.html?bvid={0}&page={1}\".format(id, page)\n",
        "      super(BiliVideo, self).__init__(src, width, height, **kwargs)\n",
        "\n",
        "  video = BiliVideo(id=f\"BV1TU4y1G7Je\", width=854, height=480, fs=1)\n",
        "  print(\"Video available at https://www.bilibili.com/video/{0}\".format(video.id))\n",
        "  display(video)\n",
        "\n",
        "out1 = widgets.Output()\n",
        "with out1:\n",
        "  from IPython.display import YouTubeVideo\n",
        "  video = YouTubeVideo(id=f\"0EthSI0cknI\", width=854, height=480, fs=1, rel=0)\n",
        "  print(\"Video available at https://youtube.com/watch?v=\" + video.id)\n",
        "  display(video)\n",
        "\n",
        "out = widgets.Tab([out1, out2])\n",
        "out.set_title(0, 'Youtube')\n",
        "out.set_title(1, 'Bilibili')\n",
        "\n",
        "# add event to airtable\n",
        "atform.add_event('Video 8: Ethical concerns')\n",
        "\n",
        "display(out)"
      ],
      "execution_count": 69,
      "outputs": [
        {
          "output_type": "display_data",
          "data": {
            "application/vnd.jupyter.widget-view+json": {
              "model_id": "e7c40c202f854bd0b87398900fd14e11",
              "version_minor": 0,
              "version_major": 2
            },
            "text/plain": [
              "Tab(children=(Output(), Output()), _titles={'0': 'Youtube', '1': 'Bilibili'})"
            ]
          },
          "metadata": {
            "tags": []
          }
        }
      ]
    },
    {
      "cell_type": "markdown",
      "metadata": {
        "execution": {},
        "id": "BgZ1ZBhyMVgo"
      },
      "source": [
        "---\n",
        "# Summary\n",
        "\n",
        "* Optimization is necessary to create Deep Learning models that are guaranteed to converge \n",
        "* Stochastic Gradient Descent and Momentum are two commonly used optimization techniques\n",
        "* RMSProp is a way of adaptive hyper parameter tuning which utilises a per-dimension learning rate\n",
        "* Poor choice of optimization objectives can lead to unforeseen, undesirable consequences \n",
        "\n",
        "If you have time left, you can read the Bonus material, were we put all together and we compare our model with a benchmark model."
      ]
    },
    {
      "cell_type": "code",
      "metadata": {
        "cellView": "form",
        "execution": {},
        "id": "wFW7HW0MMVgo",
        "colab": {
          "base_uri": "https://localhost:8080/",
          "height": 158
        },
        "outputId": "705a6413-3d07-4b07-8007-e4e668bd703e"
      },
      "source": [
        "# @title Airtable Submission Link\n",
        "from IPython import display as IPydisplay\n",
        "IPydisplay.HTML(\n",
        "   f\"\"\"\n",
        " <div>\n",
        "   <a href= \"{atform.url()}\" target=\"_blank\">\n",
        "   <img src=\"https://github.com/NeuromatchAcademy/course-content-dl/blob/main/tutorials/static/SurveyButton.png?raw=1\"\n",
        " alt=\"button link end of day Survey\" style=\"width:410px\"></a>\n",
        "   </div>\"\"\" )"
      ],
      "execution_count": 70,
      "outputs": [
        {
          "output_type": "execute_result",
          "data": {
            "text/html": [
              "\n",
              " <div>\n",
              "   <a href= \"https://portal.neuromatchacademy.org/api/redirect/to/9548a279-c9f9-4586-b89c-f0ceceba5c14?data=eyJmb3JtX2lkIjogImFwcG43VmRQUnNlU29NWEVHIiwgInRhYmxlX25hbWUiOiAiVzFENF9UMSIsICJhbnN3ZXJzIjoge30sICJldmVudHMiOiBbeyJldmVudCI6ICJpbml0IiwgInRzIjogMTYyODE3NDQwMy4wNzM0N30sIHsiZXZlbnQiOiAiVmlkZW8gMTogSW50cm9kdWN0aW9uIiwgInRzIjogMTYyODE3NDQwMy4zMzk2ODd9LCB7ImV2ZW50IjogIlZpZGVvIDI6IENhc2UgU3R1ZHkgLSBNTFAgQ2xhc3NpZmljYXRpb24iLCAidHMiOiAxNjI4MTc0NDAzLjQ0NTk3NX0sIHsiZXZlbnQiOiAiVmlkZW8gMzogT3B0aW1pemF0aW9uIG9mIGFuIE9iamVjdGl2ZSBGdW5jdGlvbiIsICJ0cyI6IDE2MjgxNzQ0MTQuODQ5MDE1N30sIHsiZXZlbnQiOiAiQ29kaW5nIEV4ZXJjaXNlIDM6IEltcGxlbWVudCBncmFkaWVudCBkZXNjZW50IiwgInRzIjogMTYyODE3NDQxNC45MDk2NzZ9LCB7ImV2ZW50IjogIlZpZGVvIDQ6IE1vbWVudHVtIiwgInRzIjogMTYyODE3NDQxNi4xMTU3MDAyfSwgeyJldmVudCI6ICJDb2RpbmcgRXhlcmNpc2UgNDogSW1wbGVtZW50IG1vbWVudHVtIiwgInRzIjogMTYyODE3NDQxNi4yODM0NDM3fSwgeyJldmVudCI6ICJWaWRlbyA1OiBPdmVycGFyYW1ldHJpemF0aW9uIiwgInRzIjogMTYyODE3NDQxOC43MDM2MzR9LCB7ImV2ZW50IjogIlZpZGVvIDY6IE1pbmktYmF0Y2hlcyIsICJ0cyI6IDE2MjgxNzQ0MTkuMDQ2NzF9LCB7ImV2ZW50IjogIkNvZGluZyBFeGVyY2lzZSA2OiBJbXBsZW1lbnQgbWluaWJhdGNoIHNhbXBsaW5nIiwgInRzIjogMTYyODE3NDQyMy41ODcyODk4fSwgeyJldmVudCI6ICJWaWRlbyA3OiBBZGFwdGl2ZSBNZXRob2RzIiwgInRzIjogMTYyODE3NDQyMy44MTg3ODQ3fSwgeyJldmVudCI6ICJDb2RpbmcgRXhlcmNpc2UgNzogSW1wbGVtZW50IFJNU3Byb3AiLCAidHMiOiAxNjI4MTc0NDIzLjg2NjI4NX0sIHsiZXZlbnQiOiAiVmlkZW8gODogRXRoaWNhbCBjb25jZXJucyIsICJ0cyI6IDE2MjgxNzQ0MjQuMTkxMTYwMn0sIHsiZXZlbnQiOiAidXJsIGdlbmVyYXRlZCIsICJ0cyI6IDE2MjgxNzQ0MjQuMjA4NjM2OH1dfQ%3D%3D\" target=\"_blank\">\n",
              "   <img src=\"https://github.com/NeuromatchAcademy/course-content-dl/blob/main/tutorials/static/SurveyButton.png?raw=1\"\n",
              " alt=\"button link end of day Survey\" style=\"width:410px\"></a>\n",
              "   </div>"
            ],
            "text/plain": [
              "<IPython.core.display.HTML object>"
            ]
          },
          "metadata": {
            "tags": []
          },
          "execution_count": 70
        }
      ]
    },
    {
      "cell_type": "markdown",
      "metadata": {
        "execution": {},
        "id": "ZG_pU3lSMVgo"
      },
      "source": [
        "---\n",
        "# Bonus: Putting it all together\n",
        "\n",
        "*Time estimate: ~40 mins*"
      ]
    },
    {
      "cell_type": "markdown",
      "metadata": {
        "execution": {},
        "id": "iN6XKGE0MVgo"
      },
      "source": [
        "We have progressively built a sophisticated optimization algorithm which is able to deal with a non-convex, poor-conditioned problem concerning tens of thousands of training examples. Now we present _you_ with a small challenge: beat us! :P\n",
        "\n",
        "Your mission is to train an MLP model that can compete with a benchmark model which we have pre-trained for you. In this section you will be able to use the full Pytorch power: loading the data, defining the model, sampling minibatches as well as Pytorch's **optimizer implementations**. \n",
        "\n",
        "There is a big engineering component behind the design of optimizers and their implementation can sometimes become tricky. So unless you are directly doing research in optimization, it's recommended to use an implementation provided by a widely reviewed open-source library."
      ]
    },
    {
      "cell_type": "code",
      "metadata": {
        "cellView": "form",
        "execution": {},
        "id": "cqhjn7KeMVgo",
        "colab": {
          "base_uri": "https://localhost:8080/",
          "height": 581,
          "referenced_widgets": [
            "a8c3d1aa388445fc963485a5d6392b8b",
            "153f0c03b6164977846a286f4290f51a",
            "db1d7f68c4314f2c92079d3e0be38cba",
            "7b8af4195d1941b0a83cb94d7e35bb77",
            "d59d78e111674c99a3184464910d2d7a",
            "dcd8433470d94d9789d93d90b4479532"
          ]
        },
        "outputId": "30754656-83ca-48f6-8b77-00853cf88b90"
      },
      "source": [
        "# @title Video 9: Putting it all together\n",
        "from ipywidgets import widgets\n",
        "\n",
        "out2 = widgets.Output()\n",
        "with out2:\n",
        "  from IPython.display import IFrame\n",
        "  class BiliVideo(IFrame):\n",
        "    def __init__(self, id, page=1, width=400, height=300, **kwargs):\n",
        "      self.id=id\n",
        "      src = \"https://player.bilibili.com/player.html?bvid={0}&page={1}\".format(id, page)\n",
        "      super(BiliVideo, self).__init__(src, width, height, **kwargs)\n",
        "\n",
        "  video = BiliVideo(id=f\"BV1MK4y1u7u2\", width=854, height=480, fs=1)\n",
        "  print(\"Video available at https://www.bilibili.com/video/{0}\".format(video.id))\n",
        "  display(video)\n",
        "\n",
        "out1 = widgets.Output()\n",
        "with out1:\n",
        "  from IPython.display import YouTubeVideo\n",
        "  video = YouTubeVideo(id=f\"DP9c13vLiOM\", width=854, height=480, fs=1, rel=0)\n",
        "  print(\"Video available at https://youtube.com/watch?v=\" + video.id)\n",
        "  display(video)\n",
        "\n",
        "out = widgets.Tab([out1, out2])\n",
        "out.set_title(0, 'Youtube')\n",
        "out.set_title(1, 'Bilibili')\n",
        "\n",
        "# add event to airtable\n",
        "atform.add_event('Video 9: Putting it all together')\n",
        "\n",
        "display(out)"
      ],
      "execution_count": 71,
      "outputs": [
        {
          "output_type": "display_data",
          "data": {
            "application/vnd.jupyter.widget-view+json": {
              "model_id": "a8c3d1aa388445fc963485a5d6392b8b",
              "version_minor": 0,
              "version_major": 2
            },
            "text/plain": [
              "Tab(children=(Output(), Output()), _titles={'0': 'Youtube', '1': 'Bilibili'})"
            ]
          },
          "metadata": {
            "tags": []
          }
        }
      ]
    },
    {
      "cell_type": "code",
      "metadata": {
        "cellView": "form",
        "execution": {},
        "id": "TTtBMLCNMVgo",
        "colab": {
          "base_uri": "https://localhost:8080/"
        },
        "outputId": "d115b3c1-29dd-4a8b-dc53-2c979cda46e3"
      },
      "source": [
        "# @title Download parameters of the benchmark model\n",
        "import requests\n",
        "\n",
        "fname = 'benchmark_model.pt'\n",
        "url = \"https://osf.io/sj4e8/download\"\n",
        "r = requests.get(url, allow_redirects=True)\n",
        "with open(fname, 'wb') as fh:\n",
        "  fh.write(r.content)\n",
        "\n",
        "# Load the benchmark model's parameters\n",
        "DEVICE = set_device()\n",
        "if DEVICE == \"cuda\":\n",
        "  benchmark_state_dict = torch.load(fname)\n",
        "else:\n",
        "  benchmark_state_dict = torch.load(fname, map_location=torch.device('cpu'))"
      ],
      "execution_count": 28,
      "outputs": [
        {
          "output_type": "stream",
          "text": [
            "GPU is enabled in this notebook.\n"
          ],
          "name": "stdout"
        }
      ]
    },
    {
      "cell_type": "code",
      "metadata": {
        "execution": {},
        "id": "38bXDxnFMVgp"
      },
      "source": [
        "# Create MLP object and update weights with those of saved model\n",
        "benchmark_model = MLP(in_dim=784, out_dim=10,\n",
        "                      hidden_dims=[200, 100, 50]).to(DEVICE)\n",
        "benchmark_model.load_state_dict(benchmark_state_dict)\n",
        "\n",
        "\n",
        "# Define helper function to evaluate models\n",
        "def eval_model(model, data_loader, num_batches=np.inf, device='cpu'):\n",
        "\n",
        "  loss_log, acc_log = [], []\n",
        "  model.to(device=device)\n",
        "\n",
        "  # We are just evaluating the model, no need to compute gradients\n",
        "  with torch.no_grad():\n",
        "    for batch_id, batch in enumerate(data_loader):\n",
        "      # If we only evaluate a number of batches, stop after we reach that number\n",
        "      if batch_id > num_batches:\n",
        "        break\n",
        "      # Extract minibatch data\n",
        "      data, labels = batch[0].to(device), batch[1].to(device)\n",
        "      # Evaluate model and loss on minibatch\n",
        "      preds = model(data)\n",
        "      loss_log.append(loss_fn(preds, labels).item())\n",
        "      acc_log.append(torch.mean(1. * (preds.argmax(dim=1) == labels)).item())\n",
        "\n",
        "  return np.mean(loss_log), np.mean(acc_log)"
      ],
      "execution_count": 72,
      "outputs": []
    },
    {
      "cell_type": "markdown",
      "metadata": {
        "execution": {},
        "id": "d7IMEThjMVgp"
      },
      "source": [
        "We define an optimizer in the following steps:\n",
        "\n",
        "1. Load  the corresponding class that implements the parameter updates and other internal management activities, including:\n",
        "    - create auxiliary variables,\n",
        "    - update moving averages,\n",
        "    - adjust learning rate.\n",
        "2. Pass the parameters of the Pytorch model that the optimizer has control over. Note that different parameter groups can potentially be controlled by different optimizers.\n",
        "3. Specify hyperparameters, including learning rate, momentum, moving average factors, etc.\n",
        "\n"
      ]
    },
    {
      "cell_type": "markdown",
      "metadata": {
        "execution": {},
        "id": "WhSAPef0MVgp"
      },
      "source": [
        "## Exercise Bonus: Train your own model\n",
        "\n",
        "Now, train the model with your preferred optimizer and find a good combination of hyperparameter settings."
      ]
    },
    {
      "cell_type": "code",
      "metadata": {
        "execution": {},
        "id": "nZECKEG1MVgp"
      },
      "source": [
        "#################################################\n",
        "## TODO for students: adjust training settings ##\n",
        "\n",
        "# The three parameters below are in your full control\n",
        "MAX_EPOCHS = 2  # select number of epochs to train\n",
        "LR = 1e-5  # choose the step size\n",
        "BATCH_SIZE = 64  # number of examples per minibatch\n",
        "\n",
        "# Define the model and associated optimizer -- you may change its architecture!\n",
        "model = MLP(in_dim=784, out_dim=10, hidden_dims=[200, 100, 50]).to(DEVICE)\n",
        "\n",
        "# You can take your pick from many different optimizers\n",
        "# Check the optimizer documentation and hyperparameter meaning before using!\n",
        "# More details on Pytorch optimizers: https://pytorch.org/docs/stable/optim.html\n",
        "# optimizer = torch.optim.SGD(model.parameters(), lr=LR, momentum=0.9)\n",
        "# optimizer = torch.optim.RMSprop(model.parameters(), lr=LR, alpha=0.99)\n",
        "# optimizer = torch.optim.Adagrad(model.parameters(), lr=LR)\n",
        "optimizer = torch.optim.Adam(model.parameters(), lr=LR)\n",
        "#################################################"
      ],
      "execution_count": 73,
      "outputs": []
    },
    {
      "cell_type": "code",
      "metadata": {
        "execution": {},
        "id": "ZOcjQmNfMVgp",
        "colab": {
          "base_uri": "https://localhost:8080/",
          "height": 306,
          "referenced_widgets": [
            "28fe54d956bb4ad1bbf701e0705a8d2b",
            "5254352a72484032b7e99116ad328774",
            "fde371e3186649a6ac1cd61c1903c60f",
            "c87c57afc6b549dcb05f9da5bb112cec",
            "93036b0e3c00483a8bba21c94117bca9",
            "7c15284ec19e447eb7fc65b8aaece535",
            "db9fe8bf0d664471a0a0a48d1a55894e",
            "b733343f3e3f4946a68314cd047f9859"
          ]
        },
        "outputId": "c052fc0f-7c5a-422a-e8cf-4f3110b5ceef"
      },
      "source": [
        "set_seed(seed=SEED)\n",
        "# Print trainig stats every LOG_FREQ minibatches\n",
        "LOG_FREQ = 200\n",
        "# Frequency for evaluating the validation metrics\n",
        "VAL_FREQ = 200\n",
        "# Load data using a Pytorch Dataset\n",
        "train_set_orig, test_set_orig = load_mnist_data(change_tensors=False)\n",
        "\n",
        "# We separate 10,000 training samples to create a validation set\n",
        "train_set_orig, val_set_orig = torch.utils.data.random_split(train_set, [50000, 10000])\n",
        "\n",
        "# Create the corresponding DataLoaders for training and test\n",
        "g_seed = torch.Generator()\n",
        "g_seed.manual_seed(SEED)\n",
        "\n",
        "train_loader = torch.utils.data.DataLoader(train_set_orig,\n",
        "                                           shuffle=True,\n",
        "                                           batch_size=BATCH_SIZE,\n",
        "                                           worker_init_fn=seed_worker,\n",
        "                                           generator=g_seed)\n",
        "val_loader = torch.utils.data.DataLoader(val_set_orig,\n",
        "                                         shuffle=True,\n",
        "                                         batch_size=256,\n",
        "                                         worker_init_fn=seed_worker,\n",
        "                                         generator=g_seed)\n",
        "test_loader = torch.utils.data.DataLoader(test_set_orig,\n",
        "                                          batch_size=256,\n",
        "                                          worker_init_fn=seed_worker,\n",
        "                                          generator=g_seed)\n",
        "\n",
        "# Run training\n",
        "metrics = {'train_loss':[],\n",
        "           'train_acc':[],\n",
        "           'val_loss':[],\n",
        "           'val_acc':[],\n",
        "           'val_idx':[]}\n",
        "\n",
        "step_idx = 0\n",
        "for epoch in tqdm(range(MAX_EPOCHS)):\n",
        "\n",
        "  running_loss, running_acc = 0., 0.\n",
        "\n",
        "  for batch_id, batch in enumerate(train_loader):\n",
        "    step_idx += 1\n",
        "    # Extract minibatch data and labels\n",
        "    data, labels = batch[0].to(DEVICE), batch[1].to(DEVICE)\n",
        "    # Just like before, refresh gradient accumulators.\n",
        "    # Note that this is now a method of the optimizer.\n",
        "    optimizer.zero_grad()\n",
        "    # Evaluate model and loss on minibatch\n",
        "    preds = model(data)\n",
        "    loss = loss_fn(preds, labels)\n",
        "    acc = torch.mean(1.0 * (preds.argmax(dim=1) == labels))\n",
        "    # Compute gradients\n",
        "    loss.backward()\n",
        "    # Update parameters\n",
        "    # Note how all the magic in the update of the parameters is encapsulated by\n",
        "    # the optimizer class.\n",
        "    optimizer.step()\n",
        "    # Log metrics for plotting\n",
        "    metrics['train_loss'].append(loss.cpu().item())\n",
        "    metrics['train_acc'].append(acc.cpu().item())\n",
        "\n",
        "    if batch_id % VAL_FREQ == (VAL_FREQ - 1):\n",
        "      # Get an estimate of the validation accuracy with 100 batches\n",
        "      val_loss, val_acc = eval_model(model, val_loader,\n",
        "                                     num_batches=100,\n",
        "                                     device=DEVICE)\n",
        "      metrics['val_idx'].append(step_idx)\n",
        "      metrics['val_loss'].append(val_loss)\n",
        "      metrics['val_acc'].append(val_acc)\n",
        "\n",
        "      print(f\"[VALID] Epoch {epoch + 1} - Batch {batch_id + 1} - \"\n",
        "            f\"Loss: {val_loss:.3f} - Acc: {100*val_acc:.3f}%\")\n",
        "\n",
        "    # print statistics\n",
        "    running_loss += loss.cpu().item()\n",
        "    running_acc += acc.cpu().item()\n",
        "    # Print every LOG_FREQ minibatches\n",
        "    if batch_id % LOG_FREQ == (LOG_FREQ-1):\n",
        "      print(f\"[TRAIN] Epoch {epoch + 1} - Batch {batch_id + 1} - \"\n",
        "            f\"Loss: {running_loss / LOG_FREQ:.3f} - \"\n",
        "            f\"Acc: {100 * running_acc / LOG_FREQ:.3f}%\")\n",
        "\n",
        "      running_loss, running_acc = 0., 0."
      ],
      "execution_count": 74,
      "outputs": [
        {
          "output_type": "stream",
          "text": [
            "Random seed 2021 has been set.\n"
          ],
          "name": "stdout"
        },
        {
          "output_type": "display_data",
          "data": {
            "application/vnd.jupyter.widget-view+json": {
              "model_id": "28fe54d956bb4ad1bbf701e0705a8d2b",
              "version_minor": 0,
              "version_major": 2
            },
            "text/plain": [
              "HBox(children=(FloatProgress(value=0.0, max=2.0), HTML(value='')))"
            ]
          },
          "metadata": {
            "tags": []
          }
        },
        {
          "output_type": "stream",
          "text": [
            "[VALID] Epoch 1 - Batch 200 - Loss: 2.298 - Acc: 10.205%\n",
            "[TRAIN] Epoch 1 - Batch 200 - Loss: 2.300 - Acc: 10.688%\n",
            "[VALID] Epoch 1 - Batch 400 - Loss: 2.292 - Acc: 14.141%\n",
            "[TRAIN] Epoch 1 - Batch 400 - Loss: 2.296 - Acc: 12.703%\n",
            "[VALID] Epoch 1 - Batch 600 - Loss: 2.284 - Acc: 18.896%\n",
            "[TRAIN] Epoch 1 - Batch 600 - Loss: 2.288 - Acc: 16.570%\n",
            "[VALID] Epoch 2 - Batch 200 - Loss: 2.254 - Acc: 20.537%\n",
            "[TRAIN] Epoch 2 - Batch 200 - Loss: 2.263 - Acc: 20.641%\n",
            "[VALID] Epoch 2 - Batch 400 - Loss: 2.226 - Acc: 20.723%\n",
            "[TRAIN] Epoch 2 - Batch 400 - Loss: 2.243 - Acc: 20.500%\n",
            "[VALID] Epoch 2 - Batch 600 - Loss: 2.192 - Acc: 19.785%\n",
            "[TRAIN] Epoch 2 - Batch 600 - Loss: 2.210 - Acc: 19.891%\n",
            "\n"
          ],
          "name": "stdout"
        }
      ]
    },
    {
      "cell_type": "code",
      "metadata": {
        "execution": {},
        "id": "lUkXxs_EMVgq",
        "colab": {
          "base_uri": "https://localhost:8080/",
          "height": 287
        },
        "outputId": "84a16600-c558-43b5-ece7-ad65bd529792"
      },
      "source": [
        "fig, ax = plt.subplots(1, 2, figsize=(10, 4))\n",
        "\n",
        "ax[0].plot(range(len(metrics['train_loss'])), metrics['train_loss'],\n",
        "           alpha=0.8, label='Train')\n",
        "ax[0].plot(metrics['val_idx'], metrics['val_loss'], label='Valid')\n",
        "ax[0].set_xlabel('Iteration')\n",
        "ax[0].set_ylabel('Loss')\n",
        "ax[0].legend()\n",
        "\n",
        "ax[1].plot(range(len(metrics['train_acc'])), metrics['train_acc'],\n",
        "           alpha=0.8, label='Train')\n",
        "ax[1].plot(metrics['val_idx'], metrics['val_acc'], label='Valid')\n",
        "ax[1].set_xlabel('Iteration')\n",
        "ax[1].set_ylabel('Accuracy')\n",
        "ax[1].legend()\n",
        "plt.tight_layout()\n",
        "plt.show()"
      ],
      "execution_count": 75,
      "outputs": [
        {
          "output_type": "display_data",
          "data": {
            "image/png": "[encoded data removed]",
            "text/plain": [
              "<Figure size 720x288 with 2 Axes>"
            ]
          },
          "metadata": {
            "tags": [],
            "image/png": {
              "width": 701,
              "height": 270
            },
            "needs_background": "light"
          }
        }
      ]
    },
    {
      "cell_type": "markdown",
      "metadata": {
        "execution": {},
        "id": "0b-UHL2NMVgq"
      },
      "source": [
        "## Think! Bonus: Metrics\n",
        "\n",
        "Which metric did you optimize when searching for the right configuration? The training set loss? Accuracy? Validation/test set metrics? Why? Discuss!"
      ]
    },
    {
      "cell_type": "markdown",
      "metadata": {
        "execution": {},
        "id": "HJlq0DwEMVgq"
      },
      "source": [
        "[*Click for solution*](https://github.com/NeuromatchAcademy/course-content-dl/tree/main//tutorials/W1D4_Optimization/solutions/W1D4_Tutorial1_Solution_093a66ad.py)\n",
        "\n"
      ]
    },
    {
      "cell_type": "markdown",
      "metadata": {
        "execution": {},
        "id": "ftjkoOKiMVgq"
      },
      "source": [
        "### Evaluation\n",
        "\n",
        "We _finally_ can evaluate and compare the performance of the models on previously unseen examples. \n",
        "\n",
        "Which model would you keep? (\\*drum roll*)    "
      ]
    },
    {
      "cell_type": "code",
      "metadata": {
        "execution": {},
        "id": "qpTVE41nMVgr",
        "colab": {
          "base_uri": "https://localhost:8080/"
        },
        "outputId": "c719865d-5b0d-43d4-ae3b-3eeddee5a0e9"
      },
      "source": [
        "print('Your model...')\n",
        "train_loss, train_accuracy = eval_model(my_model, train_loader, device=DEVICE)\n",
        "test_loss, test_accuracy = eval_model(my_model, test_loader, device=DEVICE)\n",
        "print(f'Train Loss {train_loss:.3f} / Test Loss {test_loss:.3f}')\n",
        "print(f'Train Accuracy {100*train_accuracy:.3f}% / Test Accuracy {100*test_accuracy:.3f}%')\n",
        "\n",
        "print('\\nBenchmark model')\n",
        "train_loss, train_accuracy = eval_model(benchmark_model, train_loader, device=DEVICE)\n",
        "test_loss, test_accuracy = eval_model(benchmark_model, test_loader, device=DEVICE)\n",
        "print(f'Train Loss {train_loss:.3f} / Test Loss {test_loss:.3f}')\n",
        "print(f'Train Accuracy {100*train_accuracy:.3f}% / Test Accuracy {100*test_accuracy:.3f}%')"
      ],
      "execution_count": 76,
      "outputs": [
        {
          "output_type": "stream",
          "text": [
            "Your model...\n",
            "Train Loss 4.198 / Test Loss 0.479\n",
            "Train Accuracy 9.765% / Test Accuracy 85.400%\n",
            "\n",
            "Benchmark model\n",
            "Train Loss 3.299 / Test Loss 0.025\n",
            "Train Accuracy 8.322% / Test Accuracy 99.316%\n"
          ],
          "name": "stdout"
        }
      ]
    }
  ]
}